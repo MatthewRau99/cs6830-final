{
 "cells": [
  {
   "attachments": {},
   "cell_type": "markdown",
   "metadata": {},
   "source": [
    "# Feature extraction and Data Visualization\n",
    "\n",
    "ChatGPT's response when asked for traits that could be useful in identifying ai-generated articles.\n",
    "\n",
    "1)  Average sentence length: AI-generated articles may have longer or shorter sentences than human-written articles on average.\n",
    "\n",
    "2)  Punctuation usage: AI-generated articles may use certain types of punctuation, such as exclamation points or ellipses, more or less frequently than human-written articles.\n",
    "\n",
    "3)  Word frequency: AI-generated articles may use certain words more or less frequently than human-written articles. For example, AI-generated articles may use more technical or jargon-y terms, or may use certain phrases or idioms less frequently.\n",
    "\n",
    "4)  Part of speech tagging: By analyzing the parts of speech used in the article (such as nouns, verbs, and adjectives), we may be able to identify patterns that are more common in AI-generated articles.\n",
    "\n",
    "5)  Named entity recognition: By analyzing the named entities (such as people, places, and organizations) mentioned in the article, we may be able to identify patterns that are more common in AI-generated articles.\n",
    "\n",
    "6)  Syntactic complexity: By analyzing the complexity of sentence structures (such as the number of dependent clauses or subordinating conjunctions used), we may be able to identify patterns that are more common in AI-generated articles.\n",
    "\n",
    "7)  Readability score: By calculating a readability score (such as the Flesch-Kincaid readability score), we may be able to identify patterns that are more common in AI-generated articles.\n"
   ]
  },
  {
   "cell_type": "code",
   "execution_count": 2,
   "metadata": {},
   "outputs": [],
   "source": [
    "import pandas as pd\n",
    "import re\n",
    "import numpy as np\n",
    "import seaborn as sns\n",
    "from matplotlib import pyplot as plt\n",
    "import string\n",
    "import scipy.stats as stats\n",
    "import nltk\n",
    "from collections import Counter\n",
    "from readability import Readability #readability"
   ]
  },
  {
   "cell_type": "code",
   "execution_count": 3,
   "metadata": {},
   "outputs": [],
   "source": [
    "df = pd.read_csv(\"final_dataset.csv\")\n",
    "df['Content'].replace('', np.nan, inplace=True)\n",
    "df['Content'] = df.Content.apply(lambda x : x.strip()) #to remove the whitespace from the beginning and at the end of the string\n",
    "df['Title'] = df.Title.apply(lambda x : x.strip())\n",
    "\n",
    "\n",
    "#drop NA values\n",
    "df = df.dropna()\n",
    "\n",
    "# Select only specific columns from the dataset\n",
    "selected_columns = ['Title', 'Content', 'Source']\n",
    "df = df[selected_columns]\n"
   ]
  },
  {
   "attachments": {},
   "cell_type": "markdown",
   "metadata": {},
   "source": [
    "## Average Sentence Length"
   ]
  },
  {
   "cell_type": "code",
   "execution_count": 4,
   "metadata": {},
   "outputs": [],
   "source": [
    "def average_sentence_length(text):\n",
    "    # Split text into sentences using regular expressions\n",
    "    sentences = re.findall(r'\\b[\\w\\s\\',-]+\\b[.?!]', text)\n",
    "    # Calculate the average sentence length\n",
    "    total_words = sum(len(sentence.split()) for sentence in sentences)\n",
    "    num_sentences = len(sentences)\n",
    "    if num_sentences > 0:\n",
    "        return total_words / num_sentences\n",
    "    else:\n",
    "        return None"
   ]
  },
  {
   "cell_type": "code",
   "execution_count": 5,
   "metadata": {},
   "outputs": [],
   "source": [
    "df['AvgSentenceLength'] = df.Content.apply(lambda x : average_sentence_length(x))"
   ]
  },
  {
   "cell_type": "code",
   "execution_count": 6,
   "metadata": {},
   "outputs": [
    {
     "name": "stdout",
     "output_type": "stream",
     "text": [
      "Mean sentence length for ai articles: 18.641647772281214, std: 3.6804967499338175\n",
      "Mean sentence length for real articles: 14.174209732215779, std: 4.342594545659541\n"
     ]
    }
   ],
   "source": [
    "ai = df[df.Source == 1]\n",
    "real = df[df.Source == 0]\n",
    "real = real.dropna()\n",
    "\n",
    "\n",
    "print(f'Mean sentence length for ai articles: {ai.AvgSentenceLength.mean()}, std: {ai.AvgSentenceLength.std()}')\n",
    "print(f'Mean sentence length for real articles: {real.AvgSentenceLength.mean()}, std: {real.AvgSentenceLength.std()}')"
   ]
  },
  {
   "cell_type": "code",
   "execution_count": 7,
   "metadata": {},
   "outputs": [
    {
     "data": {
      "text/plain": [
       "[Text(0.5, 1.0, 'Average Sentence Length of Real articles')]"
      ]
     },
     "execution_count": 7,
     "metadata": {},
     "output_type": "execute_result"
    },
    {
     "data": {
      "image/png": "[encoded data removed]",
      "text/plain": [
       "<Figure size 648x288 with 2 Axes>"
      ]
     },
     "metadata": {
      "needs_background": "light"
     },
     "output_type": "display_data"
    }
   ],
   "source": [
    "f, axes = plt.subplots(1, 2, figsize=(9,4))\n",
    "axes[0].set_xlim(5, 40)\n",
    "axes[1].set_xlim(5, 40)\n",
    "sns.histplot(ai, x='AvgSentenceLength', color=\"orchid\", ax=axes[0]).set(title='Average Sentence Length of AI articles')\n",
    "sns.histplot(real, x='AvgSentenceLength', color=\"skyblue\", ax=axes[1]).set(title='Average Sentence Length of Real articles')"
   ]
  },
  {
   "cell_type": "code",
   "execution_count": 8,
   "metadata": {},
   "outputs": [
    {
     "data": {
      "text/plain": [
       "Ttest_indResult(statistic=20.659728614011627, pvalue=7.241821797367738e-83)"
      ]
     },
     "execution_count": 8,
     "metadata": {},
     "output_type": "execute_result"
    }
   ],
   "source": [
    "real = real.dropna()\n",
    "stats.ttest_ind(ai.AvgSentenceLength, real.AvgSentenceLength)"
   ]
  },
  {
   "cell_type": "code",
   "execution_count": 9,
   "metadata": {},
   "outputs": [
    {
     "data": {
      "text/plain": [
       "PointbiserialrResult(correlation=0.485496881984959, pvalue=7.241821797363787e-83)"
      ]
     },
     "execution_count": 9,
     "metadata": {},
     "output_type": "execute_result"
    }
   ],
   "source": [
    "df = df.dropna()\n",
    "stats.pointbiserialr(df.AvgSentenceLength, df.Source)"
   ]
  },
  {
   "attachments": {},
   "cell_type": "markdown",
   "metadata": {},
   "source": [
    "## Punctuation Usage"
   ]
  },
  {
   "cell_type": "code",
   "execution_count": 10,
   "metadata": {},
   "outputs": [],
   "source": [
    "def calculate_punctuation_percentage(text):\n",
    "    # Remove all whitespace characters from the text\n",
    "    text = \"\".join(text.split())\n",
    "\n",
    "    # Calculate the length of the text and the length of the punctuation characters\n",
    "    text_length = len(text)\n",
    "    punctuation_length = len([c for c in text if c in string.punctuation])\n",
    "\n",
    "    # Calculate the percentage of the text that is punctuation\n",
    "    punctuation_percentage = (punctuation_length / text_length) * 100\n",
    "\n",
    "    return punctuation_percentage"
   ]
  },
  {
   "cell_type": "code",
   "execution_count": 11,
   "metadata": {},
   "outputs": [],
   "source": [
    "df['PunctuationPercentage'] = df.Content.apply(lambda x : calculate_punctuation_percentage(x))"
   ]
  },
  {
   "cell_type": "code",
   "execution_count": 12,
   "metadata": {},
   "outputs": [
    {
     "name": "stdout",
     "output_type": "stream",
     "text": [
      "Mean punctuation percentage for ai articles: 2.6875824691689734, std: 0.6754914892351818\n",
      "Mean punctuation percentage for real articles: 3.1053975768187243, std: 0.9493222451526528\n"
     ]
    }
   ],
   "source": [
    "ai = df[df.Source == 1]\n",
    "real = df[df.Source == 0]\n",
    "\n",
    "\n",
    "print(f'Mean punctuation percentage for ai articles: {ai.PunctuationPercentage.mean()}, std: {ai.PunctuationPercentage.std()}')\n",
    "print(f'Mean punctuation percentage for real articles: {real.PunctuationPercentage.mean()}, std: {real.PunctuationPercentage.std()}')"
   ]
  },
  {
   "cell_type": "code",
   "execution_count": 13,
   "metadata": {},
   "outputs": [
    {
     "data": {
      "text/plain": [
       "[Text(0.5, 1.0, 'Punctuation Percentage of Real articles')]"
      ]
     },
     "execution_count": 13,
     "metadata": {},
     "output_type": "execute_result"
    },
    {
     "data": {
      "image/png": "[encoded data removed]",
      "text/plain": [
       "<Figure size 648x288 with 2 Axes>"
      ]
     },
     "metadata": {
      "needs_background": "light"
     },
     "output_type": "display_data"
    }
   ],
   "source": [
    "f, axes = plt.subplots(1, 2, figsize=(9,4))\n",
    "axes[0].set_xlim(0, 9)\n",
    "axes[1].set_xlim(0, 9)\n",
    "sns.histplot(ai, x='PunctuationPercentage', color=\"orchid\", ax=axes[0]).set(title='Punctuation Percentage of AI articles')\n",
    "sns.histplot(real, x='PunctuationPercentage', color=\"skyblue\", ax=axes[1]).set(title='Punctuation Percentage of Real articles')"
   ]
  },
  {
   "cell_type": "code",
   "execution_count": 14,
   "metadata": {},
   "outputs": [
    {
     "data": {
      "text/plain": [
       "Ttest_indResult(statistic=-9.440187087908274, pvalue=1.5193954435542228e-20)"
      ]
     },
     "execution_count": 14,
     "metadata": {},
     "output_type": "execute_result"
    }
   ],
   "source": [
    "real = real.dropna()\n",
    "stats.ttest_ind(ai.PunctuationPercentage, real.PunctuationPercentage)"
   ]
  },
  {
   "cell_type": "code",
   "execution_count": 15,
   "metadata": {},
   "outputs": [
    {
     "data": {
      "text/plain": [
       "PointbiserialrResult(correlation=-0.2459585709964956, pvalue=1.5193954435539224e-20)"
      ]
     },
     "execution_count": 15,
     "metadata": {},
     "output_type": "execute_result"
    }
   ],
   "source": [
    "df = df.dropna()\n",
    "stats.pointbiserialr(df.PunctuationPercentage, df.Source)"
   ]
  },
  {
   "attachments": {},
   "cell_type": "markdown",
   "metadata": {},
   "source": [
    "### More specific punctuation"
   ]
  },
  {
   "cell_type": "code",
   "execution_count": 16,
   "metadata": {},
   "outputs": [],
   "source": [
    "def calculate_period_percentage(text):\n",
    "    # Remove all whitespace characters from the text\n",
    "    text = \"\".join(text.split())\n",
    "\n",
    "    # Calculate the length of the text and the length of the punctuation characters\n",
    "    period_length = len([c for c in text if c == '.'])\n",
    "    punctuation_length = len([c for c in text if c in string.punctuation])\n",
    "\n",
    "    # Calculate the percentage of the text that is punctuation\n",
    "    period_percentage = (period_length / punctuation_length) * 100\n",
    "\n",
    "    return period_percentage\n",
    "\n",
    "def calculate_comma_percentage(text):\n",
    "    # Remove all whitespace characters from the text\n",
    "    text = \"\".join(text.split())\n",
    "\n",
    "    # Calculate the length of the text and the length of the punctuation characters\n",
    "    comma_length = len([c for c in text if c == ','])\n",
    "    punctuation_length = len([c for c in text if c in string.punctuation])\n",
    "\n",
    "    # Calculate the percentage of the text that is punctuation\n",
    "    comma_percentage = (comma_length / punctuation_length) * 100\n",
    "\n",
    "    return comma_percentage"
   ]
  },
  {
   "cell_type": "code",
   "execution_count": 17,
   "metadata": {},
   "outputs": [],
   "source": [
    "df['PeriodPercentage'] = df.Content.apply(lambda x : calculate_period_percentage(x))\n",
    "df['CommaPercentage'] = df.Content.apply(lambda x : calculate_comma_percentage(x))\n",
    "df['OtherPercentage'] = df.Content.apply(lambda x : 100 - calculate_comma_percentage(x) - calculate_period_percentage(x))"
   ]
  },
  {
   "cell_type": "code",
   "execution_count": 18,
   "metadata": {},
   "outputs": [
    {
     "name": "stdout",
     "output_type": "stream",
     "text": [
      "Mean period percentage for ai articles: 36.7898589787901, std: 8.855561592738306\n",
      "Mean period percentage for real articles: 35.77128293169603, std: 11.737884498868267\n",
      "\n",
      "Mean comma percentage for ai articles: 38.10069818098364, std: 9.148443854394491\n",
      "Mean comma percentage for real articles: 33.85370376020647, std: 11.42623587360109\n",
      "\n",
      "Mean other percentage for ai articles: 25.10944284022626, std: 11.971895339611956\n",
      "Mean other percentage for real articles: 30.37501330809746, std: 14.537008273302547\n"
     ]
    }
   ],
   "source": [
    "ai = df[df.Source == 1]\n",
    "real = df[df.Source == 0]\n",
    "\n",
    "\n",
    "print(f'Mean period percentage for ai articles: {ai.PeriodPercentage.mean()}, std: {ai.PeriodPercentage.std()}')\n",
    "print(f'Mean period percentage for real articles: {real.PeriodPercentage.mean()}, std: {real.PeriodPercentage.std()}\\n')\n",
    "print(f'Mean comma percentage for ai articles: {ai.CommaPercentage.mean()}, std: {ai.CommaPercentage.std()}')\n",
    "print(f'Mean comma percentage for real articles: {real.CommaPercentage.mean()}, std: {real.CommaPercentage.std()}\\n')\n",
    "print(f'Mean other percentage for ai articles: {ai.OtherPercentage.mean()}, std: {ai.OtherPercentage.std()}')\n",
    "print(f'Mean other percentage for real articles: {real.OtherPercentage.mean()}, std: {real.OtherPercentage.std()}')"
   ]
  },
  {
   "cell_type": "code",
   "execution_count": 19,
   "metadata": {},
   "outputs": [
    {
     "data": {
      "text/plain": [
       "[Text(0.5, 1.0, 'Period Percentage of Real articles')]"
      ]
     },
     "execution_count": 19,
     "metadata": {},
     "output_type": "execute_result"
    },
    {
     "data": {
      "image/png": "[encoded data removed]",
      "text/plain": [
       "<Figure size 648x288 with 2 Axes>"
      ]
     },
     "metadata": {
      "needs_background": "light"
     },
     "output_type": "display_data"
    }
   ],
   "source": [
    "f, axes = plt.subplots(1, 2, figsize=(9,4))\n",
    "axes[0].set_xlim(10, 80)\n",
    "axes[1].set_xlim(10, 80)\n",
    "sns.histplot(ai, x='PeriodPercentage', color=\"orchid\", ax=axes[0]).set(title='Period Percentage of AI articles')\n",
    "sns.histplot(real, x='PeriodPercentage', color=\"skyblue\", ax=axes[1]).set(title='Period Percentage of Real articles')"
   ]
  },
  {
   "cell_type": "code",
   "execution_count": 20,
   "metadata": {},
   "outputs": [
    {
     "data": {
      "text/plain": [
       "[Text(0.5, 1.0, 'Comma Percentage of Real articles')]"
      ]
     },
     "execution_count": 20,
     "metadata": {},
     "output_type": "execute_result"
    },
    {
     "data": {
      "image/png": "[encoded data removed]",
      "text/plain": [
       "<Figure size 648x288 with 2 Axes>"
      ]
     },
     "metadata": {
      "needs_background": "light"
     },
     "output_type": "display_data"
    }
   ],
   "source": [
    "f, axes = plt.subplots(1, 2, figsize=(9,4))\n",
    "axes[0].set_xlim(0, 70)\n",
    "axes[1].set_xlim(0, 70)\n",
    "sns.histplot(ai, x='CommaPercentage', color=\"orchid\", ax=axes[0]).set(title='Comma Percentage of AI articles')\n",
    "sns.histplot(real, x='CommaPercentage', color=\"skyblue\", ax=axes[1]).set(title='Comma Percentage of Real articles')"
   ]
  },
  {
   "cell_type": "code",
   "execution_count": 21,
   "metadata": {},
   "outputs": [
    {
     "data": {
      "text/plain": [
       "[Text(0.5, 1.0, 'Other Percentage of Real articles')]"
      ]
     },
     "execution_count": 21,
     "metadata": {},
     "output_type": "execute_result"
    },
    {
     "data": {
      "image/png": "[encoded data removed]",
      "text/plain": [
       "<Figure size 648x288 with 2 Axes>"
      ]
     },
     "metadata": {
      "needs_background": "light"
     },
     "output_type": "display_data"
    }
   ],
   "source": [
    "f, axes = plt.subplots(1, 2, figsize=(9,4))\n",
    "axes[0].set_xlim(0, 70)\n",
    "axes[1].set_xlim(0, 70)\n",
    "sns.histplot(ai, x='OtherPercentage', color=\"orchid\", ax=axes[0]).set(title='Other Percentage of AI articles')\n",
    "sns.histplot(real, x='OtherPercentage', color=\"skyblue\", ax=axes[1]).set(title='Other Percentage of Real articles')"
   ]
  },
  {
   "cell_type": "code",
   "execution_count": 22,
   "metadata": {},
   "outputs": [
    {
     "name": "stdout",
     "output_type": "stream",
     "text": [
      "Ttest_indResult(statistic=1.823615742948621, pvalue=0.06842577145864638)\n",
      "Ttest_indResult(statistic=7.6380933559788495, pvalue=4.092294026269649e-14)\n",
      "Ttest_indResult(statistic=-7.360571249443462, pvalue=3.1293009465557164e-13)\n"
     ]
    }
   ],
   "source": [
    "real = real.dropna()\n",
    "print(stats.ttest_ind(ai.PeriodPercentage, real.PeriodPercentage))\n",
    "real = real.dropna()\n",
    "print(stats.ttest_ind(ai.CommaPercentage, real.CommaPercentage))\n",
    "real = real.dropna()\n",
    "print(stats.ttest_ind(ai.OtherPercentage, real.OtherPercentage))"
   ]
  },
  {
   "attachments": {},
   "cell_type": "markdown",
   "metadata": {},
   "source": [
    "## Vocabulary Frequency\n",
    "\n",
    "Uses a type-token ration, basically the number of unique words / total number of words"
   ]
  },
  {
   "cell_type": "code",
   "execution_count": 23,
   "metadata": {},
   "outputs": [],
   "source": [
    "def vocabulary_richness(text):\n",
    "    # Tokenize the text into words\n",
    "    words = nltk.word_tokenize(text)\n",
    "    \n",
    "    # Calculate the number of unique words (types)\n",
    "    types = set(words)\n",
    "    num_types = len(types)\n",
    "    \n",
    "    # Calculate the total number of words (tokens)\n",
    "    num_tokens = len(words)\n",
    "    \n",
    "    # Calculate the type-token ratio\n",
    "    if num_tokens > 0:\n",
    "        ttr = num_types / num_tokens*100\n",
    "    else:\n",
    "        ttr = 0\n",
    "        \n",
    "    return ttr"
   ]
  },
  {
   "cell_type": "code",
   "execution_count": 24,
   "metadata": {},
   "outputs": [],
   "source": [
    "df['VocabRichness'] = df.Content.apply(lambda x : vocabulary_richness(x))"
   ]
  },
  {
   "cell_type": "code",
   "execution_count": 25,
   "metadata": {},
   "outputs": [
    {
     "name": "stdout",
     "output_type": "stream",
     "text": [
      "Mean Vocab richness percentage for ai articles: 47.5749851638775, std: 10.999963692942758\n",
      "Mean Vocab richness percentage for real articles: 51.69852186729588, std: 13.89346183777707\n"
     ]
    }
   ],
   "source": [
    "ai = df[df.Source == 1]\n",
    "real = df[df.Source == 0]\n",
    "\n",
    "\n",
    "print(f'Mean Vocab richness percentage for ai articles: {ai.VocabRichness.mean()}, std: {ai.VocabRichness.std()}')\n",
    "print(f'Mean Vocab richness percentage for real articles: {real.VocabRichness.mean()}, std: {real.VocabRichness.std()}')"
   ]
  },
  {
   "cell_type": "code",
   "execution_count": 26,
   "metadata": {},
   "outputs": [
    {
     "data": {
      "text/plain": [
       "[Text(0.5, 1.0, 'Vocabulary Richness of Real articles')]"
      ]
     },
     "execution_count": 26,
     "metadata": {},
     "output_type": "execute_result"
    },
    {
     "data": {
      "image/png": "[encoded data removed]",
      "text/plain": [
       "<Figure size 648x288 with 2 Axes>"
      ]
     },
     "metadata": {
      "needs_background": "light"
     },
     "output_type": "display_data"
    }
   ],
   "source": [
    "f, axes = plt.subplots(1, 2, figsize=(9,4))\n",
    "axes[0].set_xlim(15, 70)\n",
    "axes[1].set_xlim(15, 70)\n",
    "sns.histplot(ai, x='VocabRichness', color=\"orchid\", ax=axes[0]).set(title='Vocabulary Richness of AI articles')\n",
    "sns.histplot(real, x='VocabRichness', color=\"skyblue\", ax=axes[1]).set(title='Vocabulary Richness of Real articles')"
   ]
  },
  {
   "cell_type": "code",
   "execution_count": 27,
   "metadata": {},
   "outputs": [
    {
     "data": {
      "text/plain": [
       "Ttest_indResult(statistic=-6.125656681379841, pvalue=1.1748531087141396e-09)"
      ]
     },
     "execution_count": 27,
     "metadata": {},
     "output_type": "execute_result"
    }
   ],
   "source": [
    "real = real.dropna()\n",
    "stats.ttest_ind(ai.VocabRichness, real.VocabRichness)"
   ]
  },
  {
   "cell_type": "code",
   "execution_count": 28,
   "metadata": {},
   "outputs": [
    {
     "data": {
      "text/plain": [
       "PointbiserialrResult(correlation=-0.16247090699137032, pvalue=1.174853108713773e-09)"
      ]
     },
     "execution_count": 28,
     "metadata": {},
     "output_type": "execute_result"
    }
   ],
   "source": [
    "df = df.dropna()\n",
    "stats.pointbiserialr(df.VocabRichness, df.Source)"
   ]
  },
  {
   "cell_type": "code",
   "execution_count": 29,
   "metadata": {},
   "outputs": [
    {
     "name": "stderr",
     "output_type": "stream",
     "text": [
      "[nltk_data] Downloading package averaged_perceptron_tagger to\n",
      "[nltk_data]     C:\\Users\\graduate\\AppData\\Roaming\\nltk_data...\n",
      "[nltk_data]   Package averaged_perceptron_tagger is already up-to-\n",
      "[nltk_data]       date!\n"
     ]
    },
    {
     "data": {
      "text/plain": [
       "True"
      ]
     },
     "execution_count": 29,
     "metadata": {},
     "output_type": "execute_result"
    }
   ],
   "source": [
    "nltk.download('averaged_perceptron_tagger')"
   ]
  },
  {
   "attachments": {},
   "cell_type": "markdown",
   "metadata": {},
   "source": [
    "## Parts of Speech"
   ]
  },
  {
   "cell_type": "code",
   "execution_count": 30,
   "metadata": {},
   "outputs": [],
   "source": [
    "def count_parts_of_speech(text):\n",
    "    # Tokenize the text into words\n",
    "    words = nltk.word_tokenize(text)\n",
    "\n",
    "    # Tag each word with its part of speech\n",
    "    tagged_words = nltk.pos_tag(words)\n",
    "\n",
    "    # Count the number of each part of speech\n",
    "    counts = Counter(tag for word, tag in tagged_words)\n",
    "    counts = dict(counts)\n",
    "\n",
    "    noun = 0\n",
    "    verb = 0\n",
    "    adverb = 0\n",
    "    pronoun = 0\n",
    "    adjective = 0\n",
    "    for i in counts:\n",
    "        if i.startswith('NN'):\n",
    "            noun += counts[i]\n",
    "        elif i.startswith('VB'):\n",
    "            verb += counts[i]\n",
    "        elif i.startswith('RB'):\n",
    "            adverb += counts[i]\n",
    "        elif i.startswith('PRP'):\n",
    "            pronoun += counts[i]\n",
    "        elif i.startswith('JJ'):\n",
    "            adjective += counts[i]\n",
    "\n",
    "    wc = len(text.split(' '))\n",
    "\n",
    "    return {'noun':noun/wc*100, 'verb':verb/wc*100, 'adverb':adverb/wc*100, 'pronoun':pronoun/wc*100, 'adjective':adjective/wc*100}"
   ]
  },
  {
   "cell_type": "code",
   "execution_count": 31,
   "metadata": {},
   "outputs": [],
   "source": [
    "df['pos'] = df.Content.apply(lambda x : count_parts_of_speech(x))"
   ]
  },
  {
   "cell_type": "code",
   "execution_count": 32,
   "metadata": {},
   "outputs": [],
   "source": [
    "df['Noun'] = df.pos.apply(lambda x : x['noun'])\n",
    "df['Verb'] = df.pos.apply(lambda x : x['verb'])\n",
    "df['Adverb'] = df.pos.apply(lambda x : x['adverb'])\n",
    "df['Pronoun'] = df.pos.apply(lambda x : x['pronoun'])\n",
    "df['Adjective'] = df.pos.apply(lambda x : x['adjective'])\n",
    "df = df.drop(labels=['pos'], axis=1)"
   ]
  },
  {
   "cell_type": "code",
   "execution_count": 33,
   "metadata": {},
   "outputs": [
    {
     "name": "stdout",
     "output_type": "stream",
     "text": [
      "Mean Noun percentage for ai articles: 32.592090847829866, std: 3.7612016933376844\n",
      "Mean Noun percentage for real articles: 38.60025033696326, std: 7.0063816103106\n",
      "\n",
      "Mean Verb percentage for ai articles: 18.011633458286475, std: 2.6861858165403314\n",
      "Mean Verb percentage for real articles: 17.0742688689238, std: 3.4418723224843317\n",
      "\n",
      "Mean Adverb percentage for ai articles: 3.601925881874545, std: 1.3712755621686499\n",
      "Mean Adverb percentage for real articles: 3.496392743882952, std: 1.6013572122198585\n",
      "\n",
      "Mean Pronoun percentage for ai articles: 4.144736160568336, std: 2.551687542134135\n",
      "Mean Pronoun percentage for real articles: 4.189046330078122, std: 2.8091556287417467\n",
      "\n",
      "Mean Adjective percentage for ai articles: 8.805121355286378, std: 2.30708071661047\n",
      "Mean Adjective percentage for real articles: 7.942005574862857, std: 2.5356523128124984\n",
      "\n"
     ]
    }
   ],
   "source": [
    "ai = df[df.Source == 1]\n",
    "real = df[df.Source == 0]\n",
    "\n",
    "print(f'Mean Noun percentage for ai articles: {ai.Noun.mean()}, std: {ai.Noun.std()}')\n",
    "print(f'Mean Noun percentage for real articles: {real.Noun.mean()}, std: {real.Noun.std()}\\n')\n",
    "print(f'Mean Verb percentage for ai articles: {ai.Verb.mean()}, std: {ai.Verb.std()}')\n",
    "print(f'Mean Verb percentage for real articles: {real.Verb.mean()}, std: {real.Verb.std()}\\n')\n",
    "print(f'Mean Adverb percentage for ai articles: {ai.Adverb.mean()}, std: {ai.Adverb.std()}')\n",
    "print(f'Mean Adverb percentage for real articles: {real.Adverb.mean()}, std: {real.Adverb.std()}\\n')\n",
    "print(f'Mean Pronoun percentage for ai articles: {ai.Pronoun.mean()}, std: {ai.Pronoun.std()}')\n",
    "print(f'Mean Pronoun percentage for real articles: {real.Pronoun.mean()}, std: {real.Pronoun.std()}\\n')\n",
    "print(f'Mean Adjective percentage for ai articles: {ai.Adjective.mean()}, std: {ai.Adjective.std()}')\n",
    "print(f'Mean Adjective percentage for real articles: {real.Adjective.mean()}, std: {real.Adjective.std()}\\n')"
   ]
  },
  {
   "cell_type": "code",
   "execution_count": 34,
   "metadata": {},
   "outputs": [
    {
     "data": {
      "text/plain": [
       "[Text(0.5, 1.0, 'Noun usage of Real articles')]"
      ]
     },
     "execution_count": 34,
     "metadata": {},
     "output_type": "execute_result"
    },
    {
     "data": {
      "image/png": "[encoded data removed]",
      "text/plain": [
       "<Figure size 648x288 with 2 Axes>"
      ]
     },
     "metadata": {
      "needs_background": "light"
     },
     "output_type": "display_data"
    }
   ],
   "source": [
    "f, axes = plt.subplots(1, 2, figsize=(9,4))\n",
    "axes[0].set_xlim(20, 62)\n",
    "axes[1].set_xlim(20, 62)\n",
    "sns.histplot(ai, x='Noun', color=\"orchid\", ax=axes[0]).set(title='Noun usage of AI articles')\n",
    "sns.histplot(real, x='Noun', color=\"skyblue\", ax=axes[1]).set(title='Noun usage of Real articles')"
   ]
  },
  {
   "cell_type": "code",
   "execution_count": 37,
   "metadata": {},
   "outputs": [
    {
     "data": {
      "image/png": "[encoded data removed]",
      "text/plain": [
       "<Figure size 432x288 with 1 Axes>"
      ]
     },
     "metadata": {
      "needs_background": "light"
     },
     "output_type": "display_data"
    }
   ],
   "source": [
    "noun_mean_ai=ai['Noun'].mean()\n",
    "noun_mean_real=real['Noun'].mean()\n",
    "# Create a barplot\n",
    "ax=sns.barplot(x=['Real', 'AI'], y=[noun_mean_real, noun_mean_ai])\n",
    "# Set labels and title\n",
    "plt.xlabel('Article types')\n",
    "plt.ylabel('Mean')\n",
    "plt.title('Mean of articles \"ai.noun\" and \"real.noun\"')\n",
    "# Add labels to the top of the bars\n",
    "for i, v in enumerate([noun_mean_real,noun_mean_ai]):\n",
    "    ax.text(i, v, str(round(v, 2)), ha='center', va='bottom')\n",
    "# Show the plot\n",
    "plt.show()"
   ]
  },
  {
   "cell_type": "code",
   "execution_count": 38,
   "metadata": {},
   "outputs": [
    {
     "data": {
      "text/plain": [
       "[Text(0.5, 1.0, 'Verb usage of Real articles')]"
      ]
     },
     "execution_count": 38,
     "metadata": {},
     "output_type": "execute_result"
    },
    {
     "data": {
      "image/png": "[encoded data removed]",
      "text/plain": [
       "<Figure size 648x288 with 2 Axes>"
      ]
     },
     "metadata": {
      "needs_background": "light"
     },
     "output_type": "display_data"
    }
   ],
   "source": [
    "f, axes = plt.subplots(1, 2, figsize=(9,4))\n",
    "axes[0].set_xlim(5, 30)\n",
    "axes[1].set_xlim(5, 30)\n",
    "sns.histplot(ai, x='Verb', color=\"orchid\", ax=axes[0]).set(title='Verb usage of AI articles')\n",
    "sns.histplot(real, x='Verb', color=\"skyblue\", ax=axes[1]).set(title='Verb usage of Real articles')"
   ]
  },
  {
   "cell_type": "code",
   "execution_count": 39,
   "metadata": {},
   "outputs": [
    {
     "data": {
      "text/plain": [
       "[Text(0.5, 1.0, 'Adverb usage of Real articles')]"
      ]
     },
     "execution_count": 39,
     "metadata": {},
     "output_type": "execute_result"
    },
    {
     "data": {
      "image/png": "[encoded data removed]",
      "text/plain": [
       "<Figure size 648x288 with 2 Axes>"
      ]
     },
     "metadata": {
      "needs_background": "light"
     },
     "output_type": "display_data"
    }
   ],
   "source": [
    "f, axes = plt.subplots(1, 2, figsize=(9,4))\n",
    "axes[0].set_xlim(0, 8)\n",
    "axes[1].set_xlim(0, 8)\n",
    "sns.histplot(ai, x='Adverb', color=\"orchid\", ax=axes[0]).set(title='Adverb usage of AI articles')\n",
    "sns.histplot(real, x='Adverb', color=\"skyblue\", ax=axes[1]).set(title='Adverb usage of Real articles')"
   ]
  },
  {
   "cell_type": "code",
   "execution_count": 40,
   "metadata": {},
   "outputs": [
    {
     "data": {
      "text/plain": [
       "[Text(0.5, 1.0, 'Pronoun usage of Real articles')]"
      ]
     },
     "execution_count": 40,
     "metadata": {},
     "output_type": "execute_result"
    },
    {
     "data": {
      "image/png": "[encoded data removed]",
      "text/plain": [
       "<Figure size 648x288 with 2 Axes>"
      ]
     },
     "metadata": {
      "needs_background": "light"
     },
     "output_type": "display_data"
    }
   ],
   "source": [
    "f, axes = plt.subplots(1, 2, figsize=(9,4))\n",
    "axes[0].set_xlim(0, 16)\n",
    "axes[1].set_xlim(0, 16)\n",
    "sns.histplot(ai, x='Pronoun', color=\"orchid\", ax=axes[0]).set(title='Pronoun usage of AI articles')\n",
    "sns.histplot(real, x='Pronoun', color=\"skyblue\", ax=axes[1]).set(title='Pronoun usage of Real articles')"
   ]
  },
  {
   "cell_type": "code",
   "execution_count": 41,
   "metadata": {},
   "outputs": [
    {
     "data": {
      "text/plain": [
       "[Text(0.5, 1.0, 'Adjective usage of Real articles')]"
      ]
     },
     "execution_count": 41,
     "metadata": {},
     "output_type": "execute_result"
    },
    {
     "data": {
      "image/png": "[encoded data removed]",
      "text/plain": [
       "<Figure size 648x288 with 2 Axes>"
      ]
     },
     "metadata": {
      "needs_background": "light"
     },
     "output_type": "display_data"
    }
   ],
   "source": [
    "f, axes = plt.subplots(1, 2, figsize=(9,4))\n",
    "axes[0].set_xlim(2, 16)\n",
    "axes[1].set_xlim(2, 16)\n",
    "sns.histplot(ai, x='Adjective', color=\"orchid\", ax=axes[0]).set(title='Adective usage of AI articles')\n",
    "sns.histplot(real, x='Adjective', color=\"skyblue\", ax=axes[1]).set(title='Adjective usage of Real articles')"
   ]
  },
  {
   "cell_type": "code",
   "execution_count": 42,
   "metadata": {},
   "outputs": [
    {
     "data": {
      "image/png": "[encoded data removed]",
      "text/plain": [
       "<Figure size 432x288 with 1 Axes>"
      ]
     },
     "metadata": {
      "needs_background": "light"
     },
     "output_type": "display_data"
    }
   ],
   "source": [
    "adj_mean_ai=ai['Adjective'].mean()\n",
    "adj_mean_real=real['Adjective'].mean()\n",
    "# Create a barplot\n",
    "ax=sns.barplot(x=['Real', 'AI'], y=[adj_mean_real, adj_mean_ai])\n",
    "# Set labels and title\n",
    "plt.xlabel('Article types')\n",
    "plt.ylabel('Mean')\n",
    "plt.title('Mean of articles \"ai.adj\" and \"real.adj\"')\n",
    "# Add labels to the top of the bars\n",
    "for i, v in enumerate([adj_mean_real,adj_mean_ai]):\n",
    "    ax.text(i, v, str(round(v, 2)), ha='center', va='bottom')\n",
    "# Show the plot\n",
    "plt.show()"
   ]
  },
  {
   "cell_type": "code",
   "execution_count": null,
   "metadata": {},
   "outputs": [],
   "source": [
    "print(f'Noun t-test: {stats.ttest_ind(ai.Noun, real.Noun)}')\n",
    "print(f'Verb t-test: {stats.ttest_ind(ai.Verb, real.Verb)}')\n",
    "print(f'Adverb t-test: {stats.ttest_ind(ai.Adverb, real.Adverb)}')\n",
    "print(f'Pronoun t-test: {stats.ttest_ind(ai.Pronoun, real.Pronoun)}')\n",
    "print(f'Adjective t-test: {stats.ttest_ind(ai.Adjective, real.Adjective)}')"
   ]
  },
  {
   "cell_type": "code",
   "execution_count": null,
   "metadata": {},
   "outputs": [],
   "source": [
    "print(f'Noun correlation: {stats.pointbiserialr(df.Noun, df.Source)}')\n",
    "print(f'Verb correlation: {stats.pointbiserialr(df.Verb, df.Source)}')\n",
    "print(f'Adverb correlation: {stats.pointbiserialr(df.Adverb, df.Source)}')\n",
    "print(f'Pronoun correlation: {stats.pointbiserialr(df.Pronoun, df.Source)}')\n",
    "print(f'Adjective correlation: {stats.pointbiserialr(df.Adjective, df.Source)}')"
   ]
  },
  {
   "attachments": {},
   "cell_type": "markdown",
   "metadata": {},
   "source": [
    "## Named entity recognition"
   ]
  },
  {
   "cell_type": "code",
   "execution_count": null,
   "metadata": {},
   "outputs": [],
   "source": [
    "def count_named_entities(text):\n",
    "    # Tokenize the input text into sentences\n",
    "    sentences = nltk.sent_tokenize(text)\n",
    "\n",
    "    # Tokenize each sentence into words and tag the words with part-of-speech labels\n",
    "    tokenized_sentences = [nltk.word_tokenize(sent) for sent in sentences]\n",
    "    tagged_sentences = [nltk.pos_tag(sent) for sent in tokenized_sentences]\n",
    "\n",
    "    # Use NLTK's named entity recognizer to identify named entities in the tagged sentences\n",
    "    chunked_sentences = nltk.ne_chunk_sents(tagged_sentences, binary=True)\n",
    "\n",
    "    # Extract the named entities and their labels from the chunked sentences\n",
    "    named_entities = []\n",
    "    for chunked_sent in chunked_sentences:\n",
    "        for tree in chunked_sent:\n",
    "            if hasattr(tree, 'label') and tree.label() == 'NE':\n",
    "                named_entities.append(' '.join([child[0] for child in tree]))\n",
    "\n",
    "    # Count the number of each named entity type\n",
    "    counts = Counter(named_entities)\n",
    "\n",
    "    count = 0\n",
    "    for item in counts.values():\n",
    "        count += item\n",
    "\n",
    "    return count / len(text.split(\" \")) * 100\n"
   ]
  },
  {
   "cell_type": "code",
   "execution_count": null,
   "metadata": {},
   "outputs": [],
   "source": [
    "nltk.download('maxent_ne_chunker')\n",
    "nltk.download('words')"
   ]
  },
  {
   "cell_type": "code",
   "execution_count": null,
   "metadata": {},
   "outputs": [],
   "source": [
    "df['NamedEntities'] = df.Content.apply(lambda x : count_named_entities(x))"
   ]
  },
  {
   "cell_type": "code",
   "execution_count": null,
   "metadata": {},
   "outputs": [],
   "source": [
    "ai = df[df.Source == 1]\n",
    "real = df[df.Source == 0]\n",
    "\n",
    "print(f'Mean Named Entities Frequency for real articles: {real.NamedEntities.mean()}, std: {real.NamedEntities.std()}')\n",
    "print(f'Mean Named Entities Frequency for ai articles: {ai.NamedEntities.mean()}, std: {ai.NamedEntities.std()}')"
   ]
  },
  {
   "cell_type": "code",
   "execution_count": null,
   "metadata": {},
   "outputs": [],
   "source": [
    "f, axes = plt.subplots(1, 2, figsize=(9,4))\n",
    "axes[0].set_xlim(0, 20)\n",
    "axes[1].set_xlim(0, 20)\n",
    "sns.histplot(ai, x='NamedEntities', color=\"orchid\", ax=axes[0]).set(title='Named Entities Frequency of AI articles')\n",
    "sns.histplot(real, x='NamedEntities', color=\"skyblue\", ax=axes[1]).set(title='Named Entities Frequency of Real articles')"
   ]
  },
  {
   "cell_type": "code",
   "execution_count": null,
   "metadata": {},
   "outputs": [],
   "source": [
    "stats.ttest_ind(ai.NamedEntities, real.NamedEntities)"
   ]
  },
  {
   "cell_type": "code",
   "execution_count": null,
   "metadata": {},
   "outputs": [],
   "source": [
    "stats.pointbiserialr(df.NamedEntities, df.Source)"
   ]
  },
  {
   "attachments": {},
   "cell_type": "markdown",
   "metadata": {},
   "source": [
    "## Syntactic complexity"
   ]
  },
  {
   "cell_type": "code",
   "execution_count": null,
   "metadata": {},
   "outputs": [],
   "source": []
  },
  {
   "attachments": {},
   "cell_type": "markdown",
   "metadata": {},
   "source": [
    "## Readability score"
   ]
  },
  {
   "cell_type": "code",
   "execution_count": null,
   "metadata": {},
   "outputs": [],
   "source": [
    "def compute_readability(text):\n",
    "    if len(text.split(' ')) > 100:\n",
    "        r = Readability(text)\n",
    "        return r.flesch_kincaid().score\n",
    "    else:\n",
    "        return None"
   ]
  },
  {
   "cell_type": "code",
   "execution_count": null,
   "metadata": {},
   "outputs": [],
   "source": [
    "df['Readability'] = df.Content.apply(lambda x : compute_readability(x))"
   ]
  },
  {
   "cell_type": "code",
   "execution_count": null,
   "metadata": {},
   "outputs": [],
   "source": [
    "ai = df[df.Source == 1]\n",
    "real = df[df.Source == 0]\n",
    "\n",
    "print(f'Mean Readability Score for ai articles: {ai.Readability.mean()}, std: {ai.Readability.std()}')\n",
    "print(f'Mean Readability Score for real articles: {real.Readability.mean()}, std: {real.Readability.std()}')"
   ]
  },
  {
   "cell_type": "code",
   "execution_count": null,
   "metadata": {},
   "outputs": [],
   "source": [
    "f, axes = plt.subplots(1, 2, figsize=(9,4))\n",
    "axes[0].set_xlim(0, 25)\n",
    "axes[1].set_xlim(0, 25)\n",
    "sns.histplot(ai, x='Readability', color=\"orchid\", ax=axes[0]).set(title='Readability Score of AI articles')\n",
    "sns.histplot(real, x='Readability', color=\"skyblue\", ax=axes[1]).set(title='Readability Score of Real articles')"
   ]
  },
  {
   "cell_type": "code",
   "execution_count": null,
   "metadata": {},
   "outputs": [],
   "source": [
    "real = real.dropna()\n",
    "ai = ai.dropna()\n",
    "stats.ttest_ind(ai.Readability, real.Readability)"
   ]
  },
  {
   "cell_type": "code",
   "execution_count": null,
   "metadata": {},
   "outputs": [],
   "source": [
    "df = df.dropna()\n",
    "stats.pointbiserialr(df.Readability, df.Source)"
   ]
  }
 ],
 "metadata": {
  "kernelspec": {
   "display_name": "Python 3",
   "language": "python",
   "name": "python3"
  },
  "language_info": {
   "codemirror_mode": {
    "name": "ipython",
    "version": 3
   },
   "file_extension": ".py",
   "mimetype": "text/x-python",
   "name": "python",
   "nbconvert_exporter": "python",
   "pygments_lexer": "ipython3",
   "version": "3.10.4"
  },
  "orig_nbformat": 4,
  "vscode": {
   "interpreter": {
    "hash": "26de051ba29f2982a8de78e945f0abaf191376122a1563185a90213a26c5da77"
   }
  }
 },
 "nbformat": 4,
 "nbformat_minor": 2
}
