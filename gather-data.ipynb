{
 "cells": [
  {
   "attachments": {},
   "cell_type": "markdown",
   "metadata": {},
   "source": [
    "## Getting Chat Generated Articles from OpenAI"
   ]
  },
  {
   "cell_type": "code",
   "execution_count": 165,
   "metadata": {},
   "outputs": [],
   "source": [
    "#%pip install openai"
   ]
  },
  {
   "cell_type": "code",
   "execution_count": 166,
   "metadata": {},
   "outputs": [],
   "source": [
    "import openai\n",
    "import pandas as pd\n",
    "import numpy as np\n",
    "import time\n",
    "\n",
    "# Set api key here, left empty for account privacy reasons. You can add you own api key if you want to try\n",
    "openai.api_key = \"\""
   ]
  },
  {
   "cell_type": "code",
   "execution_count": 167,
   "metadata": {},
   "outputs": [],
   "source": [
    "# with open(\"C:\\\\Users\\\\graduate\\\\Box\\\\Courses taken\\\\CS 6830 Data Science in practice\\\\Final project\\\\openai_api.txt\", 'r') as f:\n",
    "#     api_key = f.read().strip()\n",
    "\n",
    "# # Set api key here, left empty for account privacy reasons. You can add you own api key if you want to try\n",
    "# openai.api_key = api_key"
   ]
  },
  {
   "cell_type": "code",
   "execution_count": 168,
   "metadata": {},
   "outputs": [],
   "source": [
    "# articles is a list of dictionaries. Each dictionary contains all the information needed to generate one news article.\n",
    "# Information is gotten by scraping existing articles online\n",
    "# Currently, the prompt requires the the new organization: 'source', wordcount the generated article should be: 'wordcount'\n",
    "# and the headline: 'headline'. An example is shown below\n",
    "articles = [{'source':'CNN', 'wordcount':'200', 'headline':'What is the Good Friday Agreement? How a historic deal ended the Troubles in Northern Ireland'}]"
   ]
  },
  {
   "cell_type": "code",
   "execution_count": 169,
   "metadata": {},
   "outputs": [],
   "source": [
    "def getFakeArticles(articles):\n",
    "    fakeArticles = pd.DataFrame(columns=['Headline', 'Content'])\n",
    "    for article in articles:\n",
    "        prompt=[\n",
    "            {\"role\": \"system\", \"content\": f\"You are a journalist at {article['source']}\"},\n",
    "            {\"role\": \"user\", \"content\": f\"Write an article with about {article['wordcount']} words with the headline '{article['headline']}'\"},\n",
    "        ]\n",
    "        response = openai.ChatCompletion.create(\n",
    "            model=\"gpt-3.5-turbo\",\n",
    "            messages=prompt\n",
    "        )\n",
    "        fakeArticles.loc[len(fakeArticles.index)] = [article['headline'], response['choices'][0]['message']['content']]\n",
    "        print(f'Articles created: {len(fakeArticles)}')\n",
    "\n",
    "        time.sleep(5)\n",
    "\n",
    "    return fakeArticles"
   ]
  },
  {
   "attachments": {},
   "cell_type": "markdown",
   "metadata": {},
   "source": [
    "## Make CNN Fake Articles"
   ]
  },
  {
   "cell_type": "code",
   "execution_count": 170,
   "metadata": {},
   "outputs": [],
   "source": [
    "# df = pd.read_csv('CNN500_items.csv')\n",
    "\n",
    "# ai_50 = df.sample(frac = 0.5)\n",
    "# real_50 = df.drop(ai_50.index)\n",
    "\n",
    "# articles = []\n",
    "# for index, row in ai_50.iterrows():\n",
    "#     articles.append({'source':'CNN','wordcount':len(row.Description.replace('\\n','').split(' ')),'headline':row.Title.replace('\\n','').strip()})"
   ]
  },
  {
   "cell_type": "code",
   "execution_count": 171,
   "metadata": {},
   "outputs": [],
   "source": [
    "# ai_gen = getFakeArticles(articles)"
   ]
  },
  {
   "cell_type": "code",
   "execution_count": 172,
   "metadata": {},
   "outputs": [],
   "source": [
    "# ai_gen.columns = ['Title', 'Content']\n",
    "# ai_gen['Source'] = 1\n",
    "\n",
    "# non_ai = real_50[['Title', 'Description']]\n",
    "# non_ai.columns = ['Title', 'Content']\n",
    "# non_ai['Source'] = 0\n",
    "\n",
    "# cnn_mixed = pd.concat([ai_gen, non_ai], ignore_index=True)"
   ]
  },
  {
   "cell_type": "code",
   "execution_count": 173,
   "metadata": {},
   "outputs": [],
   "source": [
    "# cnn_mixed.to_csv(path_or_buf=\"cnn_mixed.csv\")"
   ]
  },
  {
   "attachments": {},
   "cell_type": "markdown",
   "metadata": {},
   "source": [
    "## Make AP Fake Articles"
   ]
  },
  {
   "cell_type": "code",
   "execution_count": 174,
   "metadata": {},
   "outputs": [],
   "source": [
    "# df = pd.read_csv('AP501dataset.csv')\n",
    "\n",
    "# df.loc[0].text\n",
    "# ai_50 = df.sample(frac = 0.5)\n",
    "# real_50 = df.drop(ai_50.index)\n",
    "\n",
    "# articles = []\n",
    "# for index, row in ai_50.iterrows():\n",
    "#     articles.append({'source':'AP News','wordcount':len(row.text.replace('\\n','').split(' ')),'headline':row.title.replace('\\n','').strip()})"
   ]
  },
  {
   "cell_type": "code",
   "execution_count": 175,
   "metadata": {},
   "outputs": [],
   "source": [
    "# ai_gen = getFakeArticles(articles)"
   ]
  },
  {
   "cell_type": "code",
   "execution_count": 176,
   "metadata": {},
   "outputs": [],
   "source": [
    "# ai_gen.columns = ['Title', 'Content']\n",
    "# ai_gen['Source'] = 1\n",
    "\n",
    "# non_ai = real_50[['title', 'text']]\n",
    "# non_ai.columns = ['Title', 'Content']\n",
    "# non_ai['Source'] = 0\n",
    "\n",
    "# ap_mixed = pd.concat([ai_gen, non_ai], ignore_index=True)"
   ]
  },
  {
   "cell_type": "code",
   "execution_count": 177,
   "metadata": {},
   "outputs": [],
   "source": [
    "# ap_mixed.to_csv(\"ap_mixed.csv\")"
   ]
  },
  {
   "attachments": {},
   "cell_type": "markdown",
   "metadata": {},
   "source": [
    "## Make Fake Fox News Articles"
   ]
  },
  {
   "cell_type": "code",
   "execution_count": 178,
   "metadata": {},
   "outputs": [],
   "source": [
    "# df = pd.read_csv('fox260.csv')\n",
    "\n",
    "# ai_50 = df.sample(frac = 0.5)\n",
    "# real_50 = df.drop(ai_50.index)\n",
    "\n",
    "# articles = []\n",
    "# for index, row in ai_50.iterrows():\n",
    "#     articles.append({'source':'Fox News','wordcount':len(row.text.replace('\\n','').split(' ')),'headline':row.title.replace('\\n','').strip()})"
   ]
  },
  {
   "cell_type": "code",
   "execution_count": 179,
   "metadata": {},
   "outputs": [],
   "source": [
    "# ai_gen = getFakeArticles(articles)"
   ]
  },
  {
   "cell_type": "code",
   "execution_count": 180,
   "metadata": {},
   "outputs": [],
   "source": [
    "# ai_gen.columns = ['Title', 'Content']\n",
    "# ai_gen['Source'] = 1\n",
    "\n",
    "# non_ai = real_50[['title', 'text']]\n",
    "# non_ai.columns = ['Title', 'Content']\n",
    "# non_ai['Source'] = 0\n",
    "\n",
    "# fox_mixed = pd.concat([ai_gen, non_ai], ignore_index=True)"
   ]
  },
  {
   "cell_type": "code",
   "execution_count": 181,
   "metadata": {},
   "outputs": [],
   "source": [
    "# fox_mixed.to_csv(\"fox_mixed.csv\")"
   ]
  },
  {
   "attachments": {},
   "cell_type": "markdown",
   "metadata": {},
   "source": [
    "## Megh's Analysis"
   ]
  },
  {
   "attachments": {},
   "cell_type": "markdown",
   "metadata": {},
   "source": [
    "#### Read dataset"
   ]
  },
  {
   "cell_type": "code",
   "execution_count": 182,
   "metadata": {},
   "outputs": [],
   "source": [
    "import pandas as pd\n",
    "import numpy as np"
   ]
  },
  {
   "cell_type": "code",
   "execution_count": 183,
   "metadata": {},
   "outputs": [
    {
     "data": {
      "text/html": [
       "<div>\n",
       "<style scoped>\n",
       "    .dataframe tbody tr th:only-of-type {\n",
       "        vertical-align: middle;\n",
       "    }\n",
       "\n",
       "    .dataframe tbody tr th {\n",
       "        vertical-align: top;\n",
       "    }\n",
       "\n",
       "    .dataframe thead th {\n",
       "        text-align: right;\n",
       "    }\n",
       "</style>\n",
       "<table border=\"1\" class=\"dataframe\">\n",
       "  <thead>\n",
       "    <tr style=\"text-align: right;\">\n",
       "      <th></th>\n",
       "      <th>Unnamed: 0</th>\n",
       "      <th>Title</th>\n",
       "      <th>Content</th>\n",
       "      <th>Source</th>\n",
       "    </tr>\n",
       "  </thead>\n",
       "  <tbody>\n",
       "    <tr>\n",
       "      <th>0</th>\n",
       "      <td>0</td>\n",
       "      <td>Silicon Valley Bank collapse concerns founders...</td>\n",
       "      <td>The collapse of Silicon Valley Bank, a major f...</td>\n",
       "      <td>1</td>\n",
       "    </tr>\n",
       "    <tr>\n",
       "      <th>1</th>\n",
       "      <td>1</td>\n",
       "      <td>Mother of young boy who shot teacher arrested ...</td>\n",
       "      <td>In a shocking turn of events, the mother of th...</td>\n",
       "      <td>1</td>\n",
       "    </tr>\n",
       "    <tr>\n",
       "      <th>2</th>\n",
       "      <td>2</td>\n",
       "      <td>660-mile rescue flight highlights Alaska's uni...</td>\n",
       "      <td>ANCHORAGE, Alaska (AP) — A recent rescue missi...</td>\n",
       "      <td>1</td>\n",
       "    </tr>\n",
       "    <tr>\n",
       "      <th>3</th>\n",
       "      <td>3</td>\n",
       "      <td>Suspect in leak probe talked about God, guns a...</td>\n",
       "      <td>WASHINGTON (AP) -- A former U.S. government em...</td>\n",
       "      <td>1</td>\n",
       "    </tr>\n",
       "    <tr>\n",
       "      <th>4</th>\n",
       "      <td>4</td>\n",
       "      <td>New Ram electric pickup can go up to 500 miles...</td>\n",
       "      <td>The Ram truck brand has been a dominant force ...</td>\n",
       "      <td>1</td>\n",
       "    </tr>\n",
       "    <tr>\n",
       "      <th>...</th>\n",
       "      <td>...</td>\n",
       "      <td>...</td>\n",
       "      <td>...</td>\n",
       "      <td>...</td>\n",
       "    </tr>\n",
       "    <tr>\n",
       "      <th>496</th>\n",
       "      <td>496</td>\n",
       "      <td>When exactly will India surpass China as most ...</td>\n",
       "      <td>India will surpass China’s population this mon...</td>\n",
       "      <td>0</td>\n",
       "    </tr>\n",
       "    <tr>\n",
       "      <th>497</th>\n",
       "      <td>497</td>\n",
       "      <td>India residents try to save a river, officials...</td>\n",
       "      <td>KOCHI, India (AP) — Eloor smells like it is dy...</td>\n",
       "      <td>0</td>\n",
       "    </tr>\n",
       "    <tr>\n",
       "      <th>498</th>\n",
       "      <td>498</td>\n",
       "      <td>Dutch court nixes plan to reduce flights at Sc...</td>\n",
       "      <td>THE HAGUE, Netherlands (AP) — A judge ruled We...</td>\n",
       "      <td>0</td>\n",
       "    </tr>\n",
       "    <tr>\n",
       "      <th>499</th>\n",
       "      <td>499</td>\n",
       "      <td>Easter marks Las Vegas' warmest day yet in 2023</td>\n",
       "      <td>LAS VEGAS (AP) — Easter Sunday marks the first...</td>\n",
       "      <td>0</td>\n",
       "    </tr>\n",
       "    <tr>\n",
       "      <th>500</th>\n",
       "      <td>500</td>\n",
       "      <td>Albania hosts forum promoting regional tourism</td>\n",
       "      <td>TIRANA, Albania (AP) — An international forum ...</td>\n",
       "      <td>0</td>\n",
       "    </tr>\n",
       "  </tbody>\n",
       "</table>\n",
       "<p>501 rows × 4 columns</p>\n",
       "</div>"
      ],
      "text/plain": [
       "     Unnamed: 0                                              Title  \\\n",
       "0             0  Silicon Valley Bank collapse concerns founders...   \n",
       "1             1  Mother of young boy who shot teacher arrested ...   \n",
       "2             2  660-mile rescue flight highlights Alaska's uni...   \n",
       "3             3  Suspect in leak probe talked about God, guns a...   \n",
       "4             4  New Ram electric pickup can go up to 500 miles...   \n",
       "..          ...                                                ...   \n",
       "496         496  When exactly will India surpass China as most ...   \n",
       "497         497  India residents try to save a river, officials...   \n",
       "498         498  Dutch court nixes plan to reduce flights at Sc...   \n",
       "499         499    Easter marks Las Vegas' warmest day yet in 2023   \n",
       "500         500     Albania hosts forum promoting regional tourism   \n",
       "\n",
       "                                               Content  Source  \n",
       "0    The collapse of Silicon Valley Bank, a major f...       1  \n",
       "1    In a shocking turn of events, the mother of th...       1  \n",
       "2    ANCHORAGE, Alaska (AP) — A recent rescue missi...       1  \n",
       "3    WASHINGTON (AP) -- A former U.S. government em...       1  \n",
       "4    The Ram truck brand has been a dominant force ...       1  \n",
       "..                                                 ...     ...  \n",
       "496  India will surpass China’s population this mon...       0  \n",
       "497  KOCHI, India (AP) — Eloor smells like it is dy...       0  \n",
       "498  THE HAGUE, Netherlands (AP) — A judge ruled We...       0  \n",
       "499  LAS VEGAS (AP) — Easter Sunday marks the first...       0  \n",
       "500  TIRANA, Albania (AP) — An international forum ...       0  \n",
       "\n",
       "[501 rows x 4 columns]"
      ]
     },
     "metadata": {},
     "output_type": "display_data"
    }
   ],
   "source": [
    "# Read the three CSV files into separate DataFrames\n",
    "ap_mixed1 = pd.read_csv('ap_mixed.csv')\n",
    "display(ap_mixed1)"
   ]
  },
  {
   "cell_type": "code",
   "execution_count": 184,
   "metadata": {},
   "outputs": [
    {
     "data": {
      "text/html": [
       "<div>\n",
       "<style scoped>\n",
       "    .dataframe tbody tr th:only-of-type {\n",
       "        vertical-align: middle;\n",
       "    }\n",
       "\n",
       "    .dataframe tbody tr th {\n",
       "        vertical-align: top;\n",
       "    }\n",
       "\n",
       "    .dataframe thead th {\n",
       "        text-align: right;\n",
       "    }\n",
       "</style>\n",
       "<table border=\"1\" class=\"dataframe\">\n",
       "  <thead>\n",
       "    <tr style=\"text-align: right;\">\n",
       "      <th></th>\n",
       "      <th>Unnamed: 0</th>\n",
       "      <th>Title</th>\n",
       "      <th>Content</th>\n",
       "      <th>Source</th>\n",
       "    </tr>\n",
       "  </thead>\n",
       "  <tbody>\n",
       "    <tr>\n",
       "      <th>0</th>\n",
       "      <td>0</td>\n",
       "      <td>FBI warns consumers not to use public phone ch...</td>\n",
       "      <td>Security experts have been warning about the d...</td>\n",
       "      <td>1</td>\n",
       "    </tr>\n",
       "    <tr>\n",
       "      <th>1</th>\n",
       "      <td>1</td>\n",
       "      <td>'Flabbergasted': See doctor's reaction to judg...</td>\n",
       "      <td>A recent controversial ruling by a judge has l...</td>\n",
       "      <td>1</td>\n",
       "    </tr>\n",
       "    <tr>\n",
       "      <th>2</th>\n",
       "      <td>2</td>\n",
       "      <td>Nashville sends Justin Jones back to the Tenne...</td>\n",
       "      <td>Nashville sends Justin Jones back to the Tenne...</td>\n",
       "      <td>1</td>\n",
       "    </tr>\n",
       "    <tr>\n",
       "      <th>3</th>\n",
       "      <td>3</td>\n",
       "      <td>A coffee chain announced it wants to make your...</td>\n",
       "      <td>In a move aimed at catering to the growing dem...</td>\n",
       "      <td>1</td>\n",
       "    </tr>\n",
       "    <tr>\n",
       "      <th>4</th>\n",
       "      <td>4</td>\n",
       "      <td>WWE apologizes for using footage of Auschwitz ...</td>\n",
       "      <td>In a move that shocked and angered fans across...</td>\n",
       "      <td>1</td>\n",
       "    </tr>\n",
       "    <tr>\n",
       "      <th>...</th>\n",
       "      <td>...</td>\n",
       "      <td>...</td>\n",
       "      <td>...</td>\n",
       "      <td>...</td>\n",
       "    </tr>\n",
       "    <tr>\n",
       "      <th>494</th>\n",
       "      <td>494</td>\n",
       "      <td>\\n                      Emmy Rossum announces ...</td>\n",
       "      <td>\\n                      In a surprise announce...</td>\n",
       "      <td>0</td>\n",
       "    </tr>\n",
       "    <tr>\n",
       "      <th>495</th>\n",
       "      <td>495</td>\n",
       "      <td>\\n                      Michael K. Williams: M...</td>\n",
       "      <td>\\n                      A Brooklyn man charged...</td>\n",
       "      <td>0</td>\n",
       "    </tr>\n",
       "    <tr>\n",
       "      <th>496</th>\n",
       "      <td>496</td>\n",
       "      <td>\\n                      April movie preview\\n ...</td>\n",
       "      <td>\\n                      Nicolas Cage as Count ...</td>\n",
       "      <td>0</td>\n",
       "    </tr>\n",
       "    <tr>\n",
       "      <th>497</th>\n",
       "      <td>497</td>\n",
       "      <td>\\n                      Damon, Davis, Affleck ...</td>\n",
       "      <td>\\n                      Ben Affleck directs hi...</td>\n",
       "      <td>0</td>\n",
       "    </tr>\n",
       "    <tr>\n",
       "      <th>498</th>\n",
       "      <td>498</td>\n",
       "      <td>\\n                      Lizzo snuggles Grogu i...</td>\n",
       "      <td>\\n                      Lizzo has officially j...</td>\n",
       "      <td>0</td>\n",
       "    </tr>\n",
       "  </tbody>\n",
       "</table>\n",
       "<p>499 rows × 4 columns</p>\n",
       "</div>"
      ],
      "text/plain": [
       "     Unnamed: 0                                              Title  \\\n",
       "0             0  FBI warns consumers not to use public phone ch...   \n",
       "1             1  'Flabbergasted': See doctor's reaction to judg...   \n",
       "2             2  Nashville sends Justin Jones back to the Tenne...   \n",
       "3             3  A coffee chain announced it wants to make your...   \n",
       "4             4  WWE apologizes for using footage of Auschwitz ...   \n",
       "..          ...                                                ...   \n",
       "494         494  \\n                      Emmy Rossum announces ...   \n",
       "495         495  \\n                      Michael K. Williams: M...   \n",
       "496         496  \\n                      April movie preview\\n ...   \n",
       "497         497  \\n                      Damon, Davis, Affleck ...   \n",
       "498         498  \\n                      Lizzo snuggles Grogu i...   \n",
       "\n",
       "                                               Content  Source  \n",
       "0    Security experts have been warning about the d...       1  \n",
       "1    A recent controversial ruling by a judge has l...       1  \n",
       "2    Nashville sends Justin Jones back to the Tenne...       1  \n",
       "3    In a move aimed at catering to the growing dem...       1  \n",
       "4    In a move that shocked and angered fans across...       1  \n",
       "..                                                 ...     ...  \n",
       "494  \\n                      In a surprise announce...       0  \n",
       "495  \\n                      A Brooklyn man charged...       0  \n",
       "496  \\n                      Nicolas Cage as Count ...       0  \n",
       "497  \\n                      Ben Affleck directs hi...       0  \n",
       "498  \\n                      Lizzo has officially j...       0  \n",
       "\n",
       "[499 rows x 4 columns]"
      ]
     },
     "metadata": {},
     "output_type": "display_data"
    }
   ],
   "source": [
    "cnn_mixed1 = pd.read_csv('cnn_mixed.csv')\n",
    "display(cnn_mixed1)"
   ]
  },
  {
   "cell_type": "code",
   "execution_count": 185,
   "metadata": {},
   "outputs": [
    {
     "data": {
      "text/html": [
       "<div>\n",
       "<style scoped>\n",
       "    .dataframe tbody tr th:only-of-type {\n",
       "        vertical-align: middle;\n",
       "    }\n",
       "\n",
       "    .dataframe tbody tr th {\n",
       "        vertical-align: top;\n",
       "    }\n",
       "\n",
       "    .dataframe thead th {\n",
       "        text-align: right;\n",
       "    }\n",
       "</style>\n",
       "<table border=\"1\" class=\"dataframe\">\n",
       "  <thead>\n",
       "    <tr style=\"text-align: right;\">\n",
       "      <th></th>\n",
       "      <th>Unnamed: 0</th>\n",
       "      <th>Title</th>\n",
       "      <th>Content</th>\n",
       "      <th>Source</th>\n",
       "    </tr>\n",
       "  </thead>\n",
       "  <tbody>\n",
       "    <tr>\n",
       "      <th>0</th>\n",
       "      <td>0</td>\n",
       "      <td>Gisele Bündchen shares message about regrowth ...</td>\n",
       "      <td>Supermodel Gisele Bündchen has shared an empow...</td>\n",
       "      <td>1</td>\n",
       "    </tr>\n",
       "    <tr>\n",
       "      <th>1</th>\n",
       "      <td>1</td>\n",
       "      <td>Recession 'appears inevitable' and may have al...</td>\n",
       "      <td>Economic experts are sounding the alarm that a...</td>\n",
       "      <td>1</td>\n",
       "    </tr>\n",
       "    <tr>\n",
       "      <th>2</th>\n",
       "      <td>2</td>\n",
       "      <td>Snapchat AI chatbot allegedly gave advice to 1...</td>\n",
       "      <td>A highly concerning story has emerged that a S...</td>\n",
       "      <td>1</td>\n",
       "    </tr>\n",
       "    <tr>\n",
       "      <th>3</th>\n",
       "      <td>3</td>\n",
       "      <td>Britain to give cigarette smokers vapes in wor...</td>\n",
       "      <td>The UK government has announced a groundbreaki...</td>\n",
       "      <td>1</td>\n",
       "    </tr>\n",
       "    <tr>\n",
       "      <th>4</th>\n",
       "      <td>4</td>\n",
       "      <td>Cyprus probing residents involved in alleged R...</td>\n",
       "      <td>Cyprus has been investigating individuals and ...</td>\n",
       "      <td>1</td>\n",
       "    </tr>\n",
       "    <tr>\n",
       "      <th>...</th>\n",
       "      <td>...</td>\n",
       "      <td>...</td>\n",
       "      <td>...</td>\n",
       "      <td>...</td>\n",
       "    </tr>\n",
       "    <tr>\n",
       "      <th>384</th>\n",
       "      <td>384</td>\n",
       "      <td>AOC, other pro-choicers want to ignore court r...</td>\n",
       "      <td>Alexandria Ocasio-Cortez, a heroine on the Lef...</td>\n",
       "      <td>0</td>\n",
       "    </tr>\n",
       "    <tr>\n",
       "      <th>385</th>\n",
       "      <td>385</td>\n",
       "      <td>IMF trims global growth outlook as banking tur...</td>\n",
       "      <td>The International Monetary Fund on Tuesday cut...</td>\n",
       "      <td>0</td>\n",
       "    </tr>\n",
       "    <tr>\n",
       "      <th>386</th>\n",
       "      <td>386</td>\n",
       "      <td>Drake Bell is 'safe' after former Nickelodeon ...</td>\n",
       "      <td>Former Nickelodeon actor Drake Bell, is no lon...</td>\n",
       "      <td>0</td>\n",
       "    </tr>\n",
       "    <tr>\n",
       "      <th>387</th>\n",
       "      <td>387</td>\n",
       "      <td>Mark Wahlberg’s daughter hilariously impersona...</td>\n",
       "      <td>Mark Wahlberg isn’t the only member of his fam...</td>\n",
       "      <td>0</td>\n",
       "    </tr>\n",
       "    <tr>\n",
       "      <th>388</th>\n",
       "      <td>388</td>\n",
       "      <td>Webb telescope captures warped space, galaxies...</td>\n",
       "      <td>NASA's James Webb Space Telescope has captured...</td>\n",
       "      <td>0</td>\n",
       "    </tr>\n",
       "  </tbody>\n",
       "</table>\n",
       "<p>389 rows × 4 columns</p>\n",
       "</div>"
      ],
      "text/plain": [
       "     Unnamed: 0                                              Title  \\\n",
       "0             0  Gisele Bündchen shares message about regrowth ...   \n",
       "1             1  Recession 'appears inevitable' and may have al...   \n",
       "2             2  Snapchat AI chatbot allegedly gave advice to 1...   \n",
       "3             3  Britain to give cigarette smokers vapes in wor...   \n",
       "4             4  Cyprus probing residents involved in alleged R...   \n",
       "..          ...                                                ...   \n",
       "384         384  AOC, other pro-choicers want to ignore court r...   \n",
       "385         385  IMF trims global growth outlook as banking tur...   \n",
       "386         386  Drake Bell is 'safe' after former Nickelodeon ...   \n",
       "387         387  Mark Wahlberg’s daughter hilariously impersona...   \n",
       "388         388  Webb telescope captures warped space, galaxies...   \n",
       "\n",
       "                                               Content  Source  \n",
       "0    Supermodel Gisele Bündchen has shared an empow...       1  \n",
       "1    Economic experts are sounding the alarm that a...       1  \n",
       "2    A highly concerning story has emerged that a S...       1  \n",
       "3    The UK government has announced a groundbreaki...       1  \n",
       "4    Cyprus has been investigating individuals and ...       1  \n",
       "..                                                 ...     ...  \n",
       "384  Alexandria Ocasio-Cortez, a heroine on the Lef...       0  \n",
       "385  The International Monetary Fund on Tuesday cut...       0  \n",
       "386  Former Nickelodeon actor Drake Bell, is no lon...       0  \n",
       "387  Mark Wahlberg isn’t the only member of his fam...       0  \n",
       "388  NASA's James Webb Space Telescope has captured...       0  \n",
       "\n",
       "[389 rows x 4 columns]"
      ]
     },
     "metadata": {},
     "output_type": "display_data"
    }
   ],
   "source": [
    "fox_mixed1 = pd.read_csv('fox_mixed.csv')\n",
    "display(fox_mixed1)"
   ]
  },
  {
   "attachments": {},
   "cell_type": "markdown",
   "metadata": {},
   "source": [
    "#### merging 3 datasets into one"
   ]
  },
  {
   "cell_type": "code",
   "execution_count": 186,
   "metadata": {},
   "outputs": [
    {
     "data": {
      "text/html": [
       "<div>\n",
       "<style scoped>\n",
       "    .dataframe tbody tr th:only-of-type {\n",
       "        vertical-align: middle;\n",
       "    }\n",
       "\n",
       "    .dataframe tbody tr th {\n",
       "        vertical-align: top;\n",
       "    }\n",
       "\n",
       "    .dataframe thead th {\n",
       "        text-align: right;\n",
       "    }\n",
       "</style>\n",
       "<table border=\"1\" class=\"dataframe\">\n",
       "  <thead>\n",
       "    <tr style=\"text-align: right;\">\n",
       "      <th></th>\n",
       "      <th>index</th>\n",
       "      <th>Unnamed: 0</th>\n",
       "      <th>Title</th>\n",
       "      <th>Content</th>\n",
       "      <th>Source</th>\n",
       "    </tr>\n",
       "  </thead>\n",
       "  <tbody>\n",
       "    <tr>\n",
       "      <th>750</th>\n",
       "      <td>750</td>\n",
       "      <td>249</td>\n",
       "      <td>Owen Wilson channels Bob Ross in 'Paint'</td>\n",
       "      <td>Actor Owen Wilson has taken on an unusual new ...</td>\n",
       "      <td>1</td>\n",
       "    </tr>\n",
       "    <tr>\n",
       "      <th>751</th>\n",
       "      <td>751</td>\n",
       "      <td>250</td>\n",
       "      <td>\\n                      Cash App founder Bob L...</td>\n",
       "      <td>\\n                      San Francisco Police h...</td>\n",
       "      <td>0</td>\n",
       "    </tr>\n",
       "    <tr>\n",
       "      <th>752</th>\n",
       "      <td>752</td>\n",
       "      <td>251</td>\n",
       "      <td>\\n                      NPR and PBS stop using...</td>\n",
       "      <td>\\n                      NPR on Wednesday said ...</td>\n",
       "      <td>0</td>\n",
       "    </tr>\n",
       "    <tr>\n",
       "      <th>753</th>\n",
       "      <td>753</td>\n",
       "      <td>252</td>\n",
       "      <td>\\n                      Deal close for Washing...</td>\n",
       "      <td>\\n                      A group that is led by...</td>\n",
       "      <td>0</td>\n",
       "    </tr>\n",
       "    <tr>\n",
       "      <th>754</th>\n",
       "      <td>754</td>\n",
       "      <td>253</td>\n",
       "      <td>\\n                      Fort Lauderdale airpor...</td>\n",
       "      <td>\\n                      Fort Lauderdale experi...</td>\n",
       "      <td>0</td>\n",
       "    </tr>\n",
       "    <tr>\n",
       "      <th>...</th>\n",
       "      <td>...</td>\n",
       "      <td>...</td>\n",
       "      <td>...</td>\n",
       "      <td>...</td>\n",
       "      <td>...</td>\n",
       "    </tr>\n",
       "    <tr>\n",
       "      <th>995</th>\n",
       "      <td>995</td>\n",
       "      <td>494</td>\n",
       "      <td>\\n                      Emmy Rossum announces ...</td>\n",
       "      <td>\\n                      In a surprise announce...</td>\n",
       "      <td>0</td>\n",
       "    </tr>\n",
       "    <tr>\n",
       "      <th>996</th>\n",
       "      <td>996</td>\n",
       "      <td>495</td>\n",
       "      <td>\\n                      Michael K. Williams: M...</td>\n",
       "      <td>\\n                      A Brooklyn man charged...</td>\n",
       "      <td>0</td>\n",
       "    </tr>\n",
       "    <tr>\n",
       "      <th>997</th>\n",
       "      <td>997</td>\n",
       "      <td>496</td>\n",
       "      <td>\\n                      April movie preview\\n ...</td>\n",
       "      <td>\\n                      Nicolas Cage as Count ...</td>\n",
       "      <td>0</td>\n",
       "    </tr>\n",
       "    <tr>\n",
       "      <th>998</th>\n",
       "      <td>998</td>\n",
       "      <td>497</td>\n",
       "      <td>\\n                      Damon, Davis, Affleck ...</td>\n",
       "      <td>\\n                      Ben Affleck directs hi...</td>\n",
       "      <td>0</td>\n",
       "    </tr>\n",
       "    <tr>\n",
       "      <th>999</th>\n",
       "      <td>999</td>\n",
       "      <td>498</td>\n",
       "      <td>\\n                      Lizzo snuggles Grogu i...</td>\n",
       "      <td>\\n                      Lizzo has officially j...</td>\n",
       "      <td>0</td>\n",
       "    </tr>\n",
       "  </tbody>\n",
       "</table>\n",
       "<p>250 rows × 5 columns</p>\n",
       "</div>"
      ],
      "text/plain": [
       "     index  Unnamed: 0                                              Title  \\\n",
       "750    750         249           Owen Wilson channels Bob Ross in 'Paint'   \n",
       "751    751         250  \\n                      Cash App founder Bob L...   \n",
       "752    752         251  \\n                      NPR and PBS stop using...   \n",
       "753    753         252  \\n                      Deal close for Washing...   \n",
       "754    754         253  \\n                      Fort Lauderdale airpor...   \n",
       "..     ...         ...                                                ...   \n",
       "995    995         494  \\n                      Emmy Rossum announces ...   \n",
       "996    996         495  \\n                      Michael K. Williams: M...   \n",
       "997    997         496  \\n                      April movie preview\\n ...   \n",
       "998    998         497  \\n                      Damon, Davis, Affleck ...   \n",
       "999    999         498  \\n                      Lizzo snuggles Grogu i...   \n",
       "\n",
       "                                               Content  Source  \n",
       "750  Actor Owen Wilson has taken on an unusual new ...       1  \n",
       "751  \\n                      San Francisco Police h...       0  \n",
       "752  \\n                      NPR on Wednesday said ...       0  \n",
       "753  \\n                      A group that is led by...       0  \n",
       "754  \\n                      Fort Lauderdale experi...       0  \n",
       "..                                                 ...     ...  \n",
       "995  \\n                      In a surprise announce...       0  \n",
       "996  \\n                      A Brooklyn man charged...       0  \n",
       "997  \\n                      Nicolas Cage as Count ...       0  \n",
       "998  \\n                      Ben Affleck directs hi...       0  \n",
       "999  \\n                      Lizzo has officially j...       0  \n",
       "\n",
       "[250 rows x 5 columns]"
      ]
     },
     "execution_count": 186,
     "metadata": {},
     "output_type": "execute_result"
    }
   ],
   "source": [
    "# Concatenate the three DataFrames vertically (row-wise)\n",
    "dataset = pd.concat([ap_mixed1, cnn_mixed1, fox_mixed1], ignore_index=True).reset_index()\n",
    "dataset[750:1000]"
   ]
  },
  {
   "cell_type": "code",
   "execution_count": 187,
   "metadata": {},
   "outputs": [
    {
     "data": {
      "text/html": [
       "<div>\n",
       "<style scoped>\n",
       "    .dataframe tbody tr th:only-of-type {\n",
       "        vertical-align: middle;\n",
       "    }\n",
       "\n",
       "    .dataframe tbody tr th {\n",
       "        vertical-align: top;\n",
       "    }\n",
       "\n",
       "    .dataframe thead th {\n",
       "        text-align: right;\n",
       "    }\n",
       "</style>\n",
       "<table border=\"1\" class=\"dataframe\">\n",
       "  <thead>\n",
       "    <tr style=\"text-align: right;\">\n",
       "      <th></th>\n",
       "      <th>Title</th>\n",
       "      <th>Content</th>\n",
       "      <th>Source</th>\n",
       "    </tr>\n",
       "  </thead>\n",
       "  <tbody>\n",
       "    <tr>\n",
       "      <th>0</th>\n",
       "      <td>Silicon Valley Bank collapse concerns founders...</td>\n",
       "      <td>The collapse of Silicon Valley Bank, a major f...</td>\n",
       "      <td>1</td>\n",
       "    </tr>\n",
       "    <tr>\n",
       "      <th>1</th>\n",
       "      <td>Mother of young boy who shot teacher arrested ...</td>\n",
       "      <td>In a shocking turn of events, the mother of th...</td>\n",
       "      <td>1</td>\n",
       "    </tr>\n",
       "    <tr>\n",
       "      <th>2</th>\n",
       "      <td>660-mile rescue flight highlights Alaska's uni...</td>\n",
       "      <td>ANCHORAGE, Alaska (AP) — A recent rescue missi...</td>\n",
       "      <td>1</td>\n",
       "    </tr>\n",
       "    <tr>\n",
       "      <th>3</th>\n",
       "      <td>Suspect in leak probe talked about God, guns a...</td>\n",
       "      <td>WASHINGTON (AP) -- A former U.S. government em...</td>\n",
       "      <td>1</td>\n",
       "    </tr>\n",
       "    <tr>\n",
       "      <th>4</th>\n",
       "      <td>New Ram electric pickup can go up to 500 miles...</td>\n",
       "      <td>The Ram truck brand has been a dominant force ...</td>\n",
       "      <td>1</td>\n",
       "    </tr>\n",
       "    <tr>\n",
       "      <th>...</th>\n",
       "      <td>...</td>\n",
       "      <td>...</td>\n",
       "      <td>...</td>\n",
       "    </tr>\n",
       "    <tr>\n",
       "      <th>1384</th>\n",
       "      <td>AOC, other pro-choicers want to ignore court r...</td>\n",
       "      <td>Alexandria Ocasio-Cortez, a heroine on the Lef...</td>\n",
       "      <td>0</td>\n",
       "    </tr>\n",
       "    <tr>\n",
       "      <th>1385</th>\n",
       "      <td>IMF trims global growth outlook as banking tur...</td>\n",
       "      <td>The International Monetary Fund on Tuesday cut...</td>\n",
       "      <td>0</td>\n",
       "    </tr>\n",
       "    <tr>\n",
       "      <th>1386</th>\n",
       "      <td>Drake Bell is 'safe' after former Nickelodeon ...</td>\n",
       "      <td>Former Nickelodeon actor Drake Bell, is no lon...</td>\n",
       "      <td>0</td>\n",
       "    </tr>\n",
       "    <tr>\n",
       "      <th>1387</th>\n",
       "      <td>Mark Wahlberg’s daughter hilariously impersona...</td>\n",
       "      <td>Mark Wahlberg isn’t the only member of his fam...</td>\n",
       "      <td>0</td>\n",
       "    </tr>\n",
       "    <tr>\n",
       "      <th>1388</th>\n",
       "      <td>Webb telescope captures warped space, galaxies...</td>\n",
       "      <td>NASA's James Webb Space Telescope has captured...</td>\n",
       "      <td>0</td>\n",
       "    </tr>\n",
       "  </tbody>\n",
       "</table>\n",
       "<p>1389 rows × 3 columns</p>\n",
       "</div>"
      ],
      "text/plain": [
       "                                                  Title  \\\n",
       "0     Silicon Valley Bank collapse concerns founders...   \n",
       "1     Mother of young boy who shot teacher arrested ...   \n",
       "2     660-mile rescue flight highlights Alaska's uni...   \n",
       "3     Suspect in leak probe talked about God, guns a...   \n",
       "4     New Ram electric pickup can go up to 500 miles...   \n",
       "...                                                 ...   \n",
       "1384  AOC, other pro-choicers want to ignore court r...   \n",
       "1385  IMF trims global growth outlook as banking tur...   \n",
       "1386  Drake Bell is 'safe' after former Nickelodeon ...   \n",
       "1387  Mark Wahlberg’s daughter hilariously impersona...   \n",
       "1388  Webb telescope captures warped space, galaxies...   \n",
       "\n",
       "                                                Content  Source  \n",
       "0     The collapse of Silicon Valley Bank, a major f...       1  \n",
       "1     In a shocking turn of events, the mother of th...       1  \n",
       "2     ANCHORAGE, Alaska (AP) — A recent rescue missi...       1  \n",
       "3     WASHINGTON (AP) -- A former U.S. government em...       1  \n",
       "4     The Ram truck brand has been a dominant force ...       1  \n",
       "...                                                 ...     ...  \n",
       "1384  Alexandria Ocasio-Cortez, a heroine on the Lef...       0  \n",
       "1385  The International Monetary Fund on Tuesday cut...       0  \n",
       "1386  Former Nickelodeon actor Drake Bell, is no lon...       0  \n",
       "1387  Mark Wahlberg isn’t the only member of his fam...       0  \n",
       "1388  NASA's James Webb Space Telescope has captured...       0  \n",
       "\n",
       "[1389 rows x 3 columns]"
      ]
     },
     "metadata": {},
     "output_type": "display_data"
    }
   ],
   "source": [
    "# # Optionally, you can drop duplicates if needed\n",
    "# dataset.drop_duplicates(inplace=True)\n",
    "\n",
    "dataset['Content'].replace('', np.nan, inplace=True)\n",
    "\n",
    "#drop NA values\n",
    "dataset = dataset.dropna()\n",
    "\n",
    "# Select only specific columns from the dataset\n",
    "selected_columns = ['Title', 'Content', 'Source']\n",
    "dataset_final = dataset[selected_columns]\n",
    "\n",
    "display(dataset_final)\n",
    "#final_dataset = dataset_final.to_csv('final_dataset.csv')\n"
   ]
  },
  {
   "cell_type": "code",
   "execution_count": 188,
   "metadata": {},
   "outputs": [],
   "source": [
    "import string\n",
    "import seaborn as sns\n",
    "import matplotlib.pyplot as plt\n",
    "\n",
    "import nltk\n",
    "from nltk.corpus import stopwords\n",
    "from nltk.tokenize import word_tokenize\n",
    "\n",
    "from sklearn.feature_extraction.text import CountVectorizer\n",
    "from sklearn.model_selection import train_test_split\n",
    "from sklearn.naive_bayes import GaussianNB\n",
    "from sklearn.naive_bayes import MultinomialNB\n",
    "from sklearn.metrics import precision_recall_fscore_support, confusion_matrix"
   ]
  },
  {
   "attachments": {},
   "cell_type": "markdown",
   "metadata": {},
   "source": [
    "countplot of the real and fake news articles"
   ]
  },
  {
   "cell_type": "code",
   "execution_count": 189,
   "metadata": {},
   "outputs": [
    {
     "data": {
      "text/plain": [
       "<AxesSubplot:xlabel='Source', ylabel='count'>"
      ]
     },
     "execution_count": 189,
     "metadata": {},
     "output_type": "execute_result"
    },
    {
     "data": {
      "image/png": "[encoded data removed]",
      "text/plain": [
       "<Figure size 432x288 with 1 Axes>"
      ]
     },
     "metadata": {
      "needs_background": "light"
     },
     "output_type": "display_data"
    }
   ],
   "source": [
    "sns.countplot(data=dataset,x='Source')"
   ]
  },
  {
   "attachments": {},
   "cell_type": "markdown",
   "metadata": {},
   "source": [
    "convert the Content column in all lower case words"
   ]
  },
  {
   "cell_type": "code",
   "execution_count": 190,
   "metadata": {},
   "outputs": [
    {
     "name": "stderr",
     "output_type": "stream",
     "text": [
      "C:\\Users\\graduate\\AppData\\Local\\Temp\\ipykernel_7768\\1164475232.py:2: SettingWithCopyWarning: \n",
      "A value is trying to be set on a copy of a slice from a DataFrame.\n",
      "Try using .loc[row_indexer,col_indexer] = value instead\n",
      "\n",
      "See the caveats in the documentation: https://pandas.pydata.org/pandas-docs/stable/user_guide/indexing.html#returning-a-view-versus-a-copy\n",
      "  dataset_final['L_Content'] = dataset_final['Content'].str.lower()\n"
     ]
    },
    {
     "data": {
      "text/html": [
       "<div>\n",
       "<style scoped>\n",
       "    .dataframe tbody tr th:only-of-type {\n",
       "        vertical-align: middle;\n",
       "    }\n",
       "\n",
       "    .dataframe tbody tr th {\n",
       "        vertical-align: top;\n",
       "    }\n",
       "\n",
       "    .dataframe thead th {\n",
       "        text-align: right;\n",
       "    }\n",
       "</style>\n",
       "<table border=\"1\" class=\"dataframe\">\n",
       "  <thead>\n",
       "    <tr style=\"text-align: right;\">\n",
       "      <th></th>\n",
       "      <th>Title</th>\n",
       "      <th>Content</th>\n",
       "      <th>Source</th>\n",
       "      <th>L_Content</th>\n",
       "    </tr>\n",
       "  </thead>\n",
       "  <tbody>\n",
       "    <tr>\n",
       "      <th>0</th>\n",
       "      <td>Silicon Valley Bank collapse concerns founders...</td>\n",
       "      <td>The collapse of Silicon Valley Bank, a major f...</td>\n",
       "      <td>1</td>\n",
       "      <td>the collapse of silicon valley bank, a major f...</td>\n",
       "    </tr>\n",
       "    <tr>\n",
       "      <th>1</th>\n",
       "      <td>Mother of young boy who shot teacher arrested ...</td>\n",
       "      <td>In a shocking turn of events, the mother of th...</td>\n",
       "      <td>1</td>\n",
       "      <td>in a shocking turn of events, the mother of th...</td>\n",
       "    </tr>\n",
       "    <tr>\n",
       "      <th>2</th>\n",
       "      <td>660-mile rescue flight highlights Alaska's uni...</td>\n",
       "      <td>ANCHORAGE, Alaska (AP) — A recent rescue missi...</td>\n",
       "      <td>1</td>\n",
       "      <td>anchorage, alaska (ap) — a recent rescue missi...</td>\n",
       "    </tr>\n",
       "    <tr>\n",
       "      <th>3</th>\n",
       "      <td>Suspect in leak probe talked about God, guns a...</td>\n",
       "      <td>WASHINGTON (AP) -- A former U.S. government em...</td>\n",
       "      <td>1</td>\n",
       "      <td>washington (ap) -- a former u.s. government em...</td>\n",
       "    </tr>\n",
       "    <tr>\n",
       "      <th>4</th>\n",
       "      <td>New Ram electric pickup can go up to 500 miles...</td>\n",
       "      <td>The Ram truck brand has been a dominant force ...</td>\n",
       "      <td>1</td>\n",
       "      <td>the ram truck brand has been a dominant force ...</td>\n",
       "    </tr>\n",
       "  </tbody>\n",
       "</table>\n",
       "</div>"
      ],
      "text/plain": [
       "                                               Title  \\\n",
       "0  Silicon Valley Bank collapse concerns founders...   \n",
       "1  Mother of young boy who shot teacher arrested ...   \n",
       "2  660-mile rescue flight highlights Alaska's uni...   \n",
       "3  Suspect in leak probe talked about God, guns a...   \n",
       "4  New Ram electric pickup can go up to 500 miles...   \n",
       "\n",
       "                                             Content  Source  \\\n",
       "0  The collapse of Silicon Valley Bank, a major f...       1   \n",
       "1  In a shocking turn of events, the mother of th...       1   \n",
       "2  ANCHORAGE, Alaska (AP) — A recent rescue missi...       1   \n",
       "3  WASHINGTON (AP) -- A former U.S. government em...       1   \n",
       "4  The Ram truck brand has been a dominant force ...       1   \n",
       "\n",
       "                                           L_Content  \n",
       "0  the collapse of silicon valley bank, a major f...  \n",
       "1  in a shocking turn of events, the mother of th...  \n",
       "2  anchorage, alaska (ap) — a recent rescue missi...  \n",
       "3  washington (ap) -- a former u.s. government em...  \n",
       "4  the ram truck brand has been a dominant force ...  "
      ]
     },
     "execution_count": 190,
     "metadata": {},
     "output_type": "execute_result"
    }
   ],
   "source": [
    "##Convert 'Content' column to lowercase\n",
    "dataset_final['L_Content'] = dataset_final['Content'].str.lower()\n",
    "dataset_final.head()"
   ]
  },
  {
   "attachments": {},
   "cell_type": "markdown",
   "metadata": {},
   "source": [
    "remove stpwords and punctuation from the content of our news combination"
   ]
  },
  {
   "cell_type": "code",
   "execution_count": 191,
   "metadata": {},
   "outputs": [
    {
     "name": "stderr",
     "output_type": "stream",
     "text": [
      "[nltk_data] Downloading package stopwords to\n",
      "[nltk_data]     C:\\Users\\graduate\\AppData\\Roaming\\nltk_data...\n",
      "[nltk_data]   Package stopwords is already up-to-date!\n",
      "C:\\Users\\graduate\\AppData\\Local\\Temp\\ipykernel_7768\\183012934.py:4: SettingWithCopyWarning: \n",
      "A value is trying to be set on a copy of a slice from a DataFrame.\n",
      "Try using .loc[row_indexer,col_indexer] = value instead\n",
      "\n",
      "See the caveats in the documentation: https://pandas.pydata.org/pandas-docs/stable/user_guide/indexing.html#returning-a-view-versus-a-copy\n",
      "  dataset_final['L_Content'] = dataset_final.L_Content.apply(lambda x: ' '.join([word for word in x.split()\n"
     ]
    },
    {
     "data": {
      "text/html": [
       "<div>\n",
       "<style scoped>\n",
       "    .dataframe tbody tr th:only-of-type {\n",
       "        vertical-align: middle;\n",
       "    }\n",
       "\n",
       "    .dataframe tbody tr th {\n",
       "        vertical-align: top;\n",
       "    }\n",
       "\n",
       "    .dataframe thead th {\n",
       "        text-align: right;\n",
       "    }\n",
       "</style>\n",
       "<table border=\"1\" class=\"dataframe\">\n",
       "  <thead>\n",
       "    <tr style=\"text-align: right;\">\n",
       "      <th></th>\n",
       "      <th>Title</th>\n",
       "      <th>Content</th>\n",
       "      <th>Source</th>\n",
       "      <th>L_Content</th>\n",
       "    </tr>\n",
       "  </thead>\n",
       "  <tbody>\n",
       "    <tr>\n",
       "      <th>0</th>\n",
       "      <td>Silicon Valley Bank collapse concerns founders...</td>\n",
       "      <td>The collapse of Silicon Valley Bank, a major f...</td>\n",
       "      <td>1</td>\n",
       "      <td>collapse silicon valley bank, major financial ...</td>\n",
       "    </tr>\n",
       "    <tr>\n",
       "      <th>1</th>\n",
       "      <td>Mother of young boy who shot teacher arrested ...</td>\n",
       "      <td>In a shocking turn of events, the mother of th...</td>\n",
       "      <td>1</td>\n",
       "      <td>shocking turn events, mother young boy shot te...</td>\n",
       "    </tr>\n",
       "    <tr>\n",
       "      <th>2</th>\n",
       "      <td>660-mile rescue flight highlights Alaska's uni...</td>\n",
       "      <td>ANCHORAGE, Alaska (AP) — A recent rescue missi...</td>\n",
       "      <td>1</td>\n",
       "      <td>anchorage, alaska (ap) — recent rescue mission...</td>\n",
       "    </tr>\n",
       "    <tr>\n",
       "      <th>3</th>\n",
       "      <td>Suspect in leak probe talked about God, guns a...</td>\n",
       "      <td>WASHINGTON (AP) -- A former U.S. government em...</td>\n",
       "      <td>1</td>\n",
       "      <td>washington (ap) -- former u.s. government empl...</td>\n",
       "    </tr>\n",
       "    <tr>\n",
       "      <th>4</th>\n",
       "      <td>New Ram electric pickup can go up to 500 miles...</td>\n",
       "      <td>The Ram truck brand has been a dominant force ...</td>\n",
       "      <td>1</td>\n",
       "      <td>ram truck brand dominant force american pickup...</td>\n",
       "    </tr>\n",
       "  </tbody>\n",
       "</table>\n",
       "</div>"
      ],
      "text/plain": [
       "                                               Title  \\\n",
       "0  Silicon Valley Bank collapse concerns founders...   \n",
       "1  Mother of young boy who shot teacher arrested ...   \n",
       "2  660-mile rescue flight highlights Alaska's uni...   \n",
       "3  Suspect in leak probe talked about God, guns a...   \n",
       "4  New Ram electric pickup can go up to 500 miles...   \n",
       "\n",
       "                                             Content  Source  \\\n",
       "0  The collapse of Silicon Valley Bank, a major f...       1   \n",
       "1  In a shocking turn of events, the mother of th...       1   \n",
       "2  ANCHORAGE, Alaska (AP) — A recent rescue missi...       1   \n",
       "3  WASHINGTON (AP) -- A former U.S. government em...       1   \n",
       "4  The Ram truck brand has been a dominant force ...       1   \n",
       "\n",
       "                                           L_Content  \n",
       "0  collapse silicon valley bank, major financial ...  \n",
       "1  shocking turn events, mother young boy shot te...  \n",
       "2  anchorage, alaska (ap) — recent rescue mission...  \n",
       "3  washington (ap) -- former u.s. government empl...  \n",
       "4  ram truck brand dominant force american pickup...  "
      ]
     },
     "execution_count": 191,
     "metadata": {},
     "output_type": "execute_result"
    }
   ],
   "source": [
    "nltk.download('stopwords')\n",
    "stop = set(stopwords.words('english'))\n",
    "punctuations=string.punctuation\n",
    "dataset_final['L_Content'] = dataset_final.L_Content.apply(lambda x: ' '.join([word for word in x.split() \n",
    "                    if word not in (stop) and word[0] != '@' \n",
    "                    and word not in punctuations ]))\n",
    "dataset_final.head()"
   ]
  },
  {
   "attachments": {},
   "cell_type": "markdown",
   "metadata": {},
   "source": [
    "remove punctuations"
   ]
  },
  {
   "cell_type": "code",
   "execution_count": 192,
   "metadata": {},
   "outputs": [
    {
     "name": "stderr",
     "output_type": "stream",
     "text": [
      "C:\\Users\\graduate\\AppData\\Local\\Temp\\ipykernel_7768\\2819100359.py:1: FutureWarning: The default value of regex will change from True to False in a future version.\n",
      "  dataset_final['L_Content'] = dataset_final['L_Content'].str.replace('[{}]'.format(string.punctuation), '')\n",
      "C:\\Users\\graduate\\AppData\\Local\\Temp\\ipykernel_7768\\2819100359.py:1: SettingWithCopyWarning: \n",
      "A value is trying to be set on a copy of a slice from a DataFrame.\n",
      "Try using .loc[row_indexer,col_indexer] = value instead\n",
      "\n",
      "See the caveats in the documentation: https://pandas.pydata.org/pandas-docs/stable/user_guide/indexing.html#returning-a-view-versus-a-copy\n",
      "  dataset_final['L_Content'] = dataset_final['L_Content'].str.replace('[{}]'.format(string.punctuation), '')\n"
     ]
    },
    {
     "data": {
      "text/html": [
       "<div>\n",
       "<style scoped>\n",
       "    .dataframe tbody tr th:only-of-type {\n",
       "        vertical-align: middle;\n",
       "    }\n",
       "\n",
       "    .dataframe tbody tr th {\n",
       "        vertical-align: top;\n",
       "    }\n",
       "\n",
       "    .dataframe thead th {\n",
       "        text-align: right;\n",
       "    }\n",
       "</style>\n",
       "<table border=\"1\" class=\"dataframe\">\n",
       "  <thead>\n",
       "    <tr style=\"text-align: right;\">\n",
       "      <th></th>\n",
       "      <th>Title</th>\n",
       "      <th>Content</th>\n",
       "      <th>Source</th>\n",
       "      <th>L_Content</th>\n",
       "    </tr>\n",
       "  </thead>\n",
       "  <tbody>\n",
       "    <tr>\n",
       "      <th>0</th>\n",
       "      <td>Silicon Valley Bank collapse concerns founders...</td>\n",
       "      <td>The collapse of Silicon Valley Bank, a major f...</td>\n",
       "      <td>1</td>\n",
       "      <td>collapse silicon valley bank major financial i...</td>\n",
       "    </tr>\n",
       "    <tr>\n",
       "      <th>1</th>\n",
       "      <td>Mother of young boy who shot teacher arrested ...</td>\n",
       "      <td>In a shocking turn of events, the mother of th...</td>\n",
       "      <td>1</td>\n",
       "      <td>shocking turn events mother young boy shot tea...</td>\n",
       "    </tr>\n",
       "    <tr>\n",
       "      <th>2</th>\n",
       "      <td>660-mile rescue flight highlights Alaska's uni...</td>\n",
       "      <td>ANCHORAGE, Alaska (AP) — A recent rescue missi...</td>\n",
       "      <td>1</td>\n",
       "      <td>anchorage alaska ap — recent rescue mission al...</td>\n",
       "    </tr>\n",
       "    <tr>\n",
       "      <th>3</th>\n",
       "      <td>Suspect in leak probe talked about God, guns a...</td>\n",
       "      <td>WASHINGTON (AP) -- A former U.S. government em...</td>\n",
       "      <td>1</td>\n",
       "      <td>washington ap  former us government employee a...</td>\n",
       "    </tr>\n",
       "    <tr>\n",
       "      <th>4</th>\n",
       "      <td>New Ram electric pickup can go up to 500 miles...</td>\n",
       "      <td>The Ram truck brand has been a dominant force ...</td>\n",
       "      <td>1</td>\n",
       "      <td>ram truck brand dominant force american pickup...</td>\n",
       "    </tr>\n",
       "  </tbody>\n",
       "</table>\n",
       "</div>"
      ],
      "text/plain": [
       "                                               Title  \\\n",
       "0  Silicon Valley Bank collapse concerns founders...   \n",
       "1  Mother of young boy who shot teacher arrested ...   \n",
       "2  660-mile rescue flight highlights Alaska's uni...   \n",
       "3  Suspect in leak probe talked about God, guns a...   \n",
       "4  New Ram electric pickup can go up to 500 miles...   \n",
       "\n",
       "                                             Content  Source  \\\n",
       "0  The collapse of Silicon Valley Bank, a major f...       1   \n",
       "1  In a shocking turn of events, the mother of th...       1   \n",
       "2  ANCHORAGE, Alaska (AP) — A recent rescue missi...       1   \n",
       "3  WASHINGTON (AP) -- A former U.S. government em...       1   \n",
       "4  The Ram truck brand has been a dominant force ...       1   \n",
       "\n",
       "                                           L_Content  \n",
       "0  collapse silicon valley bank major financial i...  \n",
       "1  shocking turn events mother young boy shot tea...  \n",
       "2  anchorage alaska ap — recent rescue mission al...  \n",
       "3  washington ap  former us government employee a...  \n",
       "4  ram truck brand dominant force american pickup...  "
      ]
     },
     "execution_count": 192,
     "metadata": {},
     "output_type": "execute_result"
    }
   ],
   "source": [
    "dataset_final['L_Content'] = dataset_final['L_Content'].str.replace('[{}]'.format(string.punctuation), '')\n",
    "dataset_final.head()"
   ]
  },
  {
   "attachments": {},
   "cell_type": "markdown",
   "metadata": {},
   "source": [
    "tokenize the news content"
   ]
  },
  {
   "cell_type": "code",
   "execution_count": 193,
   "metadata": {},
   "outputs": [
    {
     "name": "stderr",
     "output_type": "stream",
     "text": [
      "[nltk_data] Downloading package punkt to\n",
      "[nltk_data]     C:\\Users\\graduate\\AppData\\Roaming\\nltk_data...\n",
      "[nltk_data]   Package punkt is already up-to-date!\n"
     ]
    },
    {
     "data": {
      "text/plain": [
       "True"
      ]
     },
     "execution_count": 193,
     "metadata": {},
     "output_type": "execute_result"
    }
   ],
   "source": [
    "# Load the NLTK tokenizer\n",
    "nltk.download('punkt')"
   ]
  },
  {
   "attachments": {},
   "cell_type": "markdown",
   "metadata": {},
   "source": [
    "Tokenizing and Stemming"
   ]
  },
  {
   "cell_type": "code",
   "execution_count": 194,
   "metadata": {},
   "outputs": [
    {
     "name": "stderr",
     "output_type": "stream",
     "text": [
      "C:\\Users\\graduate\\AppData\\Local\\Temp\\ipykernel_7768\\565116871.py:5: SettingWithCopyWarning: \n",
      "A value is trying to be set on a copy of a slice from a DataFrame\n",
      "\n",
      "See the caveats in the documentation: https://pandas.pydata.org/pandas-docs/stable/user_guide/indexing.html#returning-a-view-versus-a-copy\n",
      "  dataset_final['L_Content'].fillna('', inplace=True)\n",
      "C:\\Users\\graduate\\AppData\\Local\\Temp\\ipykernel_7768\\565116871.py:7: SettingWithCopyWarning: \n",
      "A value is trying to be set on a copy of a slice from a DataFrame.\n",
      "Try using .loc[row_indexer,col_indexer] = value instead\n",
      "\n",
      "See the caveats in the documentation: https://pandas.pydata.org/pandas-docs/stable/user_guide/indexing.html#returning-a-view-versus-a-copy\n",
      "  dataset_final['L_Content'] = dataset_final['L_Content'].apply(lambda x: word_tokenize(x) if isinstance(x, str) else x)\n"
     ]
    }
   ],
   "source": [
    "from nltk.stem import PorterStemmer\n",
    "# Create an instance of the PorterStemmer class\n",
    "porter_stemmer = PorterStemmer()\n",
    "# Replace null values with an empty string\n",
    "dataset_final['L_Content'].fillna('', inplace=True)\n",
    "# Tokenize the 'Content' column only for non-null values\n",
    "dataset_final['L_Content'] = dataset_final['L_Content'].apply(lambda x: word_tokenize(x) if isinstance(x, str) else x)\n"
   ]
  },
  {
   "cell_type": "code",
   "execution_count": 195,
   "metadata": {},
   "outputs": [
    {
     "name": "stderr",
     "output_type": "stream",
     "text": [
      "C:\\Users\\graduate\\AppData\\Local\\Temp\\ipykernel_7768\\1520122374.py:6: SettingWithCopyWarning: \n",
      "A value is trying to be set on a copy of a slice from a DataFrame.\n",
      "Try using .loc[row_indexer,col_indexer] = value instead\n",
      "\n",
      "See the caveats in the documentation: https://pandas.pydata.org/pandas-docs/stable/user_guide/indexing.html#returning-a-view-versus-a-copy\n",
      "  dataset_final['L_Content'] = dataset_final['L_Content'].apply(stem_words)\n"
     ]
    }
   ],
   "source": [
    "# Define a function for stemming\n",
    "def stem_words(tokens):\n",
    "    return [porter_stemmer.stem(token) for token in tokens]\n",
    "\n",
    "# Apply stemming to the 'Content' column\n",
    "dataset_final['L_Content'] = dataset_final['L_Content'].apply(stem_words)"
   ]
  },
  {
   "attachments": {},
   "cell_type": "markdown",
   "metadata": {},
   "source": [
    "## Naive Bayes Classification"
   ]
  },
  {
   "attachments": {},
   "cell_type": "markdown",
   "metadata": {},
   "source": [
    "#### Create a matrix with every unique word in it"
   ]
  },
  {
   "cell_type": "code",
   "execution_count": 196,
   "metadata": {},
   "outputs": [
    {
     "name": "stderr",
     "output_type": "stream",
     "text": [
      "C:\\Users\\graduate\\AppData\\Local\\Temp\\ipykernel_7768\\2929424380.py:2: SettingWithCopyWarning: \n",
      "A value is trying to be set on a copy of a slice from a DataFrame.\n",
      "Try using .loc[row_indexer,col_indexer] = value instead\n",
      "\n",
      "See the caveats in the documentation: https://pandas.pydata.org/pandas-docs/stable/user_guide/indexing.html#returning-a-view-versus-a-copy\n",
      "  dataset_final['L_Content'] = dataset_final['L_Content'].apply(lambda x: ' '.join(x) if isinstance(x, list) else x)\n",
      "C:\\Users\\graduate\\AppData\\Local\\Temp\\ipykernel_7768\\2929424380.py:4: SettingWithCopyWarning: \n",
      "A value is trying to be set on a copy of a slice from a DataFrame.\n",
      "Try using .loc[row_indexer,col_indexer] = value instead\n",
      "\n",
      "See the caveats in the documentation: https://pandas.pydata.org/pandas-docs/stable/user_guide/indexing.html#returning-a-view-versus-a-copy\n",
      "  dataset_final['L_Content'] = dataset_final['L_Content'].str.lower()\n"
     ]
    }
   ],
   "source": [
    "# Concatenate the list of words into a single string\n",
    "dataset_final['L_Content'] = dataset_final['L_Content'].apply(lambda x: ' '.join(x) if isinstance(x, list) else x)\n",
    "# Convert the 'Content' column to lowercase\n",
    "dataset_final['L_Content'] = dataset_final['L_Content'].str.lower()"
   ]
  },
  {
   "cell_type": "code",
   "execution_count": 197,
   "metadata": {},
   "outputs": [],
   "source": [
    "cv = CountVectorizer(ngram_range=(1,1), min_df=10)\n",
    "vectorized_tweets = cv.fit_transform(dataset_final['L_Content'])"
   ]
  },
  {
   "cell_type": "code",
   "execution_count": 198,
   "metadata": {},
   "outputs": [],
   "source": [
    "# Split data into test and training dataset\n",
    "X=vectorized_tweets\n",
    "y=dataset_final['Source'].values\n",
    "X_train, X_test, y_train, y_test = train_test_split(X, y, test_size=0.2, random_state=42)\n"
   ]
  },
  {
   "cell_type": "code",
   "execution_count": 199,
   "metadata": {},
   "outputs": [
    {
     "name": "stdout",
     "output_type": "stream",
     "text": [
      "[0.9109589  0.92424242] [0.93006993 0.9037037 ] [0.92041522 0.91385768] [143 135]\n"
     ]
    }
   ],
   "source": [
    "# Fit data to a multinomial Naive Bayes model\n",
    "clf = MultinomialNB()\n",
    "clf.fit(X_train, y_train)\n",
    "y_pred = clf.predict(X_test)\n",
    "p,r,f,s = precision_recall_fscore_support(y_test, y_pred)\n",
    "print(p, r, f, s)"
   ]
  },
  {
   "cell_type": "code",
   "execution_count": 201,
   "metadata": {},
   "outputs": [
    {
     "data": {
      "text/plain": [
       "Text(91.68, 0.5, 'Predicted')"
      ]
     },
     "execution_count": 201,
     "metadata": {},
     "output_type": "execute_result"
    },
    {
     "data": {
      "image/png": "[encoded data removed]",
      "text/plain": [
       "<Figure size 432x288 with 1 Axes>"
      ]
     },
     "metadata": {
      "needs_background": "light"
     },
     "output_type": "display_data"
    }
   ],
   "source": [
    "tn, fp, fn, tp = confusion_matrix(y_test, y_pred).ravel()\n",
    "array = [[tp, fp],[fn, tn]]\n",
    "sns.heatmap(array, annot=True, annot_kws={\"size\": 16}, fmt='g', cmap='gray_r', vmin=0, vmax=0, cbar=False, linewidths=0.5, linecolor='k', square=True)\n",
    "sns.despine(left=False, right=False, top=False, bottom=False)\n",
    "plt.xlabel('Actual')\n",
    "plt.ylabel('Predicted')\n",
    "# plt.savefig('1x1.png')"
   ]
  },
  {
   "cell_type": "code",
   "execution_count": 202,
   "metadata": {},
   "outputs": [
    {
     "name": "stdout",
     "output_type": "stream",
     "text": [
      "Orig article words:\n",
      " ['also' 'said' 'year' 'mani' 'state' 'one' 'new' 'need' 'work' 'could'\n",
      " 'howev' 'use' 'peopl' 'continu' 'countri' 'includ' 'like' 'recent'\n",
      " 'commun' 'us' 'may' 'health' 'make' 'take' 'time' 'come' 'issu' 'provid'\n",
      " 'concern' 'compani' 'govern' 'support' 'face' 'would' 'world' 'right'\n",
      " 'import' 'call' 'it' 'we' 'help' 'signific' 'risk' 'sever' 'critic'\n",
      " 'protect' 'say' 'bank' 'potenti' 'remain']\n",
      "\n",
      "Fake article words:\n",
      " ['also' 'said' 'year' 'mani' 'state' 'one' 'new' 'need' 'work' 'could'\n",
      " 'howev' 'use' 'peopl' 'continu' 'countri' 'includ' 'like' 'recent'\n",
      " 'commun' 'us' 'may' 'health' 'make' 'take' 'time' 'come' 'issu' 'provid'\n",
      " 'concern' 'compani' 'govern' 'support' 'face' 'would' 'world' 'right'\n",
      " 'import' 'call' 'it' 'we' 'help' 'signific' 'risk' 'sever' 'critic'\n",
      " 'protect' 'say' 'bank' 'potenti' 'remain']\n"
     ]
    }
   ],
   "source": [
    "orig_article_sorted = clf.feature_log_prob_[0, :].argsort()[::-1]\n",
    "orig_article_sorted = clf.feature_log_prob_[1, :].argsort()[::-1]\n",
    "print('Orig article words:\\n', np.take(cv.get_feature_names_out(), orig_article_sorted[:50]))\n",
    "print('\\nFake article words:\\n', np.take(cv.get_feature_names_out(), orig_article_sorted[:50]))"
   ]
  }
 ],
 "metadata": {
  "kernelspec": {
   "display_name": "Python 3",
   "language": "python",
   "name": "python3"
  },
  "language_info": {
   "codemirror_mode": {
    "name": "ipython",
    "version": 3
   },
   "file_extension": ".py",
   "mimetype": "text/x-python",
   "name": "python",
   "nbconvert_exporter": "python",
   "pygments_lexer": "ipython3",
   "version": "3.10.4"
  },
  "orig_nbformat": 4
 },
 "nbformat": 4,
 "nbformat_minor": 2
}
