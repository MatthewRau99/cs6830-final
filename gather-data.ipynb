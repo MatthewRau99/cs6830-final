{
 "cells": [
  {
   "attachments": {},
   "cell_type": "markdown",
   "metadata": {},
   "source": [
    "## Getting Chat Generated Articles from OpenAI"
   ]
  },
  {
   "cell_type": "code",
   "execution_count": 1,
   "metadata": {},
   "outputs": [],
   "source": [
    "#%pip install --user openai"
   ]
  },
  {
   "cell_type": "code",
   "execution_count": 2,
   "metadata": {},
   "outputs": [],
   "source": [
    "import openai\n",
    "import pandas as pd\n",
    "import numpy as np\n",
    "import time\n",
    "\n",
    "# Set api key here, left empty for account privacy reasons. You can add you own api key if you want to try\n",
    "openai.api_key = \"\""
   ]
  },
  {
   "cell_type": "code",
   "execution_count": 3,
   "metadata": {},
   "outputs": [],
   "source": [
    "# with open(\"C:\\\\Users\\\\graduate\\\\Box\\\\Courses taken\\\\CS 6830 Data Science in practice\\\\Final project\\\\openai_api.txt\", 'r') as f:\n",
    "#     api_key = f.read().strip()\n",
    "\n",
    "# # Set api key here, left empty for account privacy reasons. You can add you own api key if you want to try\n",
    "# openai.api_key = api_key"
   ]
  },
  {
   "cell_type": "code",
   "execution_count": 4,
   "metadata": {},
   "outputs": [],
   "source": [
    "# articles is a list of dictionaries. Each dictionary contains all the information needed to generate one news article.\n",
    "# Information is gotten by scraping existing articles online\n",
    "# Currently, the prompt requires the the new organization: 'source', wordcount the generated article should be: 'wordcount'\n",
    "# and the headline: 'headline'. An example is shown below\n",
    "articles = [{'source':'CNN', 'wordcount':'200', 'headline':'What is the Good Friday Agreement? How a historic deal ended the Troubles in Northern Ireland'}]"
   ]
  },
  {
   "cell_type": "code",
   "execution_count": 5,
   "metadata": {},
   "outputs": [],
   "source": [
    "def getFakeArticles(articles):\n",
    "    fakeArticles = pd.DataFrame(columns=['Headline', 'Content'])\n",
    "    for article in articles:\n",
    "        prompt=[\n",
    "            {\"role\": \"system\", \"content\": f\"You are a journalist at {article['source']}\"},\n",
    "            {\"role\": \"user\", \"content\": f\"Write an article with about {article['wordcount']} words with the headline '{article['headline']}'\"},\n",
    "        ]\n",
    "        response = openai.ChatCompletion.create(\n",
    "            model=\"gpt-3.5-turbo\",\n",
    "            messages=prompt\n",
    "        )\n",
    "        fakeArticles.loc[len(fakeArticles.index)] = [article['headline'], response['choices'][0]['message']['content']]\n",
    "        print(f'Articles created: {len(fakeArticles)}')\n",
    "\n",
    "        time.sleep(5)\n",
    "\n",
    "    return fakeArticles"
   ]
  },
  {
   "attachments": {},
   "cell_type": "markdown",
   "metadata": {},
   "source": [
    "## Make CNN Fake Articles"
   ]
  },
  {
   "cell_type": "code",
   "execution_count": 6,
   "metadata": {},
   "outputs": [],
   "source": [
    "# df = pd.read_csv('CNN500_items.csv')\n",
    "\n",
    "# ai_50 = df.sample(frac = 0.5)\n",
    "# real_50 = df.drop(ai_50.index)\n",
    "\n",
    "# articles = []\n",
    "# for index, row in ai_50.iterrows():\n",
    "#     articles.append({'source':'CNN','wordcount':len(row.Description.replace('\\n','').split(' ')),'headline':row.Title.replace('\\n','').strip()})"
   ]
  },
  {
   "cell_type": "code",
   "execution_count": 7,
   "metadata": {},
   "outputs": [],
   "source": [
    "# ai_gen = getFakeArticles(articles)"
   ]
  },
  {
   "cell_type": "code",
   "execution_count": 8,
   "metadata": {},
   "outputs": [],
   "source": [
    "# ai_gen.columns = ['Title', 'Content']\n",
    "# ai_gen['Source'] = 1\n",
    "\n",
    "# non_ai = real_50[['Title', 'Description']]\n",
    "# non_ai.columns = ['Title', 'Content']\n",
    "# non_ai['Source'] = 0\n",
    "\n",
    "# cnn_mixed = pd.concat([ai_gen, non_ai], ignore_index=True)"
   ]
  },
  {
   "cell_type": "code",
   "execution_count": 9,
   "metadata": {},
   "outputs": [],
   "source": [
    "# cnn_mixed.to_csv(path_or_buf=\"cnn_mixed.csv\")"
   ]
  },
  {
   "attachments": {},
   "cell_type": "markdown",
   "metadata": {},
   "source": [
    "## Make AP Fake Articles"
   ]
  },
  {
   "cell_type": "code",
   "execution_count": 10,
   "metadata": {},
   "outputs": [],
   "source": [
    "# df = pd.read_csv('AP501dataset.csv')\n",
    "\n",
    "# df.loc[0].text\n",
    "# ai_50 = df.sample(frac = 0.5)\n",
    "# real_50 = df.drop(ai_50.index)\n",
    "\n",
    "# articles = []\n",
    "# for index, row in ai_50.iterrows():\n",
    "#     articles.append({'source':'AP News','wordcount':len(row.text.replace('\\n','').split(' ')),'headline':row.title.replace('\\n','').strip()})"
   ]
  },
  {
   "cell_type": "code",
   "execution_count": 11,
   "metadata": {},
   "outputs": [],
   "source": [
    "# ai_gen = getFakeArticles(articles)"
   ]
  },
  {
   "cell_type": "code",
   "execution_count": 12,
   "metadata": {},
   "outputs": [],
   "source": [
    "# ai_gen.columns = ['Title', 'Content']\n",
    "# ai_gen['Source'] = 1\n",
    "\n",
    "# non_ai = real_50[['title', 'text']]\n",
    "# non_ai.columns = ['Title', 'Content']\n",
    "# non_ai['Source'] = 0\n",
    "\n",
    "# ap_mixed = pd.concat([ai_gen, non_ai], ignore_index=True)"
   ]
  },
  {
   "cell_type": "code",
   "execution_count": 13,
   "metadata": {},
   "outputs": [],
   "source": [
    "# ap_mixed.to_csv(\"ap_mixed.csv\")"
   ]
  },
  {
   "attachments": {},
   "cell_type": "markdown",
   "metadata": {},
   "source": [
    "## Make Fake Fox News Articles"
   ]
  },
  {
   "cell_type": "code",
   "execution_count": 14,
   "metadata": {},
   "outputs": [],
   "source": [
    "# df = pd.read_csv('fox260.csv')\n",
    "\n",
    "# ai_50 = df.sample(frac = 0.5)\n",
    "# real_50 = df.drop(ai_50.index)\n",
    "\n",
    "# articles = []\n",
    "# for index, row in ai_50.iterrows():\n",
    "#     articles.append({'source':'Fox News','wordcount':len(row.text.replace('\\n','').split(' ')),'headline':row.title.replace('\\n','').strip()})"
   ]
  },
  {
   "cell_type": "code",
   "execution_count": 15,
   "metadata": {},
   "outputs": [],
   "source": [
    "# ai_gen = getFakeArticles(articles)"
   ]
  },
  {
   "cell_type": "code",
   "execution_count": 16,
   "metadata": {},
   "outputs": [],
   "source": [
    "# ai_gen.columns = ['Title', 'Content']\n",
    "# ai_gen['Source'] = 1\n",
    "\n",
    "# non_ai = real_50[['title', 'text']]\n",
    "# non_ai.columns = ['Title', 'Content']\n",
    "# non_ai['Source'] = 0\n",
    "\n",
    "# fox_mixed = pd.concat([ai_gen, non_ai], ignore_index=True)"
   ]
  },
  {
   "cell_type": "code",
   "execution_count": 17,
   "metadata": {},
   "outputs": [],
   "source": [
    "# fox_mixed.to_csv(\"fox_mixed.csv\")"
   ]
  },
  {
   "attachments": {},
   "cell_type": "markdown",
   "metadata": {},
   "source": [
    "## Megh's Analysis"
   ]
  },
  {
   "attachments": {},
   "cell_type": "markdown",
   "metadata": {},
   "source": [
    "#### Read dataset"
   ]
  },
  {
   "cell_type": "code",
   "execution_count": 1,
   "metadata": {},
   "outputs": [],
   "source": [
    "import pandas as pd\n",
    "import numpy as np"
   ]
  },
  {
   "cell_type": "code",
   "execution_count": 2,
   "metadata": {},
   "outputs": [
    {
     "data": {
      "text/html": [
       "<div>\n",
       "<style scoped>\n",
       "    .dataframe tbody tr th:only-of-type {\n",
       "        vertical-align: middle;\n",
       "    }\n",
       "\n",
       "    .dataframe tbody tr th {\n",
       "        vertical-align: top;\n",
       "    }\n",
       "\n",
       "    .dataframe thead th {\n",
       "        text-align: right;\n",
       "    }\n",
       "</style>\n",
       "<table border=\"1\" class=\"dataframe\">\n",
       "  <thead>\n",
       "    <tr style=\"text-align: right;\">\n",
       "      <th></th>\n",
       "      <th>Unnamed: 0</th>\n",
       "      <th>Title</th>\n",
       "      <th>Content</th>\n",
       "      <th>Source</th>\n",
       "    </tr>\n",
       "  </thead>\n",
       "  <tbody>\n",
       "    <tr>\n",
       "      <th>0</th>\n",
       "      <td>0</td>\n",
       "      <td>Silicon Valley Bank collapse concerns founders...</td>\n",
       "      <td>The collapse of Silicon Valley Bank, a major f...</td>\n",
       "      <td>1</td>\n",
       "    </tr>\n",
       "    <tr>\n",
       "      <th>1</th>\n",
       "      <td>1</td>\n",
       "      <td>Mother of young boy who shot teacher arrested ...</td>\n",
       "      <td>In a shocking turn of events, the mother of th...</td>\n",
       "      <td>1</td>\n",
       "    </tr>\n",
       "    <tr>\n",
       "      <th>2</th>\n",
       "      <td>2</td>\n",
       "      <td>660-mile rescue flight highlights Alaska's uni...</td>\n",
       "      <td>ANCHORAGE, Alaska (AP) — A recent rescue missi...</td>\n",
       "      <td>1</td>\n",
       "    </tr>\n",
       "    <tr>\n",
       "      <th>3</th>\n",
       "      <td>3</td>\n",
       "      <td>Suspect in leak probe talked about God, guns a...</td>\n",
       "      <td>WASHINGTON (AP) -- A former U.S. government em...</td>\n",
       "      <td>1</td>\n",
       "    </tr>\n",
       "    <tr>\n",
       "      <th>4</th>\n",
       "      <td>4</td>\n",
       "      <td>New Ram electric pickup can go up to 500 miles...</td>\n",
       "      <td>The Ram truck brand has been a dominant force ...</td>\n",
       "      <td>1</td>\n",
       "    </tr>\n",
       "    <tr>\n",
       "      <th>...</th>\n",
       "      <td>...</td>\n",
       "      <td>...</td>\n",
       "      <td>...</td>\n",
       "      <td>...</td>\n",
       "    </tr>\n",
       "    <tr>\n",
       "      <th>496</th>\n",
       "      <td>496</td>\n",
       "      <td>When exactly will India surpass China as most ...</td>\n",
       "      <td>India will surpass China’s population this mon...</td>\n",
       "      <td>0</td>\n",
       "    </tr>\n",
       "    <tr>\n",
       "      <th>497</th>\n",
       "      <td>497</td>\n",
       "      <td>India residents try to save a river, officials...</td>\n",
       "      <td>KOCHI, India (AP) — Eloor smells like it is dy...</td>\n",
       "      <td>0</td>\n",
       "    </tr>\n",
       "    <tr>\n",
       "      <th>498</th>\n",
       "      <td>498</td>\n",
       "      <td>Dutch court nixes plan to reduce flights at Sc...</td>\n",
       "      <td>THE HAGUE, Netherlands (AP) — A judge ruled We...</td>\n",
       "      <td>0</td>\n",
       "    </tr>\n",
       "    <tr>\n",
       "      <th>499</th>\n",
       "      <td>499</td>\n",
       "      <td>Easter marks Las Vegas' warmest day yet in 2023</td>\n",
       "      <td>LAS VEGAS (AP) — Easter Sunday marks the first...</td>\n",
       "      <td>0</td>\n",
       "    </tr>\n",
       "    <tr>\n",
       "      <th>500</th>\n",
       "      <td>500</td>\n",
       "      <td>Albania hosts forum promoting regional tourism</td>\n",
       "      <td>TIRANA, Albania (AP) — An international forum ...</td>\n",
       "      <td>0</td>\n",
       "    </tr>\n",
       "  </tbody>\n",
       "</table>\n",
       "<p>501 rows × 4 columns</p>\n",
       "</div>"
      ],
      "text/plain": [
       "     Unnamed: 0                                              Title  \\\n",
       "0             0  Silicon Valley Bank collapse concerns founders...   \n",
       "1             1  Mother of young boy who shot teacher arrested ...   \n",
       "2             2  660-mile rescue flight highlights Alaska's uni...   \n",
       "3             3  Suspect in leak probe talked about God, guns a...   \n",
       "4             4  New Ram electric pickup can go up to 500 miles...   \n",
       "..          ...                                                ...   \n",
       "496         496  When exactly will India surpass China as most ...   \n",
       "497         497  India residents try to save a river, officials...   \n",
       "498         498  Dutch court nixes plan to reduce flights at Sc...   \n",
       "499         499    Easter marks Las Vegas' warmest day yet in 2023   \n",
       "500         500     Albania hosts forum promoting regional tourism   \n",
       "\n",
       "                                               Content  Source  \n",
       "0    The collapse of Silicon Valley Bank, a major f...       1  \n",
       "1    In a shocking turn of events, the mother of th...       1  \n",
       "2    ANCHORAGE, Alaska (AP) — A recent rescue missi...       1  \n",
       "3    WASHINGTON (AP) -- A former U.S. government em...       1  \n",
       "4    The Ram truck brand has been a dominant force ...       1  \n",
       "..                                                 ...     ...  \n",
       "496  India will surpass China’s population this mon...       0  \n",
       "497  KOCHI, India (AP) — Eloor smells like it is dy...       0  \n",
       "498  THE HAGUE, Netherlands (AP) — A judge ruled We...       0  \n",
       "499  LAS VEGAS (AP) — Easter Sunday marks the first...       0  \n",
       "500  TIRANA, Albania (AP) — An international forum ...       0  \n",
       "\n",
       "[501 rows x 4 columns]"
      ]
     },
     "metadata": {},
     "output_type": "display_data"
    }
   ],
   "source": [
    "# Read the three CSV files into separate DataFrames\n",
    "ap_mixed1 = pd.read_csv('ap_mixed.csv')\n",
    "display(ap_mixed1)"
   ]
  },
  {
   "cell_type": "code",
   "execution_count": 3,
   "metadata": {},
   "outputs": [
    {
     "data": {
      "text/html": [
       "<div>\n",
       "<style scoped>\n",
       "    .dataframe tbody tr th:only-of-type {\n",
       "        vertical-align: middle;\n",
       "    }\n",
       "\n",
       "    .dataframe tbody tr th {\n",
       "        vertical-align: top;\n",
       "    }\n",
       "\n",
       "    .dataframe thead th {\n",
       "        text-align: right;\n",
       "    }\n",
       "</style>\n",
       "<table border=\"1\" class=\"dataframe\">\n",
       "  <thead>\n",
       "    <tr style=\"text-align: right;\">\n",
       "      <th></th>\n",
       "      <th>Unnamed: 0</th>\n",
       "      <th>Title</th>\n",
       "      <th>Content</th>\n",
       "      <th>Source</th>\n",
       "    </tr>\n",
       "  </thead>\n",
       "  <tbody>\n",
       "    <tr>\n",
       "      <th>0</th>\n",
       "      <td>0</td>\n",
       "      <td>Prince Harry to attend King's coronation witho...</td>\n",
       "      <td>Prince Harry is set to attend his grandfather'...</td>\n",
       "      <td>1</td>\n",
       "    </tr>\n",
       "    <tr>\n",
       "      <th>1</th>\n",
       "      <td>1</td>\n",
       "      <td>Tupperware stock plunges after warning it coul...</td>\n",
       "      <td>Tupperware, the company famous for its airtigh...</td>\n",
       "      <td>1</td>\n",
       "    </tr>\n",
       "    <tr>\n",
       "      <th>2</th>\n",
       "      <td>2</td>\n",
       "      <td>Fmr. Israeli Prime Minister Naftali Bennett sp...</td>\n",
       "      <td>Former Israeli Prime Minister Naftali Bennett ...</td>\n",
       "      <td>1</td>\n",
       "    </tr>\n",
       "    <tr>\n",
       "      <th>3</th>\n",
       "      <td>3</td>\n",
       "      <td>Ukrainian prime minister says Putin bears resp...</td>\n",
       "      <td>Ukrainian Prime Minister Denys Shmyhal has cal...</td>\n",
       "      <td>1</td>\n",
       "    </tr>\n",
       "    <tr>\n",
       "      <th>4</th>\n",
       "      <td>4</td>\n",
       "      <td>JPMorgan ends remote work for senior bankers</td>\n",
       "      <td>In a surprising move, JPMorgan Chase, the larg...</td>\n",
       "      <td>1</td>\n",
       "    </tr>\n",
       "    <tr>\n",
       "      <th>...</th>\n",
       "      <td>...</td>\n",
       "      <td>...</td>\n",
       "      <td>...</td>\n",
       "      <td>...</td>\n",
       "    </tr>\n",
       "    <tr>\n",
       "      <th>494</th>\n",
       "      <td>494</td>\n",
       "      <td>Emmy Rossum announces birth of son</td>\n",
       "      <td>In a surprise announcement, actress Emmy Rossu...</td>\n",
       "      <td>0</td>\n",
       "    </tr>\n",
       "    <tr>\n",
       "      <th>495</th>\n",
       "      <td>495</td>\n",
       "      <td>Michael K. Williams: Man who sold the late act...</td>\n",
       "      <td>A Brooklyn man charged in the overdose death o...</td>\n",
       "      <td>0</td>\n",
       "    </tr>\n",
       "    <tr>\n",
       "      <th>496</th>\n",
       "      <td>496</td>\n",
       "      <td>April movie preview</td>\n",
       "      <td>Nicolas Cage as Count Dracula is among the mov...</td>\n",
       "      <td>0</td>\n",
       "    </tr>\n",
       "    <tr>\n",
       "      <th>497</th>\n",
       "      <td>497</td>\n",
       "      <td>Hollywood Minute: 'Grease' prequel series debu...</td>\n",
       "      <td>'Grease: Rise of the Pink Ladies' arrives toda...</td>\n",
       "      <td>0</td>\n",
       "    </tr>\n",
       "    <tr>\n",
       "      <th>498</th>\n",
       "      <td>498</td>\n",
       "      <td>Lizzo snuggles Grogu in a cameo-filled 'The Ma...</td>\n",
       "      <td>Lizzo has officially joined the \"Star Wars\" ga...</td>\n",
       "      <td>0</td>\n",
       "    </tr>\n",
       "  </tbody>\n",
       "</table>\n",
       "<p>499 rows × 4 columns</p>\n",
       "</div>"
      ],
      "text/plain": [
       "     Unnamed: 0                                              Title  \\\n",
       "0             0  Prince Harry to attend King's coronation witho...   \n",
       "1             1  Tupperware stock plunges after warning it coul...   \n",
       "2             2  Fmr. Israeli Prime Minister Naftali Bennett sp...   \n",
       "3             3  Ukrainian prime minister says Putin bears resp...   \n",
       "4             4       JPMorgan ends remote work for senior bankers   \n",
       "..          ...                                                ...   \n",
       "494         494                 Emmy Rossum announces birth of son   \n",
       "495         495  Michael K. Williams: Man who sold the late act...   \n",
       "496         496                                April movie preview   \n",
       "497         497  Hollywood Minute: 'Grease' prequel series debu...   \n",
       "498         498  Lizzo snuggles Grogu in a cameo-filled 'The Ma...   \n",
       "\n",
       "                                               Content  Source  \n",
       "0    Prince Harry is set to attend his grandfather'...       1  \n",
       "1    Tupperware, the company famous for its airtigh...       1  \n",
       "2    Former Israeli Prime Minister Naftali Bennett ...       1  \n",
       "3    Ukrainian Prime Minister Denys Shmyhal has cal...       1  \n",
       "4    In a surprising move, JPMorgan Chase, the larg...       1  \n",
       "..                                                 ...     ...  \n",
       "494  In a surprise announcement, actress Emmy Rossu...       0  \n",
       "495  A Brooklyn man charged in the overdose death o...       0  \n",
       "496  Nicolas Cage as Count Dracula is among the mov...       0  \n",
       "497  'Grease: Rise of the Pink Ladies' arrives toda...       0  \n",
       "498  Lizzo has officially joined the \"Star Wars\" ga...       0  \n",
       "\n",
       "[499 rows x 4 columns]"
      ]
     },
     "metadata": {},
     "output_type": "display_data"
    }
   ],
   "source": [
    "cnn_mixed1 = pd.read_csv('cnn_mixed.csv')\n",
    "display(cnn_mixed1)"
   ]
  },
  {
   "cell_type": "code",
   "execution_count": 4,
   "metadata": {},
   "outputs": [
    {
     "data": {
      "text/html": [
       "<div>\n",
       "<style scoped>\n",
       "    .dataframe tbody tr th:only-of-type {\n",
       "        vertical-align: middle;\n",
       "    }\n",
       "\n",
       "    .dataframe tbody tr th {\n",
       "        vertical-align: top;\n",
       "    }\n",
       "\n",
       "    .dataframe thead th {\n",
       "        text-align: right;\n",
       "    }\n",
       "</style>\n",
       "<table border=\"1\" class=\"dataframe\">\n",
       "  <thead>\n",
       "    <tr style=\"text-align: right;\">\n",
       "      <th></th>\n",
       "      <th>Unnamed: 0</th>\n",
       "      <th>Title</th>\n",
       "      <th>Content</th>\n",
       "      <th>Source</th>\n",
       "    </tr>\n",
       "  </thead>\n",
       "  <tbody>\n",
       "    <tr>\n",
       "      <th>0</th>\n",
       "      <td>0</td>\n",
       "      <td>Gisele Bündchen shares message about regrowth ...</td>\n",
       "      <td>Supermodel Gisele Bündchen has shared an empow...</td>\n",
       "      <td>1</td>\n",
       "    </tr>\n",
       "    <tr>\n",
       "      <th>1</th>\n",
       "      <td>1</td>\n",
       "      <td>Recession 'appears inevitable' and may have al...</td>\n",
       "      <td>Economic experts are sounding the alarm that a...</td>\n",
       "      <td>1</td>\n",
       "    </tr>\n",
       "    <tr>\n",
       "      <th>2</th>\n",
       "      <td>2</td>\n",
       "      <td>Snapchat AI chatbot allegedly gave advice to 1...</td>\n",
       "      <td>A highly concerning story has emerged that a S...</td>\n",
       "      <td>1</td>\n",
       "    </tr>\n",
       "    <tr>\n",
       "      <th>3</th>\n",
       "      <td>3</td>\n",
       "      <td>Britain to give cigarette smokers vapes in wor...</td>\n",
       "      <td>The UK government has announced a groundbreaki...</td>\n",
       "      <td>1</td>\n",
       "    </tr>\n",
       "    <tr>\n",
       "      <th>4</th>\n",
       "      <td>4</td>\n",
       "      <td>Cyprus probing residents involved in alleged R...</td>\n",
       "      <td>Cyprus has been investigating individuals and ...</td>\n",
       "      <td>1</td>\n",
       "    </tr>\n",
       "    <tr>\n",
       "      <th>...</th>\n",
       "      <td>...</td>\n",
       "      <td>...</td>\n",
       "      <td>...</td>\n",
       "      <td>...</td>\n",
       "    </tr>\n",
       "    <tr>\n",
       "      <th>384</th>\n",
       "      <td>384</td>\n",
       "      <td>AOC, other pro-choicers want to ignore court r...</td>\n",
       "      <td>Alexandria Ocasio-Cortez, a heroine on the Lef...</td>\n",
       "      <td>0</td>\n",
       "    </tr>\n",
       "    <tr>\n",
       "      <th>385</th>\n",
       "      <td>385</td>\n",
       "      <td>IMF trims global growth outlook as banking tur...</td>\n",
       "      <td>The International Monetary Fund on Tuesday cut...</td>\n",
       "      <td>0</td>\n",
       "    </tr>\n",
       "    <tr>\n",
       "      <th>386</th>\n",
       "      <td>386</td>\n",
       "      <td>Drake Bell is 'safe' after former Nickelodeon ...</td>\n",
       "      <td>Former Nickelodeon actor Drake Bell, is no lon...</td>\n",
       "      <td>0</td>\n",
       "    </tr>\n",
       "    <tr>\n",
       "      <th>387</th>\n",
       "      <td>387</td>\n",
       "      <td>Mark Wahlberg’s daughter hilariously impersona...</td>\n",
       "      <td>Mark Wahlberg isn’t the only member of his fam...</td>\n",
       "      <td>0</td>\n",
       "    </tr>\n",
       "    <tr>\n",
       "      <th>388</th>\n",
       "      <td>388</td>\n",
       "      <td>Webb telescope captures warped space, galaxies...</td>\n",
       "      <td>NASA's James Webb Space Telescope has captured...</td>\n",
       "      <td>0</td>\n",
       "    </tr>\n",
       "  </tbody>\n",
       "</table>\n",
       "<p>389 rows × 4 columns</p>\n",
       "</div>"
      ],
      "text/plain": [
       "     Unnamed: 0                                              Title  \\\n",
       "0             0  Gisele Bündchen shares message about regrowth ...   \n",
       "1             1  Recession 'appears inevitable' and may have al...   \n",
       "2             2  Snapchat AI chatbot allegedly gave advice to 1...   \n",
       "3             3  Britain to give cigarette smokers vapes in wor...   \n",
       "4             4  Cyprus probing residents involved in alleged R...   \n",
       "..          ...                                                ...   \n",
       "384         384  AOC, other pro-choicers want to ignore court r...   \n",
       "385         385  IMF trims global growth outlook as banking tur...   \n",
       "386         386  Drake Bell is 'safe' after former Nickelodeon ...   \n",
       "387         387  Mark Wahlberg’s daughter hilariously impersona...   \n",
       "388         388  Webb telescope captures warped space, galaxies...   \n",
       "\n",
       "                                               Content  Source  \n",
       "0    Supermodel Gisele Bündchen has shared an empow...       1  \n",
       "1    Economic experts are sounding the alarm that a...       1  \n",
       "2    A highly concerning story has emerged that a S...       1  \n",
       "3    The UK government has announced a groundbreaki...       1  \n",
       "4    Cyprus has been investigating individuals and ...       1  \n",
       "..                                                 ...     ...  \n",
       "384  Alexandria Ocasio-Cortez, a heroine on the Lef...       0  \n",
       "385  The International Monetary Fund on Tuesday cut...       0  \n",
       "386  Former Nickelodeon actor Drake Bell, is no lon...       0  \n",
       "387  Mark Wahlberg isn’t the only member of his fam...       0  \n",
       "388  NASA's James Webb Space Telescope has captured...       0  \n",
       "\n",
       "[389 rows x 4 columns]"
      ]
     },
     "metadata": {},
     "output_type": "display_data"
    }
   ],
   "source": [
    "fox_mixed1 = pd.read_csv('fox_mixed.csv')\n",
    "display(fox_mixed1)"
   ]
  },
  {
   "attachments": {},
   "cell_type": "markdown",
   "metadata": {},
   "source": [
    "#### merging 3 datasets into one"
   ]
  },
  {
   "cell_type": "code",
   "execution_count": 5,
   "metadata": {},
   "outputs": [
    {
     "data": {
      "text/html": [
       "<div>\n",
       "<style scoped>\n",
       "    .dataframe tbody tr th:only-of-type {\n",
       "        vertical-align: middle;\n",
       "    }\n",
       "\n",
       "    .dataframe tbody tr th {\n",
       "        vertical-align: top;\n",
       "    }\n",
       "\n",
       "    .dataframe thead th {\n",
       "        text-align: right;\n",
       "    }\n",
       "</style>\n",
       "<table border=\"1\" class=\"dataframe\">\n",
       "  <thead>\n",
       "    <tr style=\"text-align: right;\">\n",
       "      <th></th>\n",
       "      <th>index</th>\n",
       "      <th>Unnamed: 0</th>\n",
       "      <th>Title</th>\n",
       "      <th>Content</th>\n",
       "      <th>Source</th>\n",
       "    </tr>\n",
       "  </thead>\n",
       "  <tbody>\n",
       "    <tr>\n",
       "      <th>750</th>\n",
       "      <td>750</td>\n",
       "      <td>249</td>\n",
       "      <td>Hollywood Minute: Ariana DeBose returns to hos...</td>\n",
       "      <td>The Tony Awards will have a familiar host this...</td>\n",
       "      <td>1</td>\n",
       "    </tr>\n",
       "    <tr>\n",
       "      <th>751</th>\n",
       "      <td>751</td>\n",
       "      <td>250</td>\n",
       "      <td>Silicon Valley Bank collapse renews calls to a...</td>\n",
       "      <td>When customers at Silicon Valley Bank rushed t...</td>\n",
       "      <td>0</td>\n",
       "    </tr>\n",
       "    <tr>\n",
       "      <th>752</th>\n",
       "      <td>752</td>\n",
       "      <td>251</td>\n",
       "      <td>Hear police announce arrest of suspect in deat...</td>\n",
       "      <td>San Francisco Police have arrested Nima Momeni...</td>\n",
       "      <td>0</td>\n",
       "    </tr>\n",
       "    <tr>\n",
       "      <th>753</th>\n",
       "      <td>753</td>\n",
       "      <td>252</td>\n",
       "      <td>Behold the stuffed-crust bagel</td>\n",
       "      <td>In the 1990s, Pizza Hut unveiled an important ...</td>\n",
       "      <td>0</td>\n",
       "    </tr>\n",
       "    <tr>\n",
       "      <th>754</th>\n",
       "      <td>754</td>\n",
       "      <td>253</td>\n",
       "      <td>French Finance Minister: Changes needed to ens...</td>\n",
       "      <td>Richard Quest talks to French Finance Minister...</td>\n",
       "      <td>0</td>\n",
       "    </tr>\n",
       "    <tr>\n",
       "      <th>...</th>\n",
       "      <td>...</td>\n",
       "      <td>...</td>\n",
       "      <td>...</td>\n",
       "      <td>...</td>\n",
       "      <td>...</td>\n",
       "    </tr>\n",
       "    <tr>\n",
       "      <th>995</th>\n",
       "      <td>995</td>\n",
       "      <td>494</td>\n",
       "      <td>Emmy Rossum announces birth of son</td>\n",
       "      <td>In a surprise announcement, actress Emmy Rossu...</td>\n",
       "      <td>0</td>\n",
       "    </tr>\n",
       "    <tr>\n",
       "      <th>996</th>\n",
       "      <td>996</td>\n",
       "      <td>495</td>\n",
       "      <td>Michael K. Williams: Man who sold the late act...</td>\n",
       "      <td>A Brooklyn man charged in the overdose death o...</td>\n",
       "      <td>0</td>\n",
       "    </tr>\n",
       "    <tr>\n",
       "      <th>997</th>\n",
       "      <td>997</td>\n",
       "      <td>496</td>\n",
       "      <td>April movie preview</td>\n",
       "      <td>Nicolas Cage as Count Dracula is among the mov...</td>\n",
       "      <td>0</td>\n",
       "    </tr>\n",
       "    <tr>\n",
       "      <th>998</th>\n",
       "      <td>998</td>\n",
       "      <td>497</td>\n",
       "      <td>Hollywood Minute: 'Grease' prequel series debu...</td>\n",
       "      <td>'Grease: Rise of the Pink Ladies' arrives toda...</td>\n",
       "      <td>0</td>\n",
       "    </tr>\n",
       "    <tr>\n",
       "      <th>999</th>\n",
       "      <td>999</td>\n",
       "      <td>498</td>\n",
       "      <td>Lizzo snuggles Grogu in a cameo-filled 'The Ma...</td>\n",
       "      <td>Lizzo has officially joined the \"Star Wars\" ga...</td>\n",
       "      <td>0</td>\n",
       "    </tr>\n",
       "  </tbody>\n",
       "</table>\n",
       "<p>250 rows × 5 columns</p>\n",
       "</div>"
      ],
      "text/plain": [
       "     index  Unnamed: 0                                              Title  \\\n",
       "750    750         249  Hollywood Minute: Ariana DeBose returns to hos...   \n",
       "751    751         250  Silicon Valley Bank collapse renews calls to a...   \n",
       "752    752         251  Hear police announce arrest of suspect in deat...   \n",
       "753    753         252                     Behold the stuffed-crust bagel   \n",
       "754    754         253  French Finance Minister: Changes needed to ens...   \n",
       "..     ...         ...                                                ...   \n",
       "995    995         494                 Emmy Rossum announces birth of son   \n",
       "996    996         495  Michael K. Williams: Man who sold the late act...   \n",
       "997    997         496                                April movie preview   \n",
       "998    998         497  Hollywood Minute: 'Grease' prequel series debu...   \n",
       "999    999         498  Lizzo snuggles Grogu in a cameo-filled 'The Ma...   \n",
       "\n",
       "                                               Content  Source  \n",
       "750  The Tony Awards will have a familiar host this...       1  \n",
       "751  When customers at Silicon Valley Bank rushed t...       0  \n",
       "752  San Francisco Police have arrested Nima Momeni...       0  \n",
       "753  In the 1990s, Pizza Hut unveiled an important ...       0  \n",
       "754  Richard Quest talks to French Finance Minister...       0  \n",
       "..                                                 ...     ...  \n",
       "995  In a surprise announcement, actress Emmy Rossu...       0  \n",
       "996  A Brooklyn man charged in the overdose death o...       0  \n",
       "997  Nicolas Cage as Count Dracula is among the mov...       0  \n",
       "998  'Grease: Rise of the Pink Ladies' arrives toda...       0  \n",
       "999  Lizzo has officially joined the \"Star Wars\" ga...       0  \n",
       "\n",
       "[250 rows x 5 columns]"
      ]
     },
     "execution_count": 5,
     "metadata": {},
     "output_type": "execute_result"
    }
   ],
   "source": [
    "# Concatenate the three DataFrames vertically (row-wise)\n",
    "dataset = pd.concat([ap_mixed1, cnn_mixed1, fox_mixed1], ignore_index=True).reset_index()\n",
    "dataset[750:1000]"
   ]
  },
  {
   "cell_type": "code",
   "execution_count": 6,
   "metadata": {},
   "outputs": [
    {
     "data": {
      "text/html": [
       "<div>\n",
       "<style scoped>\n",
       "    .dataframe tbody tr th:only-of-type {\n",
       "        vertical-align: middle;\n",
       "    }\n",
       "\n",
       "    .dataframe tbody tr th {\n",
       "        vertical-align: top;\n",
       "    }\n",
       "\n",
       "    .dataframe thead th {\n",
       "        text-align: right;\n",
       "    }\n",
       "</style>\n",
       "<table border=\"1\" class=\"dataframe\">\n",
       "  <thead>\n",
       "    <tr style=\"text-align: right;\">\n",
       "      <th></th>\n",
       "      <th>Title</th>\n",
       "      <th>Content</th>\n",
       "      <th>Source</th>\n",
       "    </tr>\n",
       "  </thead>\n",
       "  <tbody>\n",
       "    <tr>\n",
       "      <th>0</th>\n",
       "      <td>Silicon Valley Bank collapse concerns founders...</td>\n",
       "      <td>The collapse of Silicon Valley Bank, a major f...</td>\n",
       "      <td>1</td>\n",
       "    </tr>\n",
       "    <tr>\n",
       "      <th>1</th>\n",
       "      <td>Mother of young boy who shot teacher arrested ...</td>\n",
       "      <td>In a shocking turn of events, the mother of th...</td>\n",
       "      <td>1</td>\n",
       "    </tr>\n",
       "    <tr>\n",
       "      <th>2</th>\n",
       "      <td>660-mile rescue flight highlights Alaska's uni...</td>\n",
       "      <td>ANCHORAGE, Alaska (AP) — A recent rescue missi...</td>\n",
       "      <td>1</td>\n",
       "    </tr>\n",
       "    <tr>\n",
       "      <th>3</th>\n",
       "      <td>Suspect in leak probe talked about God, guns a...</td>\n",
       "      <td>WASHINGTON (AP) -- A former U.S. government em...</td>\n",
       "      <td>1</td>\n",
       "    </tr>\n",
       "    <tr>\n",
       "      <th>4</th>\n",
       "      <td>New Ram electric pickup can go up to 500 miles...</td>\n",
       "      <td>The Ram truck brand has been a dominant force ...</td>\n",
       "      <td>1</td>\n",
       "    </tr>\n",
       "    <tr>\n",
       "      <th>...</th>\n",
       "      <td>...</td>\n",
       "      <td>...</td>\n",
       "      <td>...</td>\n",
       "    </tr>\n",
       "    <tr>\n",
       "      <th>1383</th>\n",
       "      <td>AOC, other pro-choicers want to ignore court r...</td>\n",
       "      <td>Alexandria Ocasio-Cortez, a heroine on the Lef...</td>\n",
       "      <td>0</td>\n",
       "    </tr>\n",
       "    <tr>\n",
       "      <th>1384</th>\n",
       "      <td>IMF trims global growth outlook as banking tur...</td>\n",
       "      <td>The International Monetary Fund on Tuesday cut...</td>\n",
       "      <td>0</td>\n",
       "    </tr>\n",
       "    <tr>\n",
       "      <th>1385</th>\n",
       "      <td>Drake Bell is 'safe' after former Nickelodeon ...</td>\n",
       "      <td>Former Nickelodeon actor Drake Bell, is no lon...</td>\n",
       "      <td>0</td>\n",
       "    </tr>\n",
       "    <tr>\n",
       "      <th>1386</th>\n",
       "      <td>Mark Wahlberg’s daughter hilariously impersona...</td>\n",
       "      <td>Mark Wahlberg isn’t the only member of his fam...</td>\n",
       "      <td>0</td>\n",
       "    </tr>\n",
       "    <tr>\n",
       "      <th>1387</th>\n",
       "      <td>Webb telescope captures warped space, galaxies...</td>\n",
       "      <td>NASA's James Webb Space Telescope has captured...</td>\n",
       "      <td>0</td>\n",
       "    </tr>\n",
       "  </tbody>\n",
       "</table>\n",
       "<p>1388 rows × 3 columns</p>\n",
       "</div>"
      ],
      "text/plain": [
       "                                                  Title  \\\n",
       "0     Silicon Valley Bank collapse concerns founders...   \n",
       "1     Mother of young boy who shot teacher arrested ...   \n",
       "2     660-mile rescue flight highlights Alaska's uni...   \n",
       "3     Suspect in leak probe talked about God, guns a...   \n",
       "4     New Ram electric pickup can go up to 500 miles...   \n",
       "...                                                 ...   \n",
       "1383  AOC, other pro-choicers want to ignore court r...   \n",
       "1384  IMF trims global growth outlook as banking tur...   \n",
       "1385  Drake Bell is 'safe' after former Nickelodeon ...   \n",
       "1386  Mark Wahlberg’s daughter hilariously impersona...   \n",
       "1387  Webb telescope captures warped space, galaxies...   \n",
       "\n",
       "                                                Content  Source  \n",
       "0     The collapse of Silicon Valley Bank, a major f...       1  \n",
       "1     In a shocking turn of events, the mother of th...       1  \n",
       "2     ANCHORAGE, Alaska (AP) — A recent rescue missi...       1  \n",
       "3     WASHINGTON (AP) -- A former U.S. government em...       1  \n",
       "4     The Ram truck brand has been a dominant force ...       1  \n",
       "...                                                 ...     ...  \n",
       "1383  Alexandria Ocasio-Cortez, a heroine on the Lef...       0  \n",
       "1384  The International Monetary Fund on Tuesday cut...       0  \n",
       "1385  Former Nickelodeon actor Drake Bell, is no lon...       0  \n",
       "1386  Mark Wahlberg isn’t the only member of his fam...       0  \n",
       "1387  NASA's James Webb Space Telescope has captured...       0  \n",
       "\n",
       "[1388 rows x 3 columns]"
      ]
     },
     "metadata": {},
     "output_type": "display_data"
    },
    {
     "data": {
      "text/plain": [
       "(1388, 3)"
      ]
     },
     "execution_count": 6,
     "metadata": {},
     "output_type": "execute_result"
    }
   ],
   "source": [
    "# # Optionally, you can drop duplicates if needed\n",
    "# dataset.drop_duplicates(inplace=True)\n",
    "\n",
    "dataset['Content'].replace('', np.nan, inplace=True)\n",
    "dataset['Content'] = dataset.Content.apply(lambda x : x.strip())\n",
    "dataset['Title'] = dataset.Title.apply(lambda x : x.strip())\n",
    "\n",
    "dataset = dataset[dataset.Title != \"Toxic smoke is spewing from an inferno at a recycling plant known as a 'fire hazard,' officials say. The flames could burn for days\"].reset_index()\n",
    "\n",
    "\n",
    "#drop NA values\n",
    "dataset = dataset.dropna()\n",
    "\n",
    "# Select only specific columns from the dataset\n",
    "selected_columns = ['Title', 'Content', 'Source']\n",
    "dataset_final = dataset[selected_columns]\n",
    "\n",
    "display(dataset_final)\n",
    "#final_dataset = dataset_final.to_csv('final_dataset.csv')\n",
    "dataset_final.shape\n",
    "# dataset_final.info\n"
   ]
  },
  {
   "cell_type": "code",
   "execution_count": 7,
   "metadata": {},
   "outputs": [],
   "source": [
    "import string\n",
    "import seaborn as sns\n",
    "import matplotlib.pyplot as plt\n",
    "\n",
    "import nltk\n",
    "from nltk.corpus import stopwords\n",
    "from nltk.tokenize import word_tokenize\n",
    "from wordcloud import WordCloud\n",
    "from sklearn.feature_extraction.text import CountVectorizer\n",
    "from sklearn.model_selection import train_test_split\n",
    "from sklearn.naive_bayes import MultinomialNB\n",
    "from sklearn.metrics import precision_recall_fscore_support, confusion_matrix"
   ]
  },
  {
   "attachments": {},
   "cell_type": "markdown",
   "metadata": {},
   "source": [
    "countplot of the real and fake news articles"
   ]
  },
  {
   "cell_type": "code",
   "execution_count": 8,
   "metadata": {},
   "outputs": [
    {
     "data": {
      "text/plain": [
       "<AxesSubplot:xlabel='Source', ylabel='count'>"
      ]
     },
     "execution_count": 8,
     "metadata": {},
     "output_type": "execute_result"
    },
    {
     "data": {
      "image/png": "[encoded data removed]",
      "text/plain": [
       "<Figure size 432x288 with 1 Axes>"
      ]
     },
     "metadata": {
      "needs_background": "light"
     },
     "output_type": "display_data"
    }
   ],
   "source": [
    "sns.countplot(data=dataset,x='Source')"
   ]
  },
  {
   "attachments": {},
   "cell_type": "markdown",
   "metadata": {},
   "source": [
    "convert the Content column in all lower case words"
   ]
  },
  {
   "cell_type": "code",
   "execution_count": 9,
   "metadata": {},
   "outputs": [
    {
     "name": "stderr",
     "output_type": "stream",
     "text": [
      "C:\\Users\\graduate\\AppData\\Local\\Temp\\ipykernel_19128\\1164475232.py:2: SettingWithCopyWarning: \n",
      "A value is trying to be set on a copy of a slice from a DataFrame.\n",
      "Try using .loc[row_indexer,col_indexer] = value instead\n",
      "\n",
      "See the caveats in the documentation: https://pandas.pydata.org/pandas-docs/stable/user_guide/indexing.html#returning-a-view-versus-a-copy\n",
      "  dataset_final['L_Content'] = dataset_final['Content'].str.lower()\n"
     ]
    },
    {
     "data": {
      "text/html": [
       "<div>\n",
       "<style scoped>\n",
       "    .dataframe tbody tr th:only-of-type {\n",
       "        vertical-align: middle;\n",
       "    }\n",
       "\n",
       "    .dataframe tbody tr th {\n",
       "        vertical-align: top;\n",
       "    }\n",
       "\n",
       "    .dataframe thead th {\n",
       "        text-align: right;\n",
       "    }\n",
       "</style>\n",
       "<table border=\"1\" class=\"dataframe\">\n",
       "  <thead>\n",
       "    <tr style=\"text-align: right;\">\n",
       "      <th></th>\n",
       "      <th>Title</th>\n",
       "      <th>Content</th>\n",
       "      <th>Source</th>\n",
       "      <th>L_Content</th>\n",
       "    </tr>\n",
       "  </thead>\n",
       "  <tbody>\n",
       "    <tr>\n",
       "      <th>0</th>\n",
       "      <td>Silicon Valley Bank collapse concerns founders...</td>\n",
       "      <td>The collapse of Silicon Valley Bank, a major f...</td>\n",
       "      <td>1</td>\n",
       "      <td>the collapse of silicon valley bank, a major f...</td>\n",
       "    </tr>\n",
       "    <tr>\n",
       "      <th>1</th>\n",
       "      <td>Mother of young boy who shot teacher arrested ...</td>\n",
       "      <td>In a shocking turn of events, the mother of th...</td>\n",
       "      <td>1</td>\n",
       "      <td>in a shocking turn of events, the mother of th...</td>\n",
       "    </tr>\n",
       "    <tr>\n",
       "      <th>2</th>\n",
       "      <td>660-mile rescue flight highlights Alaska's uni...</td>\n",
       "      <td>ANCHORAGE, Alaska (AP) — A recent rescue missi...</td>\n",
       "      <td>1</td>\n",
       "      <td>anchorage, alaska (ap) — a recent rescue missi...</td>\n",
       "    </tr>\n",
       "    <tr>\n",
       "      <th>3</th>\n",
       "      <td>Suspect in leak probe talked about God, guns a...</td>\n",
       "      <td>WASHINGTON (AP) -- A former U.S. government em...</td>\n",
       "      <td>1</td>\n",
       "      <td>washington (ap) -- a former u.s. government em...</td>\n",
       "    </tr>\n",
       "    <tr>\n",
       "      <th>4</th>\n",
       "      <td>New Ram electric pickup can go up to 500 miles...</td>\n",
       "      <td>The Ram truck brand has been a dominant force ...</td>\n",
       "      <td>1</td>\n",
       "      <td>the ram truck brand has been a dominant force ...</td>\n",
       "    </tr>\n",
       "  </tbody>\n",
       "</table>\n",
       "</div>"
      ],
      "text/plain": [
       "                                               Title  \\\n",
       "0  Silicon Valley Bank collapse concerns founders...   \n",
       "1  Mother of young boy who shot teacher arrested ...   \n",
       "2  660-mile rescue flight highlights Alaska's uni...   \n",
       "3  Suspect in leak probe talked about God, guns a...   \n",
       "4  New Ram electric pickup can go up to 500 miles...   \n",
       "\n",
       "                                             Content  Source  \\\n",
       "0  The collapse of Silicon Valley Bank, a major f...       1   \n",
       "1  In a shocking turn of events, the mother of th...       1   \n",
       "2  ANCHORAGE, Alaska (AP) — A recent rescue missi...       1   \n",
       "3  WASHINGTON (AP) -- A former U.S. government em...       1   \n",
       "4  The Ram truck brand has been a dominant force ...       1   \n",
       "\n",
       "                                           L_Content  \n",
       "0  the collapse of silicon valley bank, a major f...  \n",
       "1  in a shocking turn of events, the mother of th...  \n",
       "2  anchorage, alaska (ap) — a recent rescue missi...  \n",
       "3  washington (ap) -- a former u.s. government em...  \n",
       "4  the ram truck brand has been a dominant force ...  "
      ]
     },
     "execution_count": 9,
     "metadata": {},
     "output_type": "execute_result"
    }
   ],
   "source": [
    "##Convert 'Content' column to lowercase\n",
    "dataset_final['L_Content'] = dataset_final['Content'].str.lower()\n",
    "dataset_final.head()"
   ]
  },
  {
   "attachments": {},
   "cell_type": "markdown",
   "metadata": {},
   "source": [
    "Remove stpwords and punctuation from the content of our news combination"
   ]
  },
  {
   "cell_type": "code",
   "execution_count": 10,
   "metadata": {},
   "outputs": [
    {
     "name": "stderr",
     "output_type": "stream",
     "text": [
      "[nltk_data] Downloading package stopwords to\n",
      "[nltk_data]     C:\\Users\\graduate\\AppData\\Roaming\\nltk_data...\n",
      "[nltk_data]   Package stopwords is already up-to-date!\n",
      "C:\\Users\\graduate\\AppData\\Local\\Temp\\ipykernel_19128\\183012934.py:4: SettingWithCopyWarning: \n",
      "A value is trying to be set on a copy of a slice from a DataFrame.\n",
      "Try using .loc[row_indexer,col_indexer] = value instead\n",
      "\n",
      "See the caveats in the documentation: https://pandas.pydata.org/pandas-docs/stable/user_guide/indexing.html#returning-a-view-versus-a-copy\n",
      "  dataset_final['L_Content'] = dataset_final.L_Content.apply(lambda x: ' '.join([word for word in x.split()\n"
     ]
    },
    {
     "data": {
      "text/html": [
       "<div>\n",
       "<style scoped>\n",
       "    .dataframe tbody tr th:only-of-type {\n",
       "        vertical-align: middle;\n",
       "    }\n",
       "\n",
       "    .dataframe tbody tr th {\n",
       "        vertical-align: top;\n",
       "    }\n",
       "\n",
       "    .dataframe thead th {\n",
       "        text-align: right;\n",
       "    }\n",
       "</style>\n",
       "<table border=\"1\" class=\"dataframe\">\n",
       "  <thead>\n",
       "    <tr style=\"text-align: right;\">\n",
       "      <th></th>\n",
       "      <th>Title</th>\n",
       "      <th>Content</th>\n",
       "      <th>Source</th>\n",
       "      <th>L_Content</th>\n",
       "    </tr>\n",
       "  </thead>\n",
       "  <tbody>\n",
       "    <tr>\n",
       "      <th>0</th>\n",
       "      <td>Silicon Valley Bank collapse concerns founders...</td>\n",
       "      <td>The collapse of Silicon Valley Bank, a major f...</td>\n",
       "      <td>1</td>\n",
       "      <td>collapse silicon valley bank, major financial ...</td>\n",
       "    </tr>\n",
       "    <tr>\n",
       "      <th>1</th>\n",
       "      <td>Mother of young boy who shot teacher arrested ...</td>\n",
       "      <td>In a shocking turn of events, the mother of th...</td>\n",
       "      <td>1</td>\n",
       "      <td>shocking turn events, mother young boy shot te...</td>\n",
       "    </tr>\n",
       "    <tr>\n",
       "      <th>2</th>\n",
       "      <td>660-mile rescue flight highlights Alaska's uni...</td>\n",
       "      <td>ANCHORAGE, Alaska (AP) — A recent rescue missi...</td>\n",
       "      <td>1</td>\n",
       "      <td>anchorage, alaska (ap) — recent rescue mission...</td>\n",
       "    </tr>\n",
       "    <tr>\n",
       "      <th>3</th>\n",
       "      <td>Suspect in leak probe talked about God, guns a...</td>\n",
       "      <td>WASHINGTON (AP) -- A former U.S. government em...</td>\n",
       "      <td>1</td>\n",
       "      <td>washington (ap) -- former u.s. government empl...</td>\n",
       "    </tr>\n",
       "    <tr>\n",
       "      <th>4</th>\n",
       "      <td>New Ram electric pickup can go up to 500 miles...</td>\n",
       "      <td>The Ram truck brand has been a dominant force ...</td>\n",
       "      <td>1</td>\n",
       "      <td>ram truck brand dominant force american pickup...</td>\n",
       "    </tr>\n",
       "  </tbody>\n",
       "</table>\n",
       "</div>"
      ],
      "text/plain": [
       "                                               Title  \\\n",
       "0  Silicon Valley Bank collapse concerns founders...   \n",
       "1  Mother of young boy who shot teacher arrested ...   \n",
       "2  660-mile rescue flight highlights Alaska's uni...   \n",
       "3  Suspect in leak probe talked about God, guns a...   \n",
       "4  New Ram electric pickup can go up to 500 miles...   \n",
       "\n",
       "                                             Content  Source  \\\n",
       "0  The collapse of Silicon Valley Bank, a major f...       1   \n",
       "1  In a shocking turn of events, the mother of th...       1   \n",
       "2  ANCHORAGE, Alaska (AP) — A recent rescue missi...       1   \n",
       "3  WASHINGTON (AP) -- A former U.S. government em...       1   \n",
       "4  The Ram truck brand has been a dominant force ...       1   \n",
       "\n",
       "                                           L_Content  \n",
       "0  collapse silicon valley bank, major financial ...  \n",
       "1  shocking turn events, mother young boy shot te...  \n",
       "2  anchorage, alaska (ap) — recent rescue mission...  \n",
       "3  washington (ap) -- former u.s. government empl...  \n",
       "4  ram truck brand dominant force american pickup...  "
      ]
     },
     "execution_count": 10,
     "metadata": {},
     "output_type": "execute_result"
    }
   ],
   "source": [
    "nltk.download('stopwords')\n",
    "stop = set(stopwords.words('english'))\n",
    "punctuations=string.punctuation\n",
    "dataset_final['L_Content'] = dataset_final.L_Content.apply(lambda x: ' '.join([word for word in x.split() \n",
    "                    if word not in (stop) and word[0] != '@' \n",
    "                    and word not in punctuations ]))\n",
    "dataset_final.head()"
   ]
  },
  {
   "attachments": {},
   "cell_type": "markdown",
   "metadata": {},
   "source": [
    "Remove punctuations"
   ]
  },
  {
   "cell_type": "code",
   "execution_count": 11,
   "metadata": {},
   "outputs": [
    {
     "name": "stderr",
     "output_type": "stream",
     "text": [
      "C:\\Users\\graduate\\AppData\\Local\\Temp\\ipykernel_19128\\2819100359.py:1: FutureWarning: The default value of regex will change from True to False in a future version.\n",
      "  dataset_final['L_Content'] = dataset_final['L_Content'].str.replace('[{}]'.format(string.punctuation), '')\n",
      "C:\\Users\\graduate\\AppData\\Local\\Temp\\ipykernel_19128\\2819100359.py:1: SettingWithCopyWarning: \n",
      "A value is trying to be set on a copy of a slice from a DataFrame.\n",
      "Try using .loc[row_indexer,col_indexer] = value instead\n",
      "\n",
      "See the caveats in the documentation: https://pandas.pydata.org/pandas-docs/stable/user_guide/indexing.html#returning-a-view-versus-a-copy\n",
      "  dataset_final['L_Content'] = dataset_final['L_Content'].str.replace('[{}]'.format(string.punctuation), '')\n"
     ]
    },
    {
     "data": {
      "text/html": [
       "<div>\n",
       "<style scoped>\n",
       "    .dataframe tbody tr th:only-of-type {\n",
       "        vertical-align: middle;\n",
       "    }\n",
       "\n",
       "    .dataframe tbody tr th {\n",
       "        vertical-align: top;\n",
       "    }\n",
       "\n",
       "    .dataframe thead th {\n",
       "        text-align: right;\n",
       "    }\n",
       "</style>\n",
       "<table border=\"1\" class=\"dataframe\">\n",
       "  <thead>\n",
       "    <tr style=\"text-align: right;\">\n",
       "      <th></th>\n",
       "      <th>Title</th>\n",
       "      <th>Content</th>\n",
       "      <th>Source</th>\n",
       "      <th>L_Content</th>\n",
       "    </tr>\n",
       "  </thead>\n",
       "  <tbody>\n",
       "    <tr>\n",
       "      <th>0</th>\n",
       "      <td>Silicon Valley Bank collapse concerns founders...</td>\n",
       "      <td>The collapse of Silicon Valley Bank, a major f...</td>\n",
       "      <td>1</td>\n",
       "      <td>collapse silicon valley bank major financial i...</td>\n",
       "    </tr>\n",
       "    <tr>\n",
       "      <th>1</th>\n",
       "      <td>Mother of young boy who shot teacher arrested ...</td>\n",
       "      <td>In a shocking turn of events, the mother of th...</td>\n",
       "      <td>1</td>\n",
       "      <td>shocking turn events mother young boy shot tea...</td>\n",
       "    </tr>\n",
       "    <tr>\n",
       "      <th>2</th>\n",
       "      <td>660-mile rescue flight highlights Alaska's uni...</td>\n",
       "      <td>ANCHORAGE, Alaska (AP) — A recent rescue missi...</td>\n",
       "      <td>1</td>\n",
       "      <td>anchorage alaska ap — recent rescue mission al...</td>\n",
       "    </tr>\n",
       "    <tr>\n",
       "      <th>3</th>\n",
       "      <td>Suspect in leak probe talked about God, guns a...</td>\n",
       "      <td>WASHINGTON (AP) -- A former U.S. government em...</td>\n",
       "      <td>1</td>\n",
       "      <td>washington ap  former us government employee a...</td>\n",
       "    </tr>\n",
       "    <tr>\n",
       "      <th>4</th>\n",
       "      <td>New Ram electric pickup can go up to 500 miles...</td>\n",
       "      <td>The Ram truck brand has been a dominant force ...</td>\n",
       "      <td>1</td>\n",
       "      <td>ram truck brand dominant force american pickup...</td>\n",
       "    </tr>\n",
       "  </tbody>\n",
       "</table>\n",
       "</div>"
      ],
      "text/plain": [
       "                                               Title  \\\n",
       "0  Silicon Valley Bank collapse concerns founders...   \n",
       "1  Mother of young boy who shot teacher arrested ...   \n",
       "2  660-mile rescue flight highlights Alaska's uni...   \n",
       "3  Suspect in leak probe talked about God, guns a...   \n",
       "4  New Ram electric pickup can go up to 500 miles...   \n",
       "\n",
       "                                             Content  Source  \\\n",
       "0  The collapse of Silicon Valley Bank, a major f...       1   \n",
       "1  In a shocking turn of events, the mother of th...       1   \n",
       "2  ANCHORAGE, Alaska (AP) — A recent rescue missi...       1   \n",
       "3  WASHINGTON (AP) -- A former U.S. government em...       1   \n",
       "4  The Ram truck brand has been a dominant force ...       1   \n",
       "\n",
       "                                           L_Content  \n",
       "0  collapse silicon valley bank major financial i...  \n",
       "1  shocking turn events mother young boy shot tea...  \n",
       "2  anchorage alaska ap — recent rescue mission al...  \n",
       "3  washington ap  former us government employee a...  \n",
       "4  ram truck brand dominant force american pickup...  "
      ]
     },
     "execution_count": 11,
     "metadata": {},
     "output_type": "execute_result"
    }
   ],
   "source": [
    "dataset_final['L_Content'] = dataset_final['L_Content'].str.replace('[{}]'.format(string.punctuation), '')\n",
    "dataset_final.head()"
   ]
  },
  {
   "attachments": {},
   "cell_type": "markdown",
   "metadata": {},
   "source": [
    "Tokenize the news content"
   ]
  },
  {
   "cell_type": "code",
   "execution_count": 12,
   "metadata": {},
   "outputs": [
    {
     "name": "stderr",
     "output_type": "stream",
     "text": [
      "[nltk_data] Downloading package punkt to\n",
      "[nltk_data]     C:\\Users\\graduate\\AppData\\Roaming\\nltk_data...\n",
      "[nltk_data]   Package punkt is already up-to-date!\n"
     ]
    },
    {
     "data": {
      "text/plain": [
       "True"
      ]
     },
     "execution_count": 12,
     "metadata": {},
     "output_type": "execute_result"
    }
   ],
   "source": [
    "# Load the NLTK tokenizer\n",
    "nltk.download('punkt')"
   ]
  },
  {
   "attachments": {},
   "cell_type": "markdown",
   "metadata": {},
   "source": [
    "Tokenizing and Stemming"
   ]
  },
  {
   "cell_type": "code",
   "execution_count": 13,
   "metadata": {},
   "outputs": [
    {
     "name": "stderr",
     "output_type": "stream",
     "text": [
      "C:\\Users\\graduate\\AppData\\Local\\Temp\\ipykernel_19128\\565116871.py:5: SettingWithCopyWarning: \n",
      "A value is trying to be set on a copy of a slice from a DataFrame\n",
      "\n",
      "See the caveats in the documentation: https://pandas.pydata.org/pandas-docs/stable/user_guide/indexing.html#returning-a-view-versus-a-copy\n",
      "  dataset_final['L_Content'].fillna('', inplace=True)\n",
      "C:\\Users\\graduate\\AppData\\Local\\Temp\\ipykernel_19128\\565116871.py:7: SettingWithCopyWarning: \n",
      "A value is trying to be set on a copy of a slice from a DataFrame.\n",
      "Try using .loc[row_indexer,col_indexer] = value instead\n",
      "\n",
      "See the caveats in the documentation: https://pandas.pydata.org/pandas-docs/stable/user_guide/indexing.html#returning-a-view-versus-a-copy\n",
      "  dataset_final['L_Content'] = dataset_final['L_Content'].apply(lambda x: word_tokenize(x) if isinstance(x, str) else x)\n"
     ]
    }
   ],
   "source": [
    "from nltk.stem import PorterStemmer\n",
    "# Create an instance of the PorterStemmer class\n",
    "porter_stemmer = PorterStemmer()\n",
    "# Replace null values with an empty string\n",
    "dataset_final['L_Content'].fillna('', inplace=True)\n",
    "# Tokenize the 'Content' column only for non-null values\n",
    "dataset_final['L_Content'] = dataset_final['L_Content'].apply(lambda x: word_tokenize(x) if isinstance(x, str) else x)\n"
   ]
  },
  {
   "cell_type": "code",
   "execution_count": 14,
   "metadata": {},
   "outputs": [
    {
     "name": "stderr",
     "output_type": "stream",
     "text": [
      "C:\\Users\\graduate\\AppData\\Local\\Temp\\ipykernel_19128\\1520122374.py:6: SettingWithCopyWarning: \n",
      "A value is trying to be set on a copy of a slice from a DataFrame.\n",
      "Try using .loc[row_indexer,col_indexer] = value instead\n",
      "\n",
      "See the caveats in the documentation: https://pandas.pydata.org/pandas-docs/stable/user_guide/indexing.html#returning-a-view-versus-a-copy\n",
      "  dataset_final['L_Content'] = dataset_final['L_Content'].apply(stem_words)\n"
     ]
    }
   ],
   "source": [
    "# Define a function for stemming\n",
    "def stem_words(tokens):\n",
    "    return [porter_stemmer.stem(token) for token in tokens]\n",
    "\n",
    "# Apply stemming to the 'Content' column\n",
    "dataset_final['L_Content'] = dataset_final['L_Content'].apply(stem_words)"
   ]
  },
  {
   "cell_type": "code",
   "execution_count": 15,
   "metadata": {},
   "outputs": [
    {
     "data": {
      "text/html": [
       "<div>\n",
       "<style scoped>\n",
       "    .dataframe tbody tr th:only-of-type {\n",
       "        vertical-align: middle;\n",
       "    }\n",
       "\n",
       "    .dataframe tbody tr th {\n",
       "        vertical-align: top;\n",
       "    }\n",
       "\n",
       "    .dataframe thead th {\n",
       "        text-align: right;\n",
       "    }\n",
       "</style>\n",
       "<table border=\"1\" class=\"dataframe\">\n",
       "  <thead>\n",
       "    <tr style=\"text-align: right;\">\n",
       "      <th></th>\n",
       "      <th>Title</th>\n",
       "      <th>Content</th>\n",
       "      <th>Source</th>\n",
       "      <th>L_Content</th>\n",
       "    </tr>\n",
       "  </thead>\n",
       "  <tbody>\n",
       "    <tr>\n",
       "      <th>0</th>\n",
       "      <td>Silicon Valley Bank collapse concerns founders...</td>\n",
       "      <td>The collapse of Silicon Valley Bank, a major f...</td>\n",
       "      <td>1</td>\n",
       "      <td>[collaps, silicon, valley, bank, major, financ...</td>\n",
       "    </tr>\n",
       "    <tr>\n",
       "      <th>1</th>\n",
       "      <td>Mother of young boy who shot teacher arrested ...</td>\n",
       "      <td>In a shocking turn of events, the mother of th...</td>\n",
       "      <td>1</td>\n",
       "      <td>[shock, turn, event, mother, young, boy, shot,...</td>\n",
       "    </tr>\n",
       "    <tr>\n",
       "      <th>2</th>\n",
       "      <td>660-mile rescue flight highlights Alaska's uni...</td>\n",
       "      <td>ANCHORAGE, Alaska (AP) — A recent rescue missi...</td>\n",
       "      <td>1</td>\n",
       "      <td>[anchorag, alaska, ap, —, recent, rescu, missi...</td>\n",
       "    </tr>\n",
       "    <tr>\n",
       "      <th>3</th>\n",
       "      <td>Suspect in leak probe talked about God, guns a...</td>\n",
       "      <td>WASHINGTON (AP) -- A former U.S. government em...</td>\n",
       "      <td>1</td>\n",
       "      <td>[washington, ap, former, us, govern, employe, ...</td>\n",
       "    </tr>\n",
       "    <tr>\n",
       "      <th>4</th>\n",
       "      <td>New Ram electric pickup can go up to 500 miles...</td>\n",
       "      <td>The Ram truck brand has been a dominant force ...</td>\n",
       "      <td>1</td>\n",
       "      <td>[ram, truck, brand, domin, forc, american, pic...</td>\n",
       "    </tr>\n",
       "    <tr>\n",
       "      <th>...</th>\n",
       "      <td>...</td>\n",
       "      <td>...</td>\n",
       "      <td>...</td>\n",
       "      <td>...</td>\n",
       "    </tr>\n",
       "    <tr>\n",
       "      <th>1383</th>\n",
       "      <td>AOC, other pro-choicers want to ignore court r...</td>\n",
       "      <td>Alexandria Ocasio-Cortez, a heroine on the Lef...</td>\n",
       "      <td>0</td>\n",
       "      <td>[alexandria, ocasiocortez, heroin, left, like,...</td>\n",
       "    </tr>\n",
       "    <tr>\n",
       "      <th>1384</th>\n",
       "      <td>IMF trims global growth outlook as banking tur...</td>\n",
       "      <td>The International Monetary Fund on Tuesday cut...</td>\n",
       "      <td>0</td>\n",
       "      <td>[intern, monetari, fund, tuesday, cut, global,...</td>\n",
       "    </tr>\n",
       "    <tr>\n",
       "      <th>1385</th>\n",
       "      <td>Drake Bell is 'safe' after former Nickelodeon ...</td>\n",
       "      <td>Former Nickelodeon actor Drake Bell, is no lon...</td>\n",
       "      <td>0</td>\n",
       "      <td>[former, nickelodeon, actor, drake, bell, long...</td>\n",
       "    </tr>\n",
       "    <tr>\n",
       "      <th>1386</th>\n",
       "      <td>Mark Wahlberg’s daughter hilariously impersona...</td>\n",
       "      <td>Mark Wahlberg isn’t the only member of his fam...</td>\n",
       "      <td>0</td>\n",
       "      <td>[mark, wahlberg, isn, ’, t, member, famili, kn...</td>\n",
       "    </tr>\n",
       "    <tr>\n",
       "      <th>1387</th>\n",
       "      <td>Webb telescope captures warped space, galaxies...</td>\n",
       "      <td>NASA's James Webb Space Telescope has captured...</td>\n",
       "      <td>0</td>\n",
       "      <td>[nasa, jame, webb, space, telescop, captur, fa...</td>\n",
       "    </tr>\n",
       "  </tbody>\n",
       "</table>\n",
       "<p>1388 rows × 4 columns</p>\n",
       "</div>"
      ],
      "text/plain": [
       "                                                  Title  \\\n",
       "0     Silicon Valley Bank collapse concerns founders...   \n",
       "1     Mother of young boy who shot teacher arrested ...   \n",
       "2     660-mile rescue flight highlights Alaska's uni...   \n",
       "3     Suspect in leak probe talked about God, guns a...   \n",
       "4     New Ram electric pickup can go up to 500 miles...   \n",
       "...                                                 ...   \n",
       "1383  AOC, other pro-choicers want to ignore court r...   \n",
       "1384  IMF trims global growth outlook as banking tur...   \n",
       "1385  Drake Bell is 'safe' after former Nickelodeon ...   \n",
       "1386  Mark Wahlberg’s daughter hilariously impersona...   \n",
       "1387  Webb telescope captures warped space, galaxies...   \n",
       "\n",
       "                                                Content  Source  \\\n",
       "0     The collapse of Silicon Valley Bank, a major f...       1   \n",
       "1     In a shocking turn of events, the mother of th...       1   \n",
       "2     ANCHORAGE, Alaska (AP) — A recent rescue missi...       1   \n",
       "3     WASHINGTON (AP) -- A former U.S. government em...       1   \n",
       "4     The Ram truck brand has been a dominant force ...       1   \n",
       "...                                                 ...     ...   \n",
       "1383  Alexandria Ocasio-Cortez, a heroine on the Lef...       0   \n",
       "1384  The International Monetary Fund on Tuesday cut...       0   \n",
       "1385  Former Nickelodeon actor Drake Bell, is no lon...       0   \n",
       "1386  Mark Wahlberg isn’t the only member of his fam...       0   \n",
       "1387  NASA's James Webb Space Telescope has captured...       0   \n",
       "\n",
       "                                              L_Content  \n",
       "0     [collaps, silicon, valley, bank, major, financ...  \n",
       "1     [shock, turn, event, mother, young, boy, shot,...  \n",
       "2     [anchorag, alaska, ap, —, recent, rescu, missi...  \n",
       "3     [washington, ap, former, us, govern, employe, ...  \n",
       "4     [ram, truck, brand, domin, forc, american, pic...  \n",
       "...                                                 ...  \n",
       "1383  [alexandria, ocasiocortez, heroin, left, like,...  \n",
       "1384  [intern, monetari, fund, tuesday, cut, global,...  \n",
       "1385  [former, nickelodeon, actor, drake, bell, long...  \n",
       "1386  [mark, wahlberg, isn, ’, t, member, famili, kn...  \n",
       "1387  [nasa, jame, webb, space, telescop, captur, fa...  \n",
       "\n",
       "[1388 rows x 4 columns]"
      ]
     },
     "execution_count": 15,
     "metadata": {},
     "output_type": "execute_result"
    }
   ],
   "source": [
    "dataset_final"
   ]
  },
  {
   "attachments": {},
   "cell_type": "markdown",
   "metadata": {},
   "source": [
    "## Naive Bayes Classification"
   ]
  },
  {
   "attachments": {},
   "cell_type": "markdown",
   "metadata": {},
   "source": [
    "#### Create a matrix with every unique word in it"
   ]
  },
  {
   "cell_type": "code",
   "execution_count": 16,
   "metadata": {},
   "outputs": [
    {
     "name": "stderr",
     "output_type": "stream",
     "text": [
      "C:\\Users\\graduate\\AppData\\Local\\Temp\\ipykernel_19128\\2929424380.py:2: SettingWithCopyWarning: \n",
      "A value is trying to be set on a copy of a slice from a DataFrame.\n",
      "Try using .loc[row_indexer,col_indexer] = value instead\n",
      "\n",
      "See the caveats in the documentation: https://pandas.pydata.org/pandas-docs/stable/user_guide/indexing.html#returning-a-view-versus-a-copy\n",
      "  dataset_final['L_Content'] = dataset_final['L_Content'].apply(lambda x: ' '.join(x) if isinstance(x, list) else x)\n",
      "C:\\Users\\graduate\\AppData\\Local\\Temp\\ipykernel_19128\\2929424380.py:4: SettingWithCopyWarning: \n",
      "A value is trying to be set on a copy of a slice from a DataFrame.\n",
      "Try using .loc[row_indexer,col_indexer] = value instead\n",
      "\n",
      "See the caveats in the documentation: https://pandas.pydata.org/pandas-docs/stable/user_guide/indexing.html#returning-a-view-versus-a-copy\n",
      "  dataset_final['L_Content'] = dataset_final['L_Content'].str.lower()\n"
     ]
    }
   ],
   "source": [
    "# Concatenate the list of words into a single string\n",
    "dataset_final['L_Content'] = dataset_final['L_Content'].apply(lambda x: ' '.join(x) if isinstance(x, list) else x)\n",
    "# Convert the 'Content' column to lowercase\n",
    "dataset_final['L_Content'] = dataset_final['L_Content'].str.lower()"
   ]
  },
  {
   "attachments": {},
   "cell_type": "markdown",
   "metadata": {},
   "source": [
    "### Wordcloud creation"
   ]
  },
  {
   "cell_type": "code",
   "execution_count": 29,
   "metadata": {},
   "outputs": [
    {
     "data": {
      "image/png": "[encoded data removed]",
      "text/plain": [
       "<Figure size 1080x576 with 2 Axes>"
      ]
     },
     "metadata": {
      "needs_background": "light"
     },
     "output_type": "display_data"
    }
   ],
   "source": [
    "real_words=dataset_final[dataset_final['Source']==0]\n",
    "ai_words=dataset_final[dataset_final['Source']==1]\n",
    "real_words=real_words['L_Content']\n",
    "ai_words=ai_words['L_Content']\n",
    "real_words_tolist=' '.join(real_words.to_list())\n",
    "ai_words_tolist=' '.join(ai_words.to_list())\n",
    "\n",
    "# Create a WordCloud for real articles object\n",
    "wordcloud_real = WordCloud(background_color='white', width=600, height=300, max_words=80).generate(real_words_tolist)\n",
    "wordcloud_ai = WordCloud(background_color='white', width=600, height=300, max_words=80).generate(ai_words_tolist)\n",
    "\n",
    "# Create a 1x2 subplot\n",
    "plt.figure(figsize=(15, 8))\n",
    "plt.subplot(1, 2, 1)\n",
    "plt.imshow(wordcloud_real, interpolation='bilinear')\n",
    "plt.axis('off')\n",
    "plt.title('word cloud for real articles')\n",
    "plt.subplot(1, 2, 2)\n",
    "plt.imshow(wordcloud_ai, interpolation='bilinear')\n",
    "plt.axis('off')\n",
    "plt.title('word cloud for ai articles')\n",
    "\n",
    "# Adjust subplot spacing\n",
    "plt.subplots_adjust(wspace=0.2)\n",
    "\n",
    "# Show the plot\n",
    "plt.show()"
   ]
  },
  {
   "cell_type": "code",
   "execution_count": 34,
   "metadata": {},
   "outputs": [],
   "source": [
    "cv = CountVectorizer(ngram_range=(1,1), min_df=10)\n",
    "vectorized_content = cv.fit_transform(dataset_final['L_Content'])"
   ]
  },
  {
   "cell_type": "code",
   "execution_count": 35,
   "metadata": {},
   "outputs": [],
   "source": [
    "# Split data into test and training dataset\n",
    "X=vectorized_content\n",
    "y=dataset_final['Source'].values\n",
    "X_train, X_test, y_train, y_test = train_test_split(X, y, test_size=0.2, random_state=42)"
   ]
  },
  {
   "attachments": {},
   "cell_type": "markdown",
   "metadata": {},
   "source": [
    "Naïve Bayes classification produces good results when we use it for textual data analysis such as Natural Language Processing\n",
    "Gaussian NB: When we have continuous attribute values, we made an assumption that the values associated with each class are distributed according to Gaussian or Normal distribution\n",
    "Multinominal NB: Multinomial Naïve Bayes algorithm is preferred to use on data that is multinomially distributed. It is one of the standard algorithms which is used in text categorization classification"
   ]
  },
  {
   "cell_type": "code",
   "execution_count": 36,
   "metadata": {},
   "outputs": [
    {
     "name": "stdout",
     "output_type": "stream",
     "text": [
      "Precision for NB classifier= [0.86363636 0.95967742]\n",
      "Recall for NB classifier= [0.96376812 0.85      ]\n",
      "f-score for NB classifier= [0.9109589  0.90151515]\n",
      "Support for NB classifier= [138 140]\n"
     ]
    }
   ],
   "source": [
    "# Fit data to a multinomial Naive Bayes model\n",
    "clf = MultinomialNB()\n",
    "clf.fit(X_train, y_train)\n",
    "y_pred = clf.predict(X_test)\n",
    "#display(y_pred)\n",
    "p,r,f,s = precision_recall_fscore_support(y_test, y_pred)\n",
    "#print(p, r, f, s)\n",
    "print('Precision for NB classifier=',p)\n",
    "print('Recall for NB classifier=',r)\n",
    "print('f-score for NB classifier=',f)\n",
    "print('Support for NB classifier=',s)\n"
   ]
  },
  {
   "attachments": {},
   "cell_type": "markdown",
   "metadata": {},
   "source": [
    "#### Classification Report"
   ]
  },
  {
   "cell_type": "code",
   "execution_count": 37,
   "metadata": {},
   "outputs": [
    {
     "name": "stdout",
     "output_type": "stream",
     "text": [
      "              precision    recall  f1-score   support\n",
      "\n",
      "           0       0.86      0.96      0.91       138\n",
      "           1       0.96      0.85      0.90       140\n",
      "\n",
      "    accuracy                           0.91       278\n",
      "   macro avg       0.91      0.91      0.91       278\n",
      "weighted avg       0.91      0.91      0.91       278\n",
      "\n"
     ]
    }
   ],
   "source": [
    "from sklearn.metrics import classification_report\n",
    "print(classification_report(y_test, y_pred))"
   ]
  },
  {
   "attachments": {},
   "cell_type": "markdown",
   "metadata": {},
   "source": [
    "### Accuracy claculation"
   ]
  },
  {
   "cell_type": "code",
   "execution_count": 38,
   "metadata": {},
   "outputs": [
    {
     "name": "stdout",
     "output_type": "stream",
     "text": [
      "Training-set accuracy score: 0.9486\n",
      "Model accuracy score: 0.9065\n"
     ]
    }
   ],
   "source": [
    "# Training set accuracy\n",
    "from sklearn.metrics import accuracy_score\n",
    "y_pred_train = clf.predict(X_train)\n",
    "print('Training-set accuracy score: {0:0.4f}'. format(accuracy_score(y_train, y_pred_train)))\n",
    "print('Model accuracy score: {0:0.4f}'. format(accuracy_score(y_test, y_pred)))"
   ]
  },
  {
   "attachments": {},
   "cell_type": "markdown",
   "metadata": {},
   "source": [
    "### Check for overfitting and underfitting"
   ]
  },
  {
   "cell_type": "code",
   "execution_count": 39,
   "metadata": {},
   "outputs": [
    {
     "name": "stdout",
     "output_type": "stream",
     "text": [
      "Training set score: 0.9486\n",
      "Test set score: 0.9065\n"
     ]
    }
   ],
   "source": [
    "#print the scores on training and test set\n",
    "print('Training set score: {:.4f}'.format(clf.score(X_train, y_train)))\n",
    "print('Test set score: {:.4f}'.format(clf.score(X_test, y_test)))"
   ]
  },
  {
   "attachments": {},
   "cell_type": "markdown",
   "metadata": {},
   "source": [
    "### Confusion matrix"
   ]
  },
  {
   "cell_type": "code",
   "execution_count": 40,
   "metadata": {},
   "outputs": [
    {
     "data": {
      "text/plain": [
       "Text(83.40000000000006, 0.5, 'Predicted')"
      ]
     },
     "execution_count": 40,
     "metadata": {},
     "output_type": "execute_result"
    },
    {
     "data": {
      "image/png": "[encoded data removed]",
      "text/plain": [
       "<Figure size 432x288 with 2 Axes>"
      ]
     },
     "metadata": {
      "needs_background": "light"
     },
     "output_type": "display_data"
    }
   ],
   "source": [
    "tn, fp, fn, tp = confusion_matrix(y_test, y_pred).ravel()\n",
    "array = [[tp, fp],[fn, tn]]\n",
    "sns.heatmap(array, annot=True, annot_kws={\"size\": 16}, fmt='d', cmap='YlGnBu', vmin=0, vmax=140, cbar=True, linewidths=0.5, linecolor='k', square=True)\n",
    "sns.despine(left=False, right=False, top=False, bottom=False)\n",
    "plt.xlabel('Actual')\n",
    "plt.ylabel('Predicted')\n",
    "# plt.savefig('1x1.png')"
   ]
  },
  {
   "cell_type": "code",
   "execution_count": 41,
   "metadata": {},
   "outputs": [
    {
     "name": "stdout",
     "output_type": "stream",
     "text": [
      "Classification accuracy : 0.9065\n",
      "Classification error : 0.0935\n"
     ]
    }
   ],
   "source": [
    "# Classification accuracy\n",
    "classification_accuracy = (tp + tn) / float(tp + tn + fp + fn)\n",
    "print('Classification accuracy : {0:0.4f}'.format(classification_accuracy))\n",
    "\n",
    "#Classification error\n",
    "classification_error = (fp + fn) / float(tp + tn + fp + fn)\n",
    "print('Classification error : {0:0.4f}'.format(classification_error))"
   ]
  },
  {
   "cell_type": "code",
   "execution_count": 48,
   "metadata": {},
   "outputs": [
    {
     "name": "stdout",
     "output_type": "stream",
     "text": [
      "Orig article words:\n",
      " ['may need' 'provid inform' 'alreadi face' 'journal natur'\n",
      " 'investig polic' 'individu may' 'fundament right' 'new job'\n",
      " 'measur could' 'outlet report' 'protect public' 'gwinnvillaroel said'\n",
      " 'across us' 'make decis' 'energi sourc' 'player team' 'known role'\n",
      " 'document post' 'industri like' 'govern take' 'come us' 'introduc new'\n",
      " 'announc come' 'fire depart' 'heart diseas' 'player like' 'peopl often'\n",
      " 'batteri charg' 'pandem continu' 'propos would' 'ongo debat' 'citi state'\n",
      " 'ensur countri' 'invad ukrain' 'includ american' 'face charg'\n",
      " 'econom recoveri' 'monday april' 'presidenti elect' 'higher cost'\n",
      " 'minnesota twin' 'despit critic' 'presid donald' 'one big'\n",
      " 'immedi respond' 'motiv behind' 'environment group' 'ongo covid19'\n",
      " 'help bring' 'clear issu']\n",
      "\n",
      "Fake article words:\n",
      " ['may need' 'alreadi face' 'provid inform' 'new job' 'help bring'\n",
      " 'individu may' 'increas access' 'feder law' 'investig polic' 'citi state'\n",
      " 'children book' 'player team' 'player like' 'classifi pentagon'\n",
      " 'fire depart' 'one big' 'gwinnvillaroel said' 'propos would'\n",
      " 'longterm solut' 'journal natur' 'face charg' 'outlet report'\n",
      " 'higher cost' 'fund imf' 'ceo plan' 'care plan' 'environment group'\n",
      " 'heart diseas' 'case say' 'life one' 'offic build' 'presid donald'\n",
      " 'mani user' 'factor may' 'catch up' 'fundament right'\n",
      " 'depart environment' 'measur could' 'protect act' 'also pose'\n",
      " 'protect public' 'level sinc' 'black histori' 'major citi' 'make decis'\n",
      " 'batteri charg' 'cnn monday' 'month later' 'financi stabil' 'mild recess']\n"
     ]
    }
   ],
   "source": [
    "orig_article_sorted = clf.feature_log_prob_[0, :].argsort()[::-1]\n",
    "ai_article_sorted = clf.feature_log_prob_[1, :].argsort()[::-1]\n",
    "print('Orig article words:\\n', np.take(cv.get_feature_names_out(), orig_article_sorted[:50]))\n",
    "print('\\nFake article words:\\n', np.take(cv.get_feature_names_out(), ai_article_sorted[:50]))"
   ]
  },
  {
   "cell_type": "code",
   "execution_count": 49,
   "metadata": {},
   "outputs": [
    {
     "data": {
      "text/plain": [
       "array([3024, 3909,  262, ..., 1720, 2491, 2580], dtype=int64)"
      ]
     },
     "execution_count": 49,
     "metadata": {},
     "output_type": "execute_result"
    }
   ],
   "source": [
    "orig_article_sorted"
   ]
  },
  {
   "attachments": {},
   "cell_type": "markdown",
   "metadata": {},
   "source": [
    "### ROC-AUC\n",
    "ROC Curve\n",
    "Another tool to measure the classification model performance visually is ROC Curve. ROC Curve stands for Receiver Operating Characteristic Curve. An ROC Curve is a plot which shows the performance of a classification model at various classification threshold levels. The ROC Curve plots the True Positive Rate (TPR) against the False Positive Rate (FPR) at various threshold levels. In the ROC Curve, we will focus on the TPR (True Positive Rate) and FPR (False Positive Rate) of a single point. This will give us the general performance of the ROC curve which consists of the TPR and FPR at various threshold levels. So, an ROC Curve plots TPR vs FPR at different classification threshold levels. If we lower the threshold levels, it may result in more items being classified as positve. It will increase both True Positives (TP) and False Positives (FP)."
   ]
  },
  {
   "cell_type": "code",
   "execution_count": 43,
   "metadata": {},
   "outputs": [
    {
     "data": {
      "image/png": "[encoded data removed]",
      "text/plain": [
       "<Figure size 432x288 with 1 Axes>"
      ]
     },
     "metadata": {
      "needs_background": "light"
     },
     "output_type": "display_data"
    }
   ],
   "source": [
    "# plot ROC Curve\n",
    "from sklearn.metrics import roc_curve\n",
    "fpr, tpr, thresholds = roc_curve(y_test,y_pred,pos_label=1)\n",
    "plt.figure(figsize=(6,4))\n",
    "plt.plot(fpr, tpr, linewidth=2)\n",
    "plt.plot([0,1], [0,1], 'k--' )\n",
    "plt.rcParams['font.size'] = 12\n",
    "plt.title('ROC curve for Multinominal NB for Predicting Fake News')\n",
    "plt.xlabel('False Positive Rate (1 - Specificity)')\n",
    "plt.ylabel('True Positive Rate (Sensitivity)')\n",
    "plt.show()"
   ]
  },
  {
   "attachments": {},
   "cell_type": "markdown",
   "metadata": {},
   "source": [
    "ROC AUC\n",
    "ROC AUC stands for Receiver Operating Characteristic - Area Under Curve. It is a technique to compare classifier performance. In this technique, we measure the area under the curve (AUC). A perfect classifier will have a ROC AUC equal to 1, whereas a purely random classifier will have a ROC AUC equal to 0.5.\n",
    "\n",
    "So, ROC AUC is the percentage of the ROC plot that is underneath the curve. ROC AUC is a single number summary of classifier performance. The higher the value, the better the classifier."
   ]
  },
  {
   "cell_type": "code",
   "execution_count": 44,
   "metadata": {},
   "outputs": [
    {
     "name": "stdout",
     "output_type": "stream",
     "text": [
      "ROC AUC : 0.9069\n"
     ]
    }
   ],
   "source": [
    "# compute ROC AUC\n",
    "from sklearn.metrics import roc_auc_score\n",
    "ROC_AUC = roc_auc_score(y_test, y_pred)\n",
    "print('ROC AUC : {:.4f}'.format(ROC_AUC))"
   ]
  },
  {
   "attachments": {},
   "cell_type": "markdown",
   "metadata": {},
   "source": [
    "### k-Fold Cross Validation"
   ]
  },
  {
   "cell_type": "code",
   "execution_count": 45,
   "metadata": {},
   "outputs": [
    {
     "name": "stdout",
     "output_type": "stream",
     "text": [
      "Cross-validation scores:[0.91891892 0.88288288 0.92792793 0.89189189 0.89189189 0.83783784\n",
      " 0.84684685 0.84684685 0.88288288 0.88288288]\n",
      "Average cross-validation score: 0.8811\n"
     ]
    }
   ],
   "source": [
    "# Applying 10-Fold Cross Validation\n",
    "from sklearn.model_selection import cross_val_score\n",
    "scores = cross_val_score(clf, X_train, y_train, cv = 10, scoring='accuracy')\n",
    "print('Cross-validation scores:{}'.format(scores))\n",
    "\n",
    "# compute Average cross-validation score\n",
    "print('Average cross-validation score: {:.4f}'.format(scores.mean()))"
   ]
  },
  {
   "attachments": {},
   "cell_type": "markdown",
   "metadata": {},
   "source": [
    "# Try NB for different combination of words"
   ]
  },
  {
   "attachments": {},
   "cell_type": "markdown",
   "metadata": {},
   "source": [
    "### NB for single versus a pair of words  ngram_range=(1,2)"
   ]
  },
  {
   "cell_type": "code",
   "execution_count": 46,
   "metadata": {},
   "outputs": [
    {
     "name": "stdout",
     "output_type": "stream",
     "text": [
      "Precision for NB classifier= [0.87012987 0.96774194]\n",
      "Recall for NB classifier= [0.97101449 0.85714286]\n",
      "f-score for NB classifier= [0.91780822 0.90909091]\n",
      "Support for NB classifier= [138 140]\n",
      "              precision    recall  f1-score   support\n",
      "\n",
      "           0       0.87      0.97      0.92       138\n",
      "           1       0.97      0.86      0.91       140\n",
      "\n",
      "    accuracy                           0.91       278\n",
      "   macro avg       0.92      0.91      0.91       278\n",
      "weighted avg       0.92      0.91      0.91       278\n",
      "\n",
      "Training set score: 0.9712\n",
      "Test set score: 0.9137\n",
      "Classification accuracy : 0.9137\n",
      "Classification error : 0.0863\n",
      "Orig article words:\n",
      " ['said' 'year' 'also' 'peopl' 'one' 'new' 'it' 'state' 'say' 'time'\n",
      " 'would' 'like' 'accord' 'report' 'get' 'use' 'polic' 'first' 'news'\n",
      " 'last' 'day' 'offic' 'bank' 'includ' 'make' 'us' 'two' 'call' 'told'\n",
      " 'work' 'the' 'go' 'could' 'offici' 'nation' 'health' 'fox' 'show' 'week'\n",
      " 'may' 'shoot' 'famili' 'we' 'take' 'month' 'sinc' 'govern' 'that' 'mani'\n",
      " 'court']\n",
      "\n",
      "Fake article words:\n",
      " ['said' 'also' 'year' 'state' 'mani' 'new' 'need' 'howev' 'one' 'could'\n",
      " 'continu' 'use' 'us' 'countri' 'includ' 'take' 'like' 'work' 'recent'\n",
      " 'peopl' 'health' 'time' 'may' 'issu' 'concern' 'govern' 'come' 'make'\n",
      " 'commun' 'provid' 'support' 'we' 'right' 'help' 'compani' 'it' 'face'\n",
      " 'say' 'world' 'argu' 'would' 'protect' 'challeng' 'remain' 'report'\n",
      " 'call' 'critic' 'signific' 'sever' 'import']\n"
     ]
    },
    {
     "data": {
      "image/png": "[encoded data removed]",
      "text/plain": [
       "<Figure size 432x288 with 2 Axes>"
      ]
     },
     "metadata": {
      "needs_background": "light"
     },
     "output_type": "display_data"
    },
    {
     "data": {
      "image/png": "[encoded data removed]",
      "text/plain": [
       "<Figure size 432x288 with 1 Axes>"
      ]
     },
     "metadata": {
      "needs_background": "light"
     },
     "output_type": "display_data"
    },
    {
     "name": "stdout",
     "output_type": "stream",
     "text": [
      "ROC AUC : 0.9141\n",
      "Cross-validation scores:[0.92792793 0.91891892 0.93693694 0.91891892 0.93693694 0.85585586\n",
      " 0.9009009  0.87387387 0.87387387 0.86486486]\n",
      "Average cross-validation score: 0.9009\n"
     ]
    }
   ],
   "source": [
    "cv = CountVectorizer(ngram_range=(1,2), min_df=5)\n",
    "vectorized_content = cv.fit_transform(dataset_final['L_Content'])\n",
    "\n",
    "# Split data into test and training dataset\n",
    "X1=vectorized_content\n",
    "y1=dataset_final['Source'].values\n",
    "X1_train, X1_test, y1_train, y1_test = train_test_split(X1, y1, test_size=0.2, random_state=42)\n",
    "\n",
    "# Fit data to a multinomial Naive Bayes model\n",
    "clf1 = MultinomialNB()\n",
    "clf1.fit(X1_train, y1_train)\n",
    "y1_pred = clf1.predict(X1_test)\n",
    "#display(y_pred)\n",
    "p1,r1,f1,s1 = precision_recall_fscore_support(y1_test, y1_pred)\n",
    "#print(p1, r1, f1, s1)\n",
    "print('Precision for NB classifier=',p1)\n",
    "print('Recall for NB classifier=',r1)\n",
    "print('f-score for NB classifier=',f1)\n",
    "print('Support for NB classifier=',s1)\n",
    "\n",
    "#classification report\n",
    "from sklearn.metrics import classification_report\n",
    "print(classification_report(y1_test, y1_pred))\n",
    "\n",
    "#check for overfitting or underfitting (training accuracy is greater than testing : undefitting and vice versa)\n",
    "#print the scores on training and test set\n",
    "print('Training set score: {:.4f}'.format(clf1.score(X1_train, y1_train)))\n",
    "print('Test set score: {:.4f}'.format(clf1.score(X1_test, y1_test)))\n",
    "\n",
    "#confusion matrix\n",
    "tn1, fp1, fn1, tp1 = confusion_matrix(y1_test, y1_pred).ravel()\n",
    "array = [[tp1, fp1],[fn1, tn1]]\n",
    "sns.heatmap(array, annot=True, annot_kws={\"size\": 16}, fmt='d', cmap='YlGnBu', vmin=0, vmax=140, cbar=True, linewidths=0.5, linecolor='k', square=True)\n",
    "sns.despine(left=False, right=False, top=False, bottom=False)\n",
    "plt.xlabel('Actual')\n",
    "plt.ylabel('Predicted')\n",
    "# plt.savefig('1x1.png')\n",
    "\n",
    "# Classification accuracy\n",
    "classification_accuracy1 = (tp1 + tn1) / float(tp1 + tn1 + fp1 + fn1)\n",
    "print('Classification accuracy : {0:0.4f}'.format(classification_accuracy1))\n",
    "\n",
    "#Classification error\n",
    "classification_error1 = (fp1 + fn1) / float(tp1 + tn1 + fp1 + fn1)\n",
    "print('Classification error : {0:0.4f}'.format(classification_error1))\n",
    "\n",
    "\n",
    "#print the most used words for both original and fake articles\n",
    "orig_article_sorted1 = clf1.feature_log_prob_[0, :].argsort()[::-1]\n",
    "ai_article_sorted1 = clf1.feature_log_prob_[1, :].argsort()[::-1]\n",
    "print('Orig article words:\\n', np.take(cv.get_feature_names_out(), orig_article_sorted1[:50]))\n",
    "print('\\nFake article words:\\n', np.take(cv.get_feature_names_out(), ai_article_sorted1[:50]))\n",
    "\n",
    "# plot ROC Curve\n",
    "from sklearn.metrics import roc_curve\n",
    "fpr1, tpr1, thresholds = roc_curve(y1_test,y1_pred,pos_label=1)\n",
    "plt.figure(figsize=(6,4))\n",
    "plt.plot(fpr1, tpr1, linewidth=2)\n",
    "plt.plot([0,1], [0,1], 'k--' )\n",
    "plt.rcParams['font.size'] = 12\n",
    "plt.title('ROC curve for Multinominal NB for Predicting Fake News')\n",
    "plt.xlabel('False Positive Rate (1 - Specificity)')\n",
    "plt.ylabel('True Positive Rate (Sensitivity)')\n",
    "plt.show()\n",
    "\n",
    "# compute ROC AUC\n",
    "from sklearn.metrics import roc_auc_score\n",
    "ROC_AUC1 = roc_auc_score(y1_test, y1_pred)\n",
    "print('ROC AUC : {:.4f}'.format(ROC_AUC1))\n",
    "\n",
    "# Applying 10-Fold Cross Validation\n",
    "from sklearn.model_selection import cross_val_score\n",
    "scores1 = cross_val_score(clf1, X1_train, y1_train, cv = 10, scoring='accuracy')\n",
    "print('Cross-validation scores:{}'.format(scores1))\n",
    "\n",
    "# compute Average cross-validation score\n",
    "print('Average cross-validation score: {:.4f}'.format(scores1.mean()))\n"
   ]
  },
  {
   "attachments": {},
   "cell_type": "markdown",
   "metadata": {},
   "source": [
    "### NB for pair of words  ngram_range=(2,2)"
   ]
  },
  {
   "cell_type": "code",
   "execution_count": 47,
   "metadata": {},
   "outputs": [
    {
     "name": "stdout",
     "output_type": "stream",
     "text": [
      "Precision for NB classifier= [0.89655172 0.93984962]\n",
      "Recall for NB classifier= [0.94202899 0.89285714]\n",
      "f-score for NB classifier= [0.91872792 0.91575092]\n",
      "Support for NB classifier= [138 140]\n",
      "              precision    recall  f1-score   support\n",
      "\n",
      "           0       0.90      0.94      0.92       138\n",
      "           1       0.94      0.89      0.92       140\n",
      "\n",
      "    accuracy                           0.92       278\n",
      "   macro avg       0.92      0.92      0.92       278\n",
      "weighted avg       0.92      0.92      0.92       278\n",
      "\n",
      "Training set score: 0.9667\n",
      "Test set score: 0.9173\n",
      "Classification accuracy : 0.9173\n",
      "Classification error : 0.0827\n",
      "Orig article words:\n",
      " ['fox news' 'last year' 'new york' 'click get' 'get fox' 'news app'\n",
      " 'told cnn' 'news digit' 'unit state' 'social media' 'last month'\n",
      " 'associ press' 'said statement' 'polic depart' 'offici said' 'last week'\n",
      " 'told fox' 'valentin day' 'we re' 'polic said' 'old nation' 'gun violenc'\n",
      " 'nation bank' 'first time' 'polic offic' 'health care' 'year ago'\n",
      " 'they re' 'press releas' 'louisvil metro' 'suprem court' 'metro polic'\n",
      " 'mass shoot' 'lo angel' 'new jersey' 'click sign' 'law enforc'\n",
      " 'news confer' 'can not' 'contribut report' 'interest rate'\n",
      " 'biden administr' 'south korea' 'white hous' 'you re' 'said it'\n",
      " 'two year' 'high school' 'said dr' 'joe biden']\n",
      "\n",
      "Fake article words:\n",
      " ['unit state' 'social media' 'recent year' 'new york' 'we need'\n",
      " 'covid19 pandem' 'mental health' 'suprem court' 'around world'\n",
      " 'law enforc' 'nation secur' 'climat chang' 'renew energi' 'electr vehicl'\n",
      " 'human right' 'last year' 'can not' 'remain seen' 'across countri'\n",
      " 'reproduct right' 'could lead' 'said statement' 'said we' 'challeng face'\n",
      " 'work togeth' 'biden administr' 'classifi inform' 'health care'\n",
      " 'rais concern' 'step toward' 'take step' 'despit challeng'\n",
      " 'public health' 'fox news' 'gun violenc' 'serv remind' 'take action'\n",
      " 'eat disord' 'express concern' 'said it' 'rais question' 'global economi'\n",
      " 'death penalti' 'econom growth' 'health issu' 'san francisco'\n",
      " 'access abort' 'gun control' 'intern commun' 'judiciari committe']\n"
     ]
    },
    {
     "data": {
      "image/png": "[encoded data removed]",
      "text/plain": [
       "<Figure size 432x288 with 2 Axes>"
      ]
     },
     "metadata": {
      "needs_background": "light"
     },
     "output_type": "display_data"
    },
    {
     "data": {
      "image/png": "[encoded data removed]",
      "text/plain": [
       "<Figure size 432x288 with 1 Axes>"
      ]
     },
     "metadata": {
      "needs_background": "light"
     },
     "output_type": "display_data"
    },
    {
     "name": "stdout",
     "output_type": "stream",
     "text": [
      "ROC AUC : 0.9174\n",
      "Cross-validation scores:[0.93693694 0.91891892 0.90990991 0.90990991 0.89189189 0.85585586\n",
      " 0.87387387 0.90990991 0.89189189 0.89189189]\n",
      "Average cross-validation score: 0.8991\n"
     ]
    }
   ],
   "source": [
    "cv = CountVectorizer(ngram_range=(2,2), min_df=5)\n",
    "vectorized_content = cv.fit_transform(dataset_final['L_Content'])\n",
    "\n",
    "# Split data into test and training dataset\n",
    "X2=vectorized_content\n",
    "y2=dataset_final['Source'].values\n",
    "X2_train, X2_test, y2_train, y2_test = train_test_split(X2, y2, test_size=0.2, random_state=42)\n",
    "\n",
    "# Fit data to a multinomial Naive Bayes model\n",
    "clf2 = MultinomialNB()\n",
    "clf2.fit(X2_train, y2_train)\n",
    "y2_pred = clf2.predict(X2_test)\n",
    "#display(y_pred)\n",
    "p2,r2,f2,s2 = precision_recall_fscore_support(y2_test, y2_pred)\n",
    "#print(p1, r1, f1, s1)\n",
    "print('Precision for NB classifier=',p2)\n",
    "print('Recall for NB classifier=',r2)\n",
    "print('f-score for NB classifier=',f2)\n",
    "print('Support for NB classifier=',s2)\n",
    "\n",
    "#classification report\n",
    "from sklearn.metrics import classification_report\n",
    "print(classification_report(y2_test, y2_pred))\n",
    "\n",
    "#check for overfitting or underfitting (training accuracy is greater than testing : undefitting and vice versa)\n",
    "#print the scores on training and test set\n",
    "print('Training set score: {:.4f}'.format(clf2.score(X2_train, y2_train)))\n",
    "print('Test set score: {:.4f}'.format(clf2.score(X2_test, y2_test)))\n",
    "\n",
    "#confusion matrix\n",
    "tn2, fp2, fn2, tp2 = confusion_matrix(y2_test, y2_pred).ravel()\n",
    "array = [[tp2, fp2],[fn2, tn2]]\n",
    "sns.heatmap(array, annot=True, annot_kws={\"size\": 16}, fmt='d', cmap='YlGnBu', vmin=0, vmax=140, cbar=True, linewidths=0.5, linecolor='k', square=True)\n",
    "sns.despine(left=False, right=False, top=False, bottom=False)\n",
    "plt.xlabel('Actual')\n",
    "plt.ylabel('Predicted')\n",
    "# plt.savefig('1x1.png')\n",
    "\n",
    "# Classification accuracy\n",
    "classification_accuracy2 = (tp2 + tn2) / float(tp2 + tn2 + fp2 + fn2)\n",
    "print('Classification accuracy : {0:0.4f}'.format(classification_accuracy2))\n",
    "\n",
    "#Classification error\n",
    "classification_error2 = (fp2 + fn2) / float(tp2 + tn2 + fp2 + fn2)\n",
    "print('Classification error : {0:0.4f}'.format(classification_error2))\n",
    "\n",
    "\n",
    "#print the most used words for both original and fake articles\n",
    "orig_article_sorted2 = clf2.feature_log_prob_[0, :].argsort()[::-1]\n",
    "ai_article_sorted2 = clf2.feature_log_prob_[1, :].argsort()[::-1]\n",
    "print('Orig article words:\\n', np.take(cv.get_feature_names_out(), orig_article_sorted2[:50]))\n",
    "print('\\nFake article words:\\n', np.take(cv.get_feature_names_out(), ai_article_sorted2[:50]))\n",
    "\n",
    "# plot ROC Curve\n",
    "from sklearn.metrics import roc_curve\n",
    "fpr2, tpr2, thresholds = roc_curve(y2_test,y2_pred,pos_label=1)\n",
    "plt.figure(figsize=(6,4))\n",
    "plt.plot(fpr2, tpr2, linewidth=2)\n",
    "plt.plot([0,1], [0,1], 'k--' )\n",
    "plt.rcParams['font.size'] = 12\n",
    "plt.title('ROC curve for Multinominal NB for Predicting Fake News')\n",
    "plt.xlabel('False Positive Rate (1 - Specificity)')\n",
    "plt.ylabel('True Positive Rate (Sensitivity)')\n",
    "plt.show()\n",
    "\n",
    "# compute ROC AUC\n",
    "from sklearn.metrics import roc_auc_score\n",
    "ROC_AUC2 = roc_auc_score(y2_test, y2_pred)\n",
    "print('ROC AUC : {:.4f}'.format(ROC_AUC2))\n",
    "\n",
    "# Applying 10-Fold Cross Validation\n",
    "from sklearn.model_selection import cross_val_score\n",
    "scores2 = cross_val_score(clf2, X2_train, y2_train, cv = 10, scoring='accuracy')\n",
    "print('Cross-validation scores:{}'.format(scores2))\n",
    "\n",
    "# compute Average cross-validation score\n",
    "print('Average cross-validation score: {:.4f}'.format(scores2.mean()))"
   ]
  }
 ],
 "metadata": {
  "kernelspec": {
   "display_name": "Python 3",
   "language": "python",
   "name": "python3"
  },
  "language_info": {
   "codemirror_mode": {
    "name": "ipython",
    "version": 3
   },
   "file_extension": ".py",
   "mimetype": "text/x-python",
   "name": "python",
   "nbconvert_exporter": "python",
   "pygments_lexer": "ipython3",
   "version": "3.10.4"
  },
  "orig_nbformat": 4
 },
 "nbformat": 4,
 "nbformat_minor": 2
}
