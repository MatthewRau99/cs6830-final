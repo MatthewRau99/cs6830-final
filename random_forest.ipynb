{
 "cells": [
  {
   "attachments": {},
   "cell_type": "markdown",
   "metadata": {},
   "source": [
    "# Random Forest"
   ]
  },
  {
   "cell_type": "code",
   "execution_count": 1,
   "metadata": {},
   "outputs": [],
   "source": [
    "import pandas as pd\n",
    "from sklearn.feature_extraction.text import CountVectorizer\n",
    "from sklearn.model_selection import train_test_split\n",
    "from sklearn.tree import DecisionTreeClassifier, plot_tree\n",
    "from graphviz import Source\n",
    "from sklearn import tree\n",
    "from IPython.display import SVG\n",
    "from sklearn.ensemble import RandomForestRegressor\n",
    "from sklearn.metrics import classification_report,confusion_matrix\n"
   ]
  },
  {
   "cell_type": "code",
   "execution_count": 2,
   "metadata": {},
   "outputs": [],
   "source": [
    "df = pd.read_csv(\"processed_data.csv\")"
   ]
  },
  {
   "cell_type": "code",
   "execution_count": 3,
   "metadata": {},
   "outputs": [],
   "source": [
    "# Concatenate the list of words into a single string\n",
    "df['L_Content'] = df['L_Content'].apply(lambda x: ' '.join(x) if isinstance(x, list) else x)\n",
    "# Convert the 'Content' column to lowercase\n",
    "df['L_Content'] = df['L_Content'].str.lower()"
   ]
  },
  {
   "cell_type": "code",
   "execution_count": 4,
   "metadata": {},
   "outputs": [],
   "source": [
    "cv = CountVectorizer(ngram_range=(1,2), min_df=10)\n",
    "vectorized_content = cv.fit_transform(df['L_Content'])"
   ]
  },
  {
   "cell_type": "code",
   "execution_count": 5,
   "metadata": {},
   "outputs": [],
   "source": [
    "# Split data into test and training dataset\n",
    "X=vectorized_content\n",
    "# x=x.merge()\n",
    "y=df['Source'].values\n",
    "X_train, X_test, y_train, y_test = train_test_split(X, y, test_size=0.2)"
   ]
  },
  {
   "cell_type": "code",
   "execution_count": 6,
   "metadata": {},
   "outputs": [
    {
     "name": "stdout",
     "output_type": "stream",
     "text": [
      "[[103  36]\n",
      " [ 12 127]]\n",
      "              precision    recall  f1-score   support\n",
      "\n",
      "           0       0.90      0.74      0.81       139\n",
      "           1       0.78      0.91      0.84       139\n",
      "\n",
      "    accuracy                           0.83       278\n",
      "   macro avg       0.84      0.83      0.83       278\n",
      "weighted avg       0.84      0.83      0.83       278\n",
      "\n"
     ]
    }
   ],
   "source": [
    "treeclf = DecisionTreeClassifier(max_depth=4)\n",
    "treeclf.fit(X_train, y_train)\n",
    "graph = Source(tree.export_graphviz(treeclf, out_file=None))\n",
    "                                    # feature_names=feature_cols,\n",
    "                                    # class_names=['Y', 'C', 'X', 'A', 'B'], filled = True))\n",
    "\n",
    "svg = SVG(graph.pipe(format='svg'))\n",
    "# display(svg)\n",
    "y_pred = treeclf.predict(X_test)\n",
    "print(confusion_matrix(y_test,y_pred))\n",
    "print(classification_report(y_test,y_pred))"
   ]
  },
  {
   "cell_type": "code",
   "execution_count": 7,
   "metadata": {},
   "outputs": [
    {
     "data": {
      "text/html": [
       "<style>#sk-container-id-1 {color: black;background-color: white;}#sk-container-id-1 pre{padding: 0;}#sk-container-id-1 div.sk-toggleable {background-color: white;}#sk-container-id-1 label.sk-toggleable__label {cursor: pointer;display: block;width: 100%;margin-bottom: 0;padding: 0.3em;box-sizing: border-box;text-align: center;}#sk-container-id-1 label.sk-toggleable__label-arrow:before {content: \"▸\";float: left;margin-right: 0.25em;color: #696969;}#sk-container-id-1 label.sk-toggleable__label-arrow:hover:before {color: black;}#sk-container-id-1 div.sk-estimator:hover label.sk-toggleable__label-arrow:before {color: black;}#sk-container-id-1 div.sk-toggleable__content {max-height: 0;max-width: 0;overflow: hidden;text-align: left;background-color: #f0f8ff;}#sk-container-id-1 div.sk-toggleable__content pre {margin: 0.2em;color: black;border-radius: 0.25em;background-color: #f0f8ff;}#sk-container-id-1 input.sk-toggleable__control:checked~div.sk-toggleable__content {max-height: 200px;max-width: 100%;overflow: auto;}#sk-container-id-1 input.sk-toggleable__control:checked~label.sk-toggleable__label-arrow:before {content: \"▾\";}#sk-container-id-1 div.sk-estimator input.sk-toggleable__control:checked~label.sk-toggleable__label {background-color: #d4ebff;}#sk-container-id-1 div.sk-label input.sk-toggleable__control:checked~label.sk-toggleable__label {background-color: #d4ebff;}#sk-container-id-1 input.sk-hidden--visually {border: 0;clip: rect(1px 1px 1px 1px);clip: rect(1px, 1px, 1px, 1px);height: 1px;margin: -1px;overflow: hidden;padding: 0;position: absolute;width: 1px;}#sk-container-id-1 div.sk-estimator {font-family: monospace;background-color: #f0f8ff;border: 1px dotted black;border-radius: 0.25em;box-sizing: border-box;margin-bottom: 0.5em;}#sk-container-id-1 div.sk-estimator:hover {background-color: #d4ebff;}#sk-container-id-1 div.sk-parallel-item::after {content: \"\";width: 100%;border-bottom: 1px solid gray;flex-grow: 1;}#sk-container-id-1 div.sk-label:hover label.sk-toggleable__label {background-color: #d4ebff;}#sk-container-id-1 div.sk-serial::before {content: \"\";position: absolute;border-left: 1px solid gray;box-sizing: border-box;top: 0;bottom: 0;left: 50%;z-index: 0;}#sk-container-id-1 div.sk-serial {display: flex;flex-direction: column;align-items: center;background-color: white;padding-right: 0.2em;padding-left: 0.2em;position: relative;}#sk-container-id-1 div.sk-item {position: relative;z-index: 1;}#sk-container-id-1 div.sk-parallel {display: flex;align-items: stretch;justify-content: center;background-color: white;position: relative;}#sk-container-id-1 div.sk-item::before, #sk-container-id-1 div.sk-parallel-item::before {content: \"\";position: absolute;border-left: 1px solid gray;box-sizing: border-box;top: 0;bottom: 0;left: 50%;z-index: -1;}#sk-container-id-1 div.sk-parallel-item {display: flex;flex-direction: column;z-index: 1;position: relative;background-color: white;}#sk-container-id-1 div.sk-parallel-item:first-child::after {align-self: flex-end;width: 50%;}#sk-container-id-1 div.sk-parallel-item:last-child::after {align-self: flex-start;width: 50%;}#sk-container-id-1 div.sk-parallel-item:only-child::after {width: 0;}#sk-container-id-1 div.sk-dashed-wrapped {border: 1px dashed gray;margin: 0 0.4em 0.5em 0.4em;box-sizing: border-box;padding-bottom: 0.4em;background-color: white;}#sk-container-id-1 div.sk-label label {font-family: monospace;font-weight: bold;display: inline-block;line-height: 1.2em;}#sk-container-id-1 div.sk-label-container {text-align: center;}#sk-container-id-1 div.sk-container {/* jupyter's `normalize.less` sets `[hidden] { display: none; }` but bootstrap.min.css set `[hidden] { display: none !important; }` so we also need the `!important` here to be able to override the default hidden behavior on the sphinx rendered scikit-learn.org. See: https://github.com/scikit-learn/scikit-learn/issues/21755 */display: inline-block !important;position: relative;}#sk-container-id-1 div.sk-text-repr-fallback {display: none;}</style><div id=\"sk-container-id-1\" class=\"sk-top-container\"><div class=\"sk-text-repr-fallback\"><pre>RandomForestRegressor(max_depth=7, n_estimators=1000)</pre><b>In a Jupyter environment, please rerun this cell to show the HTML representation or trust the notebook. <br />On GitHub, the HTML representation is unable to render, please try loading this page with nbviewer.org.</b></div><div class=\"sk-container\" hidden><div class=\"sk-item\"><div class=\"sk-estimator sk-toggleable\"><input class=\"sk-toggleable__control sk-hidden--visually\" id=\"sk-estimator-id-1\" type=\"checkbox\" checked><label for=\"sk-estimator-id-1\" class=\"sk-toggleable__label sk-toggleable__label-arrow\">RandomForestRegressor</label><div class=\"sk-toggleable__content\"><pre>RandomForestRegressor(max_depth=7, n_estimators=1000)</pre></div></div></div></div></div>"
      ],
      "text/plain": [
       "RandomForestRegressor(max_depth=7, n_estimators=1000)"
      ]
     },
     "execution_count": 7,
     "metadata": {},
     "output_type": "execute_result"
    }
   ],
   "source": [
    "rf = RandomForestRegressor(n_estimators = 1000, max_depth=7)\n",
    "rf.fit(X_train, y_train)"
   ]
  },
  {
   "cell_type": "code",
   "execution_count": 8,
   "metadata": {},
   "outputs": [
    {
     "name": "stdout",
     "output_type": "stream",
     "text": [
      "[[118  21]\n",
      " [ 15 124]]\n",
      "              precision    recall  f1-score   support\n",
      "\n",
      "           0       0.89      0.85      0.87       139\n",
      "           1       0.86      0.89      0.87       139\n",
      "\n",
      "    accuracy                           0.87       278\n",
      "   macro avg       0.87      0.87      0.87       278\n",
      "weighted avg       0.87      0.87      0.87       278\n",
      "\n"
     ]
    }
   ],
   "source": [
    "y_pred = rf.predict(X_test)\n",
    "y_pred = [round(y) for y in y_pred]\n",
    "print(confusion_matrix(y_test,y_pred))\n",
    "print(classification_report(y_test,y_pred))"
   ]
  },
  {
   "cell_type": "code",
   "execution_count": 9,
   "metadata": {},
   "outputs": [
    {
     "data": {
      "text/html": [
       "<div>\n",
       "<style scoped>\n",
       "    .dataframe tbody tr th:only-of-type {\n",
       "        vertical-align: middle;\n",
       "    }\n",
       "\n",
       "    .dataframe tbody tr th {\n",
       "        vertical-align: top;\n",
       "    }\n",
       "\n",
       "    .dataframe thead th {\n",
       "        text-align: right;\n",
       "    }\n",
       "</style>\n",
       "<table border=\"1\" class=\"dataframe\">\n",
       "  <thead>\n",
       "    <tr style=\"text-align: right;\">\n",
       "      <th></th>\n",
       "      <th>Unnamed: 0</th>\n",
       "      <th>Title</th>\n",
       "      <th>Content</th>\n",
       "      <th>Source</th>\n",
       "      <th>L_Content</th>\n",
       "    </tr>\n",
       "  </thead>\n",
       "  <tbody>\n",
       "    <tr>\n",
       "      <th>0</th>\n",
       "      <td>0</td>\n",
       "      <td>Silicon Valley Bank collapse concerns founders...</td>\n",
       "      <td>The collapse of Silicon Valley Bank, a major f...</td>\n",
       "      <td>1</td>\n",
       "      <td>['collaps', 'silicon', 'valley', 'bank', 'majo...</td>\n",
       "    </tr>\n",
       "    <tr>\n",
       "      <th>1</th>\n",
       "      <td>1</td>\n",
       "      <td>Mother of young boy who shot teacher arrested ...</td>\n",
       "      <td>In a shocking turn of events, the mother of th...</td>\n",
       "      <td>1</td>\n",
       "      <td>['shock', 'turn', 'event', 'mother', 'young', ...</td>\n",
       "    </tr>\n",
       "    <tr>\n",
       "      <th>2</th>\n",
       "      <td>2</td>\n",
       "      <td>660-mile rescue flight highlights Alaska's uni...</td>\n",
       "      <td>ANCHORAGE, Alaska (AP) — A recent rescue missi...</td>\n",
       "      <td>1</td>\n",
       "      <td>['anchorag', 'alaska', 'ap', '—', 'recent', 'r...</td>\n",
       "    </tr>\n",
       "    <tr>\n",
       "      <th>3</th>\n",
       "      <td>3</td>\n",
       "      <td>Suspect in leak probe talked about God, guns a...</td>\n",
       "      <td>WASHINGTON (AP) -- A former U.S. government em...</td>\n",
       "      <td>1</td>\n",
       "      <td>['washington', 'ap', 'former', 'us', 'govern',...</td>\n",
       "    </tr>\n",
       "    <tr>\n",
       "      <th>4</th>\n",
       "      <td>4</td>\n",
       "      <td>New Ram electric pickup can go up to 500 miles...</td>\n",
       "      <td>The Ram truck brand has been a dominant force ...</td>\n",
       "      <td>1</td>\n",
       "      <td>['ram', 'truck', 'brand', 'domin', 'forc', 'am...</td>\n",
       "    </tr>\n",
       "    <tr>\n",
       "      <th>...</th>\n",
       "      <td>...</td>\n",
       "      <td>...</td>\n",
       "      <td>...</td>\n",
       "      <td>...</td>\n",
       "      <td>...</td>\n",
       "    </tr>\n",
       "    <tr>\n",
       "      <th>1383</th>\n",
       "      <td>1383</td>\n",
       "      <td>AOC, other pro-choicers want to ignore court r...</td>\n",
       "      <td>Alexandria Ocasio-Cortez, a heroine on the Lef...</td>\n",
       "      <td>0</td>\n",
       "      <td>['alexandria', 'ocasiocortez', 'heroin', 'left...</td>\n",
       "    </tr>\n",
       "    <tr>\n",
       "      <th>1384</th>\n",
       "      <td>1384</td>\n",
       "      <td>IMF trims global growth outlook as banking tur...</td>\n",
       "      <td>The International Monetary Fund on Tuesday cut...</td>\n",
       "      <td>0</td>\n",
       "      <td>['intern', 'monetari', 'fund', 'tuesday', 'cut...</td>\n",
       "    </tr>\n",
       "    <tr>\n",
       "      <th>1385</th>\n",
       "      <td>1385</td>\n",
       "      <td>Drake Bell is 'safe' after former Nickelodeon ...</td>\n",
       "      <td>Former Nickelodeon actor Drake Bell, is no lon...</td>\n",
       "      <td>0</td>\n",
       "      <td>['former', 'nickelodeon', 'actor', 'drake', 'b...</td>\n",
       "    </tr>\n",
       "    <tr>\n",
       "      <th>1386</th>\n",
       "      <td>1386</td>\n",
       "      <td>Mark Wahlberg’s daughter hilariously impersona...</td>\n",
       "      <td>Mark Wahlberg isn’t the only member of his fam...</td>\n",
       "      <td>0</td>\n",
       "      <td>['mark', 'wahlberg', 'isn', '’', 't', 'member'...</td>\n",
       "    </tr>\n",
       "    <tr>\n",
       "      <th>1387</th>\n",
       "      <td>1387</td>\n",
       "      <td>Webb telescope captures warped space, galaxies...</td>\n",
       "      <td>NASA's James Webb Space Telescope has captured...</td>\n",
       "      <td>0</td>\n",
       "      <td>['nasa', 'jame', 'webb', 'space', 'telescop', ...</td>\n",
       "    </tr>\n",
       "  </tbody>\n",
       "</table>\n",
       "<p>1388 rows × 5 columns</p>\n",
       "</div>"
      ],
      "text/plain": [
       "      Unnamed: 0                                              Title  \\\n",
       "0              0  Silicon Valley Bank collapse concerns founders...   \n",
       "1              1  Mother of young boy who shot teacher arrested ...   \n",
       "2              2  660-mile rescue flight highlights Alaska's uni...   \n",
       "3              3  Suspect in leak probe talked about God, guns a...   \n",
       "4              4  New Ram electric pickup can go up to 500 miles...   \n",
       "...          ...                                                ...   \n",
       "1383        1383  AOC, other pro-choicers want to ignore court r...   \n",
       "1384        1384  IMF trims global growth outlook as banking tur...   \n",
       "1385        1385  Drake Bell is 'safe' after former Nickelodeon ...   \n",
       "1386        1386  Mark Wahlberg’s daughter hilariously impersona...   \n",
       "1387        1387  Webb telescope captures warped space, galaxies...   \n",
       "\n",
       "                                                Content  Source  \\\n",
       "0     The collapse of Silicon Valley Bank, a major f...       1   \n",
       "1     In a shocking turn of events, the mother of th...       1   \n",
       "2     ANCHORAGE, Alaska (AP) — A recent rescue missi...       1   \n",
       "3     WASHINGTON (AP) -- A former U.S. government em...       1   \n",
       "4     The Ram truck brand has been a dominant force ...       1   \n",
       "...                                                 ...     ...   \n",
       "1383  Alexandria Ocasio-Cortez, a heroine on the Lef...       0   \n",
       "1384  The International Monetary Fund on Tuesday cut...       0   \n",
       "1385  Former Nickelodeon actor Drake Bell, is no lon...       0   \n",
       "1386  Mark Wahlberg isn’t the only member of his fam...       0   \n",
       "1387  NASA's James Webb Space Telescope has captured...       0   \n",
       "\n",
       "                                              L_Content  \n",
       "0     ['collaps', 'silicon', 'valley', 'bank', 'majo...  \n",
       "1     ['shock', 'turn', 'event', 'mother', 'young', ...  \n",
       "2     ['anchorag', 'alaska', 'ap', '—', 'recent', 'r...  \n",
       "3     ['washington', 'ap', 'former', 'us', 'govern',...  \n",
       "4     ['ram', 'truck', 'brand', 'domin', 'forc', 'am...  \n",
       "...                                                 ...  \n",
       "1383  ['alexandria', 'ocasiocortez', 'heroin', 'left...  \n",
       "1384  ['intern', 'monetari', 'fund', 'tuesday', 'cut...  \n",
       "1385  ['former', 'nickelodeon', 'actor', 'drake', 'b...  \n",
       "1386  ['mark', 'wahlberg', 'isn', '’', 't', 'member'...  \n",
       "1387  ['nasa', 'jame', 'webb', 'space', 'telescop', ...  \n",
       "\n",
       "[1388 rows x 5 columns]"
      ]
     },
     "execution_count": 9,
     "metadata": {},
     "output_type": "execute_result"
    }
   ],
   "source": [
    "df"
   ]
  },
  {
   "cell_type": "code",
   "execution_count": 36,
   "metadata": {},
   "outputs": [],
   "source": [
    "# a = a.merge(b, left_index=True, right_index=True, how='left')\n"
   ]
  }
 ],
 "metadata": {
  "kernelspec": {
   "display_name": "Python 3",
   "language": "python",
   "name": "python3"
  },
  "language_info": {
   "codemirror_mode": {
    "name": "ipython",
    "version": 3
   },
   "file_extension": ".py",
   "mimetype": "text/x-python",
   "name": "python",
   "nbconvert_exporter": "python",
   "pygments_lexer": "ipython3",
   "version": "3.10.4"
  },
  "orig_nbformat": 4
 },
 "nbformat": 4,
 "nbformat_minor": 2
}
